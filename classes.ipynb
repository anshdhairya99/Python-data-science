{
 "cells": [
  {
   "cell_type": "markdown",
   "metadata": {},
   "source": [
    "- Classes in Python :--"
   ]
  },
  {
   "cell_type": "code",
   "execution_count": 2,
   "metadata": {},
   "outputs": [],
   "source": [
    "class cat:\n",
    "    def __init__(self):\n",
    "        print(\"The class constructor\")\n",
    "    "
   ]
  },
  {
   "cell_type": "code",
   "execution_count": 3,
   "metadata": {},
   "outputs": [
    {
     "name": "stdout",
     "output_type": "stream",
     "text": [
      "The class constructor\n",
      "<__main__.cat object at 0x000001DD0F4BD030>\n",
      "<class '__main__.cat'>\n"
     ]
    }
   ],
   "source": [
    "\n",
    "c1 = cat()\n",
    "print(c1)\n",
    "print(type(c1))\n"
   ]
  },
  {
   "cell_type": "code",
   "execution_count": 4,
   "metadata": {},
   "outputs": [],
   "source": [
    "class  Student:\n",
    "    def __init__(self, name, klass, Rollno, stream= \"bio\"):\n",
    "        self.name = name\n",
    "        self. klass = klass\n",
    "        self.Rollno = Rollno\n",
    "        self.stream = stream\n",
    "        self.marks = {} # property of the class\n",
    "\n",
    "    def think(self, object):\n",
    "        print(f\"I am thinking about{object}\")\n",
    "        print(f\"{self.name} is thinking about{object}\")\n",
    "\n",
    "    def setMarks(self, subject, value):\n",
    "     self.marks[subject] = value    \n",
    "\n",
    "\n",
    "\n",
    "        "
   ]
  },
  {
   "cell_type": "code",
   "execution_count": 5,
   "metadata": {},
   "outputs": [],
   "source": [
    "ansh = Student(\"Ansh\", 12, '11', \"CSE\")\n",
    "anmol = Student(\"Anmol\", 44, '15')\n",
    "\n",
    "anmol.setMarks('Hindi', 90)\n",
    "anmol.setMarks('English',45)\n",
    "anmol.setMarks('Math', 59)\n",
    "\n",
    "ansh.setMarks('Hindi', 808)\n",
    "ansh.setMarks('English', 88)\n",
    "ansh.setMarks('Math', 80)\n",
    "\n"
   ]
  },
  {
   "cell_type": "code",
   "execution_count": 6,
   "metadata": {},
   "outputs": [
    {
     "name": "stdout",
     "output_type": "stream",
     "text": [
      "{'Hindi': 808, 'English': 88, 'Math': 80}\n",
      "{'Hindi': 90, 'English': 45, 'Math': 59}\n"
     ]
    }
   ],
   "source": [
    "print(ansh.marks)\n",
    "print(anmol.marks)"
   ]
  },
  {
   "cell_type": "code",
   "execution_count": 7,
   "metadata": {},
   "outputs": [
    {
     "name": "stdout",
     "output_type": "stream",
     "text": [
      "I am thinking aboutWhat are you doing\n",
      "Ansh is thinking aboutWhat are you doing\n"
     ]
    }
   ],
   "source": [
    "ansh.think(\"What are you doing\")"
   ]
  },
  {
   "cell_type": "markdown",
   "metadata": {},
   "source": [
    "- Inheritence\n"
   ]
  },
  {
   "cell_type": "code",
   "execution_count": 8,
   "metadata": {},
   "outputs": [],
   "source": [
    "class SuperList(list):\n",
    "    def all_index(self, search):\n",
    "        idxs = []\n",
    "        start_idx = 0\n",
    "        for i in range(self.count(search)):\n",
    "            pos = self.index(search, start_idx)\n",
    "            idxs.append(pos)\n",
    "            start_idx = pos + 1\n",
    "        return idxs\n",
    "            \n",
    "    #pass"
   ]
  },
  {
   "cell_type": "code",
   "execution_count": 9,
   "metadata": {},
   "outputs": [
    {
     "name": "stdout",
     "output_type": "stream",
     "text": [
      "[1, 2, 3, 4, 5, 5, 3, 4, 5, 7, 8, 2, 4, 5, 5]\n",
      "[1, 2, 3, 4, 5, 5, 3, 4, 5, 7, 8, 2, 4, 5, 5, 786]\n"
     ]
    }
   ],
   "source": [
    "x = SuperList([1,2,3,4,5,5,3,4,5,7,8,2,4,5,5])\n",
    "print(x)\n",
    "x.append(786)\n",
    "print(x)"
   ]
  },
  {
   "cell_type": "code",
   "execution_count": 16,
   "metadata": {},
   "outputs": [
    {
     "data": {
      "text/plain": [
       "[4, 5, 8, 13, 14]"
      ]
     },
     "execution_count": 16,
     "metadata": {},
     "output_type": "execute_result"
    }
   ],
   "source": [
    "# find the index of any number\n",
    "#x.index(5)\n",
    "x.all_index(5)"
   ]
  },
  {
   "cell_type": "code",
   "execution_count": 17,
   "metadata": {},
   "outputs": [
    {
     "data": {
      "text/plain": [
       "[3, 7, 12]"
      ]
     },
     "execution_count": 17,
     "metadata": {},
     "output_type": "execute_result"
    }
   ],
   "source": [
    "# we used this to find the value are exact in x list\n",
    "x.all_index(4)"
   ]
  },
  {
   "cell_type": "code",
   "execution_count": 21,
   "metadata": {},
   "outputs": [
    {
     "data": {
      "text/plain": [
       "[1, 11]"
      ]
     },
     "execution_count": 21,
     "metadata": {},
     "output_type": "execute_result"
    }
   ],
   "source": [
    "x.all_index(2)"
   ]
  },
  {
   "cell_type": "code",
   "execution_count": 23,
   "metadata": {},
   "outputs": [
    {
     "data": {
      "text/plain": [
       "[2, 6]"
      ]
     },
     "execution_count": 23,
     "metadata": {},
     "output_type": "execute_result"
    }
   ],
   "source": [
    "x.all_index(3)"
   ]
  },
  {
   "cell_type": "code",
   "execution_count": null,
   "metadata": {},
   "outputs": [],
   "source": []
  }
 ],
 "metadata": {
  "kernelspec": {
   "display_name": "base",
   "language": "python",
   "name": "python3"
  },
  "language_info": {
   "codemirror_mode": {
    "name": "ipython",
    "version": 3
   },
   "file_extension": ".py",
   "mimetype": "text/x-python",
   "name": "python",
   "nbconvert_exporter": "python",
   "pygments_lexer": "ipython3",
   "version": "3.10.10"
  },
  "orig_nbformat": 4
 },
 "nbformat": 4,
 "nbformat_minor": 2
}

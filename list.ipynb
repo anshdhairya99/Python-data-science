{
 "cells": [
  {
   "cell_type": "markdown",
   "metadata": {},
   "source": [
    "# List in Python :-\n",
    "- indexed, ordered, mutable, allows duplicate elements, hetrogeneous, '[]','list()' \n",
    "\n",
    "## Tuples\n",
    "- indexed, ordered, **immutable**, allows duplicate elements, hetrogeneous '()','tuples()'\n",
    "#### Dictionary\n",
    "- **unordered**, mutable, **does not allows duplicate keys**, hetrogeneous, key : value pairs,'{}','dict()'"
   ]
  },
  {
   "cell_type": "markdown",
   "metadata": {},
   "source": [
    "# List \n",
    "- creation\n",
    "- indexing and slicing\n",
    "- methods(11 methods)\n",
    "- list comprihension"
   ]
  },
  {
   "cell_type": "markdown",
   "metadata": {},
   "source": [
    "- Creation in List :--"
   ]
  },
  {
   "cell_type": "code",
   "execution_count": 2,
   "metadata": {},
   "outputs": [],
   "source": [
    "x = [1,2,3,4,5]\n",
    "names = ['david','john','ringo']\n",
    "mix = [1,'john',3.13, True]\n",
    "nested = [[1,2,3],[2,3,4],[6,7,8]]\n",
    "mt = []\n",
    "cloned = [1,2,3] * 5 # report list 5 times\n",
    "words = 'this is sparte'.split()\n",
    "chars = list('Alpha')"
   ]
  },
  {
   "cell_type": "markdown",
   "metadata": {},
   "source": [
    "- Negative Slicing and Indexing :--"
   ]
  },
  {
   "cell_type": "code",
   "execution_count": 3,
   "metadata": {},
   "outputs": [
    {
     "name": "stdout",
     "output_type": "stream",
     "text": [
      "1\n",
      "5\n"
     ]
    }
   ],
   "source": [
    "print(x[0])\n",
    "print(x[-1])\n",
    "x[0] = 100 # update value at index 0"
   ]
  },
  {
   "cell_type": "code",
   "execution_count": 4,
   "metadata": {},
   "outputs": [
    {
     "data": {
      "text/plain": [
       "['A']"
      ]
     },
     "execution_count": 4,
     "metadata": {},
     "output_type": "execute_result"
    }
   ],
   "source": [
    "chars[::5]"
   ]
  },
  {
   "cell_type": "code",
   "execution_count": 5,
   "metadata": {},
   "outputs": [
    {
     "data": {
      "text/plain": [
       "['a', 'h', 'p', 'l', 'A']"
      ]
     },
     "execution_count": 5,
     "metadata": {},
     "output_type": "execute_result"
    }
   ],
   "source": [
    "chars[::-1]"
   ]
  },
  {
   "cell_type": "markdown",
   "metadata": {},
   "source": [
    "- Adding\n",
    "    - append() - adds an element to the end of the list\n",
    "    - extend() - adds all element of one list to another list\n",
    "    - insert() - adds an element at a specific indexed\n",
    " - Removing\n",
    "    - remove()\n",
    "    - pop()\n",
    "    - clear()\n",
    "- Utility methods\n",
    "    - count()\n",
    "    - indexed()\n",
    "    - sort()\n",
    "    - reverse()\n",
    "    - copy() "
   ]
  },
  {
   "cell_type": "markdown",
   "metadata": {},
   "source": [
    "- append means that to add in the list"
   ]
  },
  {
   "cell_type": "code",
   "execution_count": 6,
   "metadata": {},
   "outputs": [
    {
     "name": "stdout",
     "output_type": "stream",
     "text": [
      "[100, 2, 3, 4, 5, 6, 2]\n"
     ]
    }
   ],
   "source": [
    "x.append(6)\n",
    "x.append(2)\n",
    "print(x)"
   ]
  },
  {
   "cell_type": "code",
   "execution_count": 7,
   "metadata": {},
   "outputs": [
    {
     "name": "stdout",
     "output_type": "stream",
     "text": [
      "[100, 2, 3, 4, 5, 6, 2, 11, 12, 13]\n"
     ]
    }
   ],
   "source": [
    "a = [11,12,13]\n",
    "x.extend(a)\n",
    "print(x)"
   ]
  },
  {
   "cell_type": "code",
   "execution_count": 9,
   "metadata": {},
   "outputs": [
    {
     "name": "stdout",
     "output_type": "stream",
     "text": [
      "[100, 2, 3, 4, 5, 100, 500, 100, 500, 6, 2, 11, 12, 13]\n"
     ]
    }
   ],
   "source": [
    "x.insert(5,100)\n",
    "x.insert(6,500)\n",
    "\n",
    "print(x)"
   ]
  },
  {
   "cell_type": "code",
   "execution_count": 4,
   "metadata": {},
   "outputs": [
    {
     "name": "stdout",
     "output_type": "stream",
     "text": [
      "[1, 3, 4, 5]\n"
     ]
    }
   ],
   "source": [
    "userdata = [1,2,3,4,5]\n",
    "userdata.remove(2)\n",
    "print(userdata)"
   ]
  },
  {
   "cell_type": "code",
   "execution_count": 5,
   "metadata": {},
   "outputs": [
    {
     "name": "stdout",
     "output_type": "stream",
     "text": [
      "[1, 3, 4, 5]\n"
     ]
    }
   ],
   "source": [
    "if 'five' in userdata:\n",
    "    userdata.remove('Five')\n",
    "print(userdata)"
   ]
  },
  {
   "cell_type": "code",
   "execution_count": 6,
   "metadata": {},
   "outputs": [
    {
     "name": "stdout",
     "output_type": "stream",
     "text": [
      "nine not found\n"
     ]
    }
   ],
   "source": [
    "userdata.remove('nine') if 'nine' in userdata else print('nine not found')"
   ]
  },
  {
   "cell_type": "code",
   "execution_count": 20,
   "metadata": {},
   "outputs": [
    {
     "name": "stdout",
     "output_type": "stream",
     "text": [
      "5\n",
      "3\n"
     ]
    }
   ],
   "source": [
    "x = [1,2,3,4,5]\n",
    "print(x.pop())\n",
    "print(x.pop(2))"
   ]
  },
  {
   "cell_type": "code",
   "execution_count": 8,
   "metadata": {},
   "outputs": [
    {
     "name": "stdout",
     "output_type": "stream",
     "text": [
      "[]\n"
     ]
    }
   ],
   "source": [
    "userdata.clear()\n",
    "print(userdata)"
   ]
  },
  {
   "cell_type": "code",
   "execution_count": 4,
   "metadata": {},
   "outputs": [],
   "source": [
    "x = [1,2,3,4,5,6,7,8,9,10]\n",
    "del x"
   ]
  },
  {
   "cell_type": "code",
   "execution_count": 11,
   "metadata": {},
   "outputs": [
    {
     "name": "stdout",
     "output_type": "stream",
     "text": [
      "6\n"
     ]
    }
   ],
   "source": [
    "a = [1,2,3,1,1,1,1,1]\n",
    "print(a.count(1))"
   ]
  },
  {
   "cell_type": "code",
   "execution_count": 3,
   "metadata": {},
   "outputs": [
    {
     "name": "stdout",
     "output_type": "stream",
     "text": [
      "['Aakash', 'Boy', 'Canon', 'Daivik', 'John', 'Sumit']\n"
     ]
    }
   ],
   "source": [
    "names =['Daivik','Sumit','Aakash','John','Boy','Canon']\n",
    "names.sort()\n",
    "print(names)"
   ]
  },
  {
   "cell_type": "code",
   "execution_count": 16,
   "metadata": {},
   "outputs": [
    {
     "name": "stdout",
     "output_type": "stream",
     "text": [
      "[12, 13, 1, 2, 3, 4, 5, 23]\n"
     ]
    }
   ],
   "source": [
    "c = [12,13,1,2,3,4,5]\n",
    "c.append(23)\n",
    "print(c)\n"
   ]
  },
  {
   "cell_type": "markdown",
   "metadata": {},
   "source": [
    "- Wap to create a fibonacci series of the 10 number and store it in list :--\n",
    "- [0,1,1,2,3,5,8,13,21,34]"
   ]
  },
  {
   "cell_type": "code",
   "execution_count": 1,
   "metadata": {},
   "outputs": [
    {
     "name": "stdout",
     "output_type": "stream",
     "text": [
      "[0, 1, 1, 2, 3, 5, 8, 13, 21, 34, 55, 89]\n"
     ]
    }
   ],
   "source": [
    "x = [0,1]\n",
    "for i in range(10):\n",
    "    x.append( x[-2] + x[-1] )\n",
    "print(x)    "
   ]
  },
  {
   "cell_type": "markdown",
   "metadata": {},
   "source": [
    "- Comprehension :--"
   ]
  },
  {
   "cell_type": "code",
   "execution_count": 10,
   "metadata": {},
   "outputs": [
    {
     "name": "stdout",
     "output_type": "stream",
     "text": [
      "[1, 2, 3, 4, 5]\n",
      "[1, 4, 9, 16, 25]\n"
     ]
    }
   ],
   "source": [
    "x = [1,2,3,4,5]\n",
    "x2 = []\n",
    "for i in x:\n",
    "    s = i ** 2\n",
    "    x2.append(s)\n",
    "print(x)\n",
    "print(x2)\n",
    "\n"
   ]
  },
  {
   "cell_type": "code",
   "execution_count": 1,
   "metadata": {},
   "outputs": [
    {
     "name": "stdout",
     "output_type": "stream",
     "text": [
      "[3, 4, 7, 9, 12, 90, 100]\n",
      "[81]\n",
      "[3, 4, 7, 9, 12, 90, 100]\n",
      "[81, 256]\n",
      "[3, 4, 7, 9, 12, 90, 100]\n",
      "[81, 256, 2401]\n",
      "[3, 4, 7, 9, 12, 90, 100]\n",
      "[81, 256, 2401, 6561]\n",
      "[3, 4, 7, 9, 12, 90, 100]\n",
      "[81, 256, 2401, 6561, 20736]\n",
      "[3, 4, 7, 9, 12, 90, 100]\n",
      "[81, 256, 2401, 6561, 20736, 65610000]\n",
      "[3, 4, 7, 9, 12, 90, 100]\n",
      "[81, 256, 2401, 6561, 20736, 65610000, 100000000]\n"
     ]
    }
   ],
   "source": [
    "f = [3,4,7,9,12,90,100]\n",
    "h = []\n",
    "for i in f:\n",
    "    a = i **4\n",
    "    h.append(a)\n",
    "    print(f)\n",
    "    print(h)\n"
   ]
  },
  {
   "cell_type": "code",
   "execution_count": null,
   "metadata": {},
   "outputs": [],
   "source": []
  },
  {
   "cell_type": "code",
   "execution_count": 12,
   "metadata": {},
   "outputs": [
    {
     "name": "stdout",
     "output_type": "stream",
     "text": [
      "[2, 3, 4, 6, 7, 8, 9, 10]\n",
      "[8, 27, 64, 216, 343, 512, 729, 1000]\n"
     ]
    }
   ],
   "source": [
    "a = [2,3,4,6,7,8,9,10]\n",
    "c = []\n",
    "for i in a:\n",
    "    d = i **3\n",
    "    c.append(d)\n",
    "print(a)\n",
    "print(c)"
   ]
  },
  {
   "cell_type": "code",
   "execution_count": 15,
   "metadata": {},
   "outputs": [
    {
     "name": "stdout",
     "output_type": "stream",
     "text": [
      "[1, 2, 35, 7, 8, 9, 10]\n",
      "[]\n",
      "[1, 2, 35, 7, 8, 9, 10]\n",
      "[]\n",
      "[1, 2, 35, 7, 8, 9, 10]\n",
      "[]\n",
      "[1, 2, 35, 7, 8, 9, 10]\n",
      "[]\n",
      "[1, 2, 35, 7, 8, 9, 10]\n",
      "[]\n",
      "[1, 2, 35, 7, 8, 9, 10]\n",
      "[]\n",
      "[1, 2, 35, 7, 8, 9, 10]\n",
      "[]\n"
     ]
    }
   ],
   "source": [
    "j = [1,2,35,7,8,9,10]\n",
    "k = []\n",
    "for i in j:\n",
    "    if k in j:\n",
    "        l = i **3\n",
    "        k.append(l)\n",
    "    print(j)\n",
    "    print(k)"
   ]
  },
  {
   "cell_type": "code",
   "execution_count": 8,
   "metadata": {},
   "outputs": [
    {
     "name": "stdout",
     "output_type": "stream",
     "text": [
      "['Peter', 'Bruce', 'Clark']\n"
     ]
    }
   ],
   "source": [
    "names = ['Peter Parker','Bruce lee','Clark']\n",
    "fnames = []\n",
    "for nm in names:\n",
    "    fnames.append(nm.split()[0])\n",
    "print(fnames)\n"
   ]
  },
  {
   "cell_type": "code",
   "execution_count": 1,
   "metadata": {},
   "outputs": [
    {
     "name": "stdout",
     "output_type": "stream",
     "text": [
      "[2, 4, 6, 8, 10]\n"
     ]
    }
   ],
   "source": [
    "x = [1,2,3,4,5,6,7,8,9,10]\n",
    "y = []\n",
    "for i in x:\n",
    "    if i % 2 == 0:\n",
    "        y.append(i)\n",
    "\n",
    "print(y)\n"
   ]
  },
  {
   "cell_type": "markdown",
   "metadata": {},
   "source": [
    "newlist = [expression for item in iterable if condition == True]"
   ]
  },
  {
   "cell_type": "code",
   "execution_count": 36,
   "metadata": {},
   "outputs": [
    {
     "name": "stdout",
     "output_type": "stream",
     "text": [
      "[1, 4, 9, 16, 25, 36, 49, 64, 81, 100]\n"
     ]
    }
   ],
   "source": [
    "x2 = [i ** 2 for i in x]\n",
    "print(x2)\n",
    "\n"
   ]
  },
  {
   "cell_type": "code",
   "execution_count": 4,
   "metadata": {},
   "outputs": [
    {
     "name": "stdout",
     "output_type": "stream",
     "text": [
      "['Peter Parker', 'Bruce lee', 'Clark']\n"
     ]
    }
   ],
   "source": [
    "names = ['Peter Parker','Bruce lee','Clark']\n",
    "lnames = [nm.split()[-1] for nm in names]\n",
    "print(names)\n"
   ]
  },
  {
   "cell_type": "code",
   "execution_count": 38,
   "metadata": {},
   "outputs": [
    {
     "name": "stdout",
     "output_type": "stream",
     "text": [
      "[2, 4, 6, 8, 10]\n"
     ]
    }
   ],
   "source": [
    "x= [1,2,3,4,5,6,7,8,9,10]\n",
    "xevens = [i for i in x if i % 2 == 0]\n",
    "print(xevens)\n"
   ]
  },
  {
   "cell_type": "code",
   "execution_count": 8,
   "metadata": {},
   "outputs": [
    {
     "name": "stdout",
     "output_type": "stream",
     "text": [
      "[3]\n",
      "[3, 6]\n",
      "[3, 6, 9]\n"
     ]
    }
   ],
   "source": [
    "x = [1,2,3,4,5,6,7,8,9,10]\n",
    "y = []\n",
    "for i in x:\n",
    "    if i  % 3 == 0:\n",
    "        y.append(i)\n",
    "        print(y)"
   ]
  },
  {
   "cell_type": "code",
   "execution_count": 9,
   "metadata": {},
   "outputs": [
    {
     "name": "stdout",
     "output_type": "stream",
     "text": [
      "[5]\n",
      "[5, 10]\n"
     ]
    }
   ],
   "source": [
    "a = [2,3,4,5,6,7,9,10,12,15]\n",
    "b = []\n",
    "for i in x:\n",
    "    if i  % 5 == 0:\n",
    "        b.append(i)\n",
    "        print(b)"
   ]
  },
  {
   "cell_type": "code",
   "execution_count": 1,
   "metadata": {},
   "outputs": [
    {
     "name": "stdout",
     "output_type": "stream",
     "text": [
      "[1, 2, 3, 4, 5, 19, 12]\n"
     ]
    }
   ],
   "source": [
    "# filter\n",
    "x = ['1','2','','3','4','','5','','19','12']\n",
    "x_clean = [int(i) for i in x if i.isnumeric()]\n",
    "print(x_clean)"
   ]
  },
  {
   "cell_type": "code",
   "execution_count": 4,
   "metadata": {},
   "outputs": [
    {
     "name": "stdout",
     "output_type": "stream",
     "text": [
      "['1.jpg', '2.jpg', '5.jpg']\n",
      "['3.png', '10.png']\n"
     ]
    }
   ],
   "source": [
    "files = ['1.jpg','3.png','2.jpg','4.tif','5.jpg','10.png']\n",
    "jpg_files = [file for file in files if file.endswith('.jpg')]\n",
    "png_files  =  [file for file in files if file.endswith('.png')]\n",
    "print(jpg_files)\n",
    "print(png_files)"
   ]
  },
  {
   "cell_type": "code",
   "execution_count": 4,
   "metadata": {},
   "outputs": [
    {
     "name": "stdout",
     "output_type": "stream",
     "text": [
      "['1.jpg']\n",
      "['1.jpg', '2.jpg']\n",
      "['1.jpg', '2.jpg', '3.jpg']\n",
      "['1.jpg', '2.jpg', '3.jpg', '7.jpg']\n",
      "['1.jpg', '2.jpg', '3.jpg', '7.jpg', '10.jpg']\n"
     ]
    }
   ],
   "source": [
    "jpg_files = []\n",
    "for file in files:\n",
    "    if file.endswith('jpg'):\n",
    "        jpg_files.append(file)\n",
    "        print(jpg_files)"
   ]
  },
  {
   "cell_type": "code",
   "execution_count": 6,
   "metadata": {},
   "outputs": [
    {
     "name": "stdout",
     "output_type": "stream",
     "text": [
      "[1, 9, 25, 1, 9, 25, 9, 9, 25, 25, 9, 25, 9]\n"
     ]
    }
   ],
   "source": [
    "y = [1,2,3,4,5,1,2,3,4,5,6,3,3,5,5,2,3,5,3,2,6,4,]\n",
    "# take all odd number -> get there cube -> put in a list\n",
    "x=[i**2 for i in y if i%2!=0]\n",
    "print(x)\n",
    "\n"
   ]
  },
  {
   "cell_type": "code",
   "execution_count": null,
   "metadata": {},
   "outputs": [],
   "source": []
  }
 ],
 "metadata": {
  "kernelspec": {
   "display_name": "base",
   "language": "python",
   "name": "python3"
  },
  "language_info": {
   "codemirror_mode": {
    "name": "ipython",
    "version": 3
   },
   "file_extension": ".py",
   "mimetype": "text/x-python",
   "name": "python",
   "nbconvert_exporter": "python",
   "pygments_lexer": "ipython3",
   "version": "3.10.10"
  },
  "orig_nbformat": 4
 },
 "nbformat": 4,
 "nbformat_minor": 2
}

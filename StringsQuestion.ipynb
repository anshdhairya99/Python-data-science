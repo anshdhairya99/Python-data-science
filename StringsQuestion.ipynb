{
 "cells": [
  {
   "cell_type": "markdown",
   "metadata": {},
   "source": [
    "# Strings Question's with Solution :--\n"
   ]
  },
  {
   "cell_type": "markdown",
   "metadata": {},
   "source": [
    "Q1 :- Create a string and print it."
   ]
  },
  {
   "cell_type": "code",
   "execution_count": 1,
   "metadata": {},
   "outputs": [
    {
     "name": "stdout",
     "output_type": "stream",
     "text": [
      "Hey Ansh Dhairya.What are you doing at this time\n"
     ]
    }
   ],
   "source": [
    "mystr = \"Hey Ansh Dhairya.What are you doing at this time\"\n",
    "print(mystr)"
   ]
  },
  {
   "cell_type": "markdown",
   "metadata": {},
   "source": [
    "Q2 :- Take a string input and print its length."
   ]
  },
  {
   "cell_type": "code",
   "execution_count": 3,
   "metadata": {},
   "outputs": [
    {
     "name": "stdout",
     "output_type": "stream",
     "text": [
      "61\n"
     ]
    }
   ],
   "source": [
    "mystr = \"Tom Cruise is the best producer and actor in hollywood movies\"\n",
    "print(len(mystr))"
   ]
  },
  {
   "cell_type": "markdown",
   "metadata": {},
   "source": [
    "Q3 :- Print last word of the string (Python is great) using slices."
   ]
  },
  {
   "cell_type": "code",
   "execution_count": 14,
   "metadata": {},
   "outputs": [
    {
     "name": "stdout",
     "output_type": "stream",
     "text": [
      "great\n"
     ]
    }
   ],
   "source": [
    "mystr = \"Python is great\"\n",
    "print(mystr[-5:])"
   ]
  },
  {
   "cell_type": "markdown",
   "metadata": {},
   "source": [
    "Q4 :- Print the each word in different line of string (python is everywhere).\n"
   ]
  },
  {
   "cell_type": "code",
   "execution_count": 15,
   "metadata": {},
   "outputs": [
    {
     "name": "stdout",
     "output_type": "stream",
     "text": [
      "Python\n",
      "is\n",
      "everywhere\n"
     ]
    }
   ],
   "source": [
    "name1 = \"Python\"\n",
    "name2 = \"is\"\n",
    "name3 = \"everywhere\"\n",
    "print(name1)\n",
    "print(name2)\n",
    "print(name3)\n",
    "\n"
   ]
  },
  {
   "cell_type": "markdown",
   "metadata": {},
   "source": [
    "Q5 :- Print the string (Hello World!) in reverse.\n"
   ]
  },
  {
   "cell_type": "code",
   "execution_count": 24,
   "metadata": {},
   "outputs": [
    {
     "name": "stdout",
     "output_type": "stream",
     "text": [
      "!dlroW olleH\n"
     ]
    }
   ],
   "source": [
    "mystr = \"Hello World!\"\n",
    "print(mystr[::-1])"
   ]
  },
  {
   "cell_type": "markdown",
   "metadata": {},
   "source": [
    "Q6 :- Convert the string (How are you?) in uppercase.\n"
   ]
  },
  {
   "cell_type": "code",
   "execution_count": 25,
   "metadata": {},
   "outputs": [
    {
     "name": "stdout",
     "output_type": "stream",
     "text": [
      "HOW ARE YOU?\n"
     ]
    }
   ],
   "source": [
    "mystr = \"How are you?\"\n",
    "print(mystr.upper())"
   ]
  },
  {
   "cell_type": "markdown",
   "metadata": {},
   "source": [
    "Q7 :- Convert the string (How Is It Going?) in lowercase.\n"
   ]
  },
  {
   "cell_type": "code",
   "execution_count": 26,
   "metadata": {},
   "outputs": [
    {
     "name": "stdout",
     "output_type": "stream",
     "text": [
      "how is it going?\n"
     ]
    }
   ],
   "source": [
    "name = \"How Is It Going?\"\n",
    "print(name.lower())"
   ]
  },
  {
   "cell_type": "markdown",
   "metadata": {},
   "source": [
    "Q8 :- Join the following list by spaces( ) and print the result.\n",
    "- words = ['Python', 'is', 'easy', 'to', 'learn']\n"
   ]
  },
  {
   "cell_type": "code",
   "execution_count": 28,
   "metadata": {},
   "outputs": [
    {
     "data": {
      "text/plain": [
       "'Pythoniseasytolearn'"
      ]
     },
     "execution_count": 28,
     "metadata": {},
     "output_type": "execute_result"
    }
   ],
   "source": [
    "words = ['Python','is','easy','to','learn']\n",
    "''.join(words)"
   ]
  },
  {
   "cell_type": "markdown",
   "metadata": {},
   "source": [
    "Q9 :- Print a multiline string using a single (print).\n"
   ]
  },
  {
   "cell_type": "code",
   "execution_count": 36,
   "metadata": {},
   "outputs": [
    {
     "name": "stdout",
     "output_type": "stream",
     "text": [
      "This is my strings\n",
      "and I want to learn \n",
      "the string in very easily way\n"
     ]
    }
   ],
   "source": [
    "mystr = '''This is my strings\n",
    "and I want to learn \n",
    "the string in very easily way'''\n",
    "print(mystr)"
   ]
  },
  {
   "cell_type": "markdown",
   "metadata": {},
   "source": [
    "Q10 :- Print this string to (move to newline '\\n' is used). (results should look exactly like the provided string)\n"
   ]
  },
  {
   "cell_type": "code",
   "execution_count": 42,
   "metadata": {},
   "outputs": [
    {
     "name": "stdout",
     "output_type": "stream",
     "text": [
      " move to newline'\\n' \n"
     ]
    }
   ],
   "source": [
    "mystr = \" move to newline'\\\\n' \" \n",
    "print(mystr)"
   ]
  },
  {
   "cell_type": "markdown",
   "metadata": {},
   "source": [
    "Q11 :- Print a variable with some text using a single print function, output should look like following.\n",
    "- the variable is 15"
   ]
  },
  {
   "cell_type": "code",
   "execution_count": 43,
   "metadata": {},
   "outputs": [
    {
     "name": "stdout",
     "output_type": "stream",
     "text": [
      "the variable is 15\n"
     ]
    }
   ],
   "source": [
    "var = \"the variable is 15\"\n",
    "print(var)"
   ]
  },
  {
   "cell_type": "markdown",
   "metadata": {},
   "source": [
    "Q12 :- concatenate the following strings and print the result\n",
    "- s1 = 'python '\n",
    "- s2 = 'is '\n",
    "- s3 = 'great.'"
   ]
  },
  {
   "cell_type": "code",
   "execution_count": 48,
   "metadata": {},
   "outputs": [
    {
     "name": "stdout",
     "output_type": "stream",
     "text": [
      "python is great\n"
     ]
    }
   ],
   "source": [
    "s1 = 'python'\n",
    "s2 = 'is'\n",
    "s3 = 'great'\n",
    "print(s1,s2,s3)"
   ]
  },
  {
   "cell_type": "markdown",
   "metadata": {},
   "source": [
    "Q13 :- Print (#) 20 times without using a loop :---\n",
    "\n"
   ]
  },
  {
   "cell_type": "code",
   "execution_count": 50,
   "metadata": {},
   "outputs": [
    {
     "name": "stdout",
     "output_type": "stream",
     "text": [
      "#\n",
      "#\n",
      "#\n",
      "#\n",
      "#\n",
      "#\n",
      "#\n",
      "#\n",
      "#\n",
      "#\n",
      "#\n",
      "#\n",
      "#\n",
      "#\n",
      "#\n",
      "#\n",
      "#\n",
      "#\n",
      "#\n",
      "#\n"
     ]
    }
   ],
   "source": [
    "print(\"#\")\n",
    "print(\"#\")\n",
    "print(\"#\")\n",
    "print(\"#\")\n",
    "print(\"#\")\n",
    "print(\"#\")\n",
    "print(\"#\")\n",
    "print(\"#\")\n",
    "print(\"#\")\n",
    "print(\"#\")\n",
    "print(\"#\")\n",
    "print(\"#\")\n",
    "print(\"#\")\n",
    "print(\"#\")\n",
    "print(\"#\")\n",
    "print(\"#\")\n",
    "print(\"#\")\n",
    "print(\"#\")\n",
    "print(\"#\")\n",
    "print(\"#\")"
   ]
  },
  {
   "cell_type": "markdown",
   "metadata": {},
   "source": [
    "Q14 :- Print numbers from 1 to 9, each on a seperate line, followed by a dot, output should look like the following-\n",
    "- 1.\n",
    "- 2.\n",
    "- 3.\n"
   ]
  },
  {
   "cell_type": "code",
   "execution_count": 52,
   "metadata": {},
   "outputs": [
    {
     "name": "stdout",
     "output_type": "stream",
     "text": [
      "1.\n",
      "2.\n",
      "3.\n",
      "4.\n",
      "5.\n",
      "6.\n",
      "7.\n",
      "8.\n",
      "9.\n"
     ]
    }
   ],
   "source": [
    "print(\"1.\")\n",
    "print(\"2.\")\n",
    "print(\"3.\")\n",
    "print(\"4.\")\n",
    "print(\"5.\")\n",
    "print(\"6.\")\n",
    "print(\"7.\")\n",
    "print(\"8.\")\n",
    "print(\"9.\")"
   ]
  },
  {
   "cell_type": "markdown",
   "metadata": {},
   "source": [
    "Q15 :- Ask user to input a sentence and print each word on a different line ?\n"
   ]
  },
  {
   "cell_type": "code",
   "execution_count": 11,
   "metadata": {},
   "outputs": [
    {
     "name": "stdout",
     "output_type": "stream",
     "text": [
      "Hello\n",
      "world\n",
      "my\n",
      "name\n",
      "is\n",
      "ansh\n",
      "dhairya\n"
     ]
    }
   ],
   "source": [
    "#ask the user to input a sentence :--\n",
    "\n",
    "sentence = input('Enter the sentence')\n",
    "\n",
    " #split the sentence into words using space as the delimiter :--\n",
    "\n",
    "words = sentence.split()\n",
    "\n",
    "#print each word on a different line :---\n",
    "\n",
    "for x in words:\n",
    "    print(x)\n"
   ]
  },
  {
   "cell_type": "markdown",
   "metadata": {},
   "source": [
    "Q16 :- Ask user to input a string and check if the string ends with '?'\n"
   ]
  },
  {
   "cell_type": "code",
   "execution_count": 12,
   "metadata": {},
   "outputs": [
    {
     "name": "stdout",
     "output_type": "stream",
     "text": [
      "The strings ends with a question mark.\n"
     ]
    }
   ],
   "source": [
    "# Ask the user to input a string :-\n",
    "user_input = input(\"Enter a string:\")\n",
    "\n",
    "# check if the string ends with '?'\n",
    "\n",
    "if user_input.endswith('?'):\n",
    "    print(\"The strings ends with a question mark.\")\n",
    "else:\n",
    "    print(\"The string does not end with a question mark.\")"
   ]
  },
  {
   "cell_type": "markdown",
   "metadata": {},
   "source": [
    "Q17 :- Ask user to input a string and print how many times (e) appeared in the string\n"
   ]
  },
  {
   "cell_type": "code",
   "execution_count": 6,
   "metadata": {},
   "outputs": [
    {
     "name": "stdout",
     "output_type": "stream",
     "text": [
      "80\n"
     ]
    }
   ],
   "source": [
    "message = input('enter a string')\n",
    "c = 0\n",
    "for i in message:\n",
    "    if(i =='e'):\n",
    "        c=c+1\n",
    "\n",
    "print(c)"
   ]
  },
  {
   "cell_type": "markdown",
   "metadata": {},
   "source": [
    "Q18 :- Check if the user input is a number.\n",
    "\n",
    "\n",
    "\n",
    "\n"
   ]
  },
  {
   "cell_type": "code",
   "execution_count": 5,
   "metadata": {},
   "outputs": [
    {
     "name": "stdout",
     "output_type": "stream",
     "text": [
      "True\n"
     ]
    }
   ],
   "source": [
    "number = input(\"enter a number\")\n",
    "print(number.isnumeric()) "
   ]
  },
  {
   "cell_type": "markdown",
   "metadata": {},
   "source": [
    "Q19 :- Remove the extra spaces in beginning and in the end of the following string-\n",
    "- text = '         this is not a good string           '"
   ]
  },
  {
   "cell_type": "code",
   "execution_count": 21,
   "metadata": {},
   "outputs": [
    {
     "name": "stdout",
     "output_type": "stream",
     "text": [
      "this is not a good string\n"
     ]
    }
   ],
   "source": [
    "text = '             this is not a good string                    '\n",
    "text = text.strip()\n",
    "print(text)\n"
   ]
  },
  {
   "cell_type": "markdown",
   "metadata": {},
   "source": [
    "Q20 :-- Ask user to input string, print (found) if any of the character is upper case.\n"
   ]
  },
  {
   "cell_type": "code",
   "execution_count": 19,
   "metadata": {},
   "outputs": [
    {
     "name": "stdout",
     "output_type": "stream",
     "text": [
      "Found\n"
     ]
    }
   ],
   "source": [
    "num = input('Enter a string')\n",
    "if (num.isupper()):\n",
    "    print('Found')\n",
    "else:\n",
    "    print('Not Found')    "
   ]
  },
  {
   "cell_type": "markdown",
   "metadata": {},
   "source": [
    "Q21 :--Extract names from the following string and store them in a list.\n",
    "- names = 'Joe, David, Mark, Tom, Chris, Robert'"
   ]
  },
  {
   "cell_type": "code",
   "execution_count": 16,
   "metadata": {},
   "outputs": [
    {
     "name": "stdout",
     "output_type": "stream",
     "text": [
      "['Joe', 'David', 'Mark', 'Tom', 'Chris', 'Robert']\n"
     ]
    }
   ],
   "source": [
    "names = 'Joe, David, Mark, Tom, Chris, Robert'\n",
    "user = names.split(', ')\n",
    "print(user)\n"
   ]
  },
  {
   "cell_type": "markdown",
   "metadata": {},
   "source": [
    "Q22 :-- In the following string, add (aye) in the end of every word and print the results.\n",
    "- text = 'this is some text'\n"
   ]
  },
  {
   "cell_type": "code",
   "execution_count": 18,
   "metadata": {},
   "outputs": [
    {
     "name": "stdout",
     "output_type": "stream",
     "text": [
      "this(aye) is(aye) some(aye) text(aye)\n"
     ]
    }
   ],
   "source": [
    "def add_aye_to_words(input_text):\n",
    "    words = input_text.split()\n",
    "    modified_words = [word + \"(aye)\" for word in words]\n",
    "    return \" \".join(modified_words)\n",
    "\n",
    "text = 'this is some text'\n",
    "result = add_aye_to_words(text)\n",
    "print(result)\n"
   ]
  },
  {
   "cell_type": "markdown",
   "metadata": {},
   "source": [
    "Q23 :-- ask user to enter a string and check if the string contains (fyi)\n"
   ]
  },
  {
   "cell_type": "code",
   "execution_count": 14,
   "metadata": {},
   "outputs": [
    {
     "name": "stdout",
     "output_type": "stream",
     "text": [
      "The string contains fyi\n"
     ]
    }
   ],
   "source": [
    "\n",
    "user = input(\"Enter a string: \")\n",
    "if (user):\n",
    "        print(\"The string contains fyi\")\n",
    "else:\n",
    "        print(\"The string does not contain fyi \")\n"
   ]
  },
  {
   "cell_type": "markdown",
   "metadata": {},
   "source": [
    "Q24 :--Remove all the special characters and numbers from the following string\n",
    "- text = '%p34@y!*-*!t68h#&on404'"
   ]
  },
  {
   "cell_type": "code",
   "execution_count": 1,
   "metadata": {},
   "outputs": [
    {
     "name": "stdout",
     "output_type": "stream",
     "text": [
      "%p34@y *-* t68*^2111132%^$###$#4343453453#$%@%$#$#32kjjdbfjdsbj77&&*&^%#^%###$^^$$%%^%$&on404\n",
      "%p34@y *-* t68*^2111132%^$###$#4343453453#$%@%$#$#32kjjdbfjdsbj77&&*&^%#^%###$^^$$%%^%$&on404\n",
      "%p34@y *-* t68*^2111132%^$   $ 4343453453 $%@%$ $ 32kjjdbfjdsbj77&&*&^% ^%   $^^$$%%^%$&on404\n",
      "%p34@y *-* t68*^2111132%^      4343453453  %@%    32kjjdbfjdsbj77&&*&^% ^%    ^^  %%^% &on404\n",
      " p34@y *-* t68*^2111132 ^      4343453453   @     32kjjdbfjdsbj77&&*&^  ^     ^^    ^  &on404\n",
      " p34@y *-* t68*^2111132 ^      4343453453   @     32kjjdbfjdsbj77  * ^  ^     ^^    ^   on404\n",
      " p34@y *-* t68*^2111132 ^      4343453453   @     32kjjdbfjdsbj77  * ^  ^     ^^    ^   on404\n",
      " p34@y *-* t68*^2111132 ^      4343453453   @     32kjjdbfjdsbj77  * ^  ^     ^^    ^   on404\n",
      " p34@y *-* t68*^2111132 ^      4343453453   @     32kjjdbfjdsbj77  * ^  ^     ^^    ^   on404\n",
      " p34@y  -  t68 ^2111132 ^      4343453453   @     32kjjdbfjdsbj77    ^  ^     ^^    ^   on404\n",
      " p34@y  -  t68 ^2111132 ^      4343453453   @     32kjjdbfjdsbj77    ^  ^     ^^    ^   on404\n",
      " p34@y  -  t68 ^2111132 ^      4343453453   @     32kjjdbfjdsbj77    ^  ^     ^^    ^   on404\n",
      " p34@y     t68 ^2111132 ^      4343453453   @     32kjjdbfjdsbj77    ^  ^     ^^    ^   on404\n",
      " p34@y     t68 ^2111132 ^      4343453453   @     32kjjdbfjdsbj77    ^  ^     ^^    ^   on404\n",
      " p34@y     t68 ^2111132 ^      4343453453   @     32kjjdbfjdsbj77    ^  ^     ^^    ^   on404\n",
      " p34@y     t68 ^2111132 ^      4343453453   @     32kjjdbfjdsbj77    ^  ^     ^^    ^   on404\n",
      " p34@y     t68 ^2111132 ^      4343453453   @     32kjjdbfjdsbj77    ^  ^     ^^    ^   on404\n",
      " p34@y     t68 ^2111132 ^      4343453453   @     32kjjdbfjdsbj77    ^  ^     ^^    ^   on404\n",
      " p34@y     t68 ^2111132 ^      4343453453   @     32kjjdbfjdsbj77    ^  ^     ^^    ^   on404\n",
      " p34@y     t68 ^2111132 ^      4343453453   @     32kjjdbfjdsbj77    ^  ^     ^^    ^   on404\n",
      " p34@y     t68 ^2111132 ^      4343453453   @     32kjjdbfjdsbj77    ^  ^     ^^    ^   on404\n",
      " p34 y     t68 ^2111132 ^      4343453453         32kjjdbfjdsbj77    ^  ^     ^^    ^   on404\n",
      " p34 y     t68 ^2111132 ^      4343453453         32kjjdbfjdsbj77    ^  ^     ^^    ^   on404\n",
      " p34 y     t68 ^2111132 ^      4343453453         32kjjdbfjdsbj77    ^  ^     ^^    ^   on404\n",
      " p34 y     t68 ^2111132 ^      4343453453         32kjjdbfjdsbj77    ^  ^     ^^    ^   on404\n",
      " p34 y     t68  2111132        4343453453         32kjjdbfjdsbj77                       on404\n",
      " p34 y     t68  2111132        4343453453         32kjjdbfjdsbj77                       on404\n",
      " p34 y     t68  2111132        4343453453         32kjjdbfjdsbj77                       on404\n",
      " p34 y     t68  2111132        4343453453         32kjjdbfjdsbj77                       on404\n",
      " p34 y     t68  2111132        4343453453         32kjjdbfjdsbj77                       on404\n",
      " p34 y     t68  2111132        4343453453         32kjjdbfjdsbj77                       on404\n",
      " p34 y     t68  2111132        4343453453         32kjjdbfjdsbj77                       on404\n"
     ]
    }
   ],
   "source": [
    "from string import punctuation\n",
    "\n",
    "content = '%p34@y!*-*!t68*^2111132%^$###$#4343453453#$%@%$#$#32kjjdbfjdsbj77&&*&^%#^%###$^^$$%%^%$&on404'\n",
    "for c in punctuation:\n",
    "    content = content.replace(c, ' ')\n",
    "    print(content)\n"
   ]
  },
  {
   "cell_type": "markdown",
   "metadata": {},
   "source": [
    "Q25 :--calculate the average word length of the following paragraph.\n",
    "- this is a paragraph which is written just for the purpose of providing content to let the average word length be calculated"
   ]
  },
  {
   "cell_type": "code",
   "execution_count": 6,
   "metadata": {},
   "outputs": [
    {
     "name": "stdout",
     "output_type": "stream",
     "text": [
      "5\n"
     ]
    }
   ],
   "source": [
    "message =  'this is a paragraph which is written just for the purpose of providing content to let the average word length be calculated'\n",
    "words = message.split()\n",
    "total_len = 0\n",
    "for word in words:\n",
    "    total_len += len(word)\n",
    "print(round(total_len/len(words)))\n",
    "    "
   ]
  },
  {
   "cell_type": "code",
   "execution_count": null,
   "metadata": {},
   "outputs": [],
   "source": []
  }
 ],
 "metadata": {
  "kernelspec": {
   "display_name": "base",
   "language": "python",
   "name": "python3"
  },
  "language_info": {
   "codemirror_mode": {
    "name": "ipython",
    "version": 3
   },
   "file_extension": ".py",
   "mimetype": "text/x-python",
   "name": "python",
   "nbconvert_exporter": "python",
   "pygments_lexer": "ipython3",
   "version": "3.10.10"
  },
  "orig_nbformat": 4
 },
 "nbformat": 4,
 "nbformat_minor": 2
}

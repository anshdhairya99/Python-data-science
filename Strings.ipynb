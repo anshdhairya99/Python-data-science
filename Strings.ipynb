{
 "cells": [
  {
   "cell_type": "markdown",
   "metadata": {},
   "source": [
    "- Strings in python:--\n",
    "\n",
    "- creation\n",
    "- indexing and slicing\n",
    "- methods"
   ]
  },
  {
   "cell_type": "markdown",
   "metadata": {},
   "source": [
    "- STRINGS :-- This is the mutable(Can we changed it)"
   ]
  },
  {
   "cell_type": "code",
   "execution_count": 1,
   "metadata": {},
   "outputs": [
    {
     "name": "stdout",
     "output_type": "stream",
     "text": [
      "_234__234__234__234__234__234__234__234__234__234_\n"
     ]
    }
   ],
   "source": [
    "s= \"Hello\"\n",
    "s1 ='world'\n",
    "msg = '''this is message with the multiple lines'''\n",
    "w = '_234_'*10\n",
    "print(w)"
   ]
  },
  {
   "cell_type": "code",
   "execution_count": 21,
   "metadata": {},
   "outputs": [
    {
     "name": "stdout",
     "output_type": "stream",
     "text": [
      "786,786,786,786,786,786,786,786,786,786,786,786,786,786,786,786,786,786,786,786,\n"
     ]
    }
   ],
   "source": [
    "name = \"Roman Reigns\"\n",
    "name1 = 'World Wide Network'\n",
    "msg = '''This massage are very imortant for the multiple lines of codes'''\n",
    "w = '786,' *20\n",
    "print(w)\n"
   ]
  },
  {
   "cell_type": "markdown",
   "metadata": {},
   "source": [
    "- Practice of Strings :--👇"
   ]
  },
  {
   "cell_type": "code",
   "execution_count": 42,
   "metadata": {},
   "outputs": [
    {
     "name": "stdout",
     "output_type": "stream",
     "text": [
      "y\n"
     ]
    }
   ],
   "source": [
    "mystr = \"Harry is the Good Boy\"\n",
    "#print(mystr)\n",
    "print(mystr[4])"
   ]
  },
  {
   "cell_type": "markdown",
   "metadata": {},
   "source": [
    "- String Slicing :--"
   ]
  },
  {
   "cell_type": "code",
   "execution_count": 67,
   "metadata": {},
   "outputs": [
    {
     "name": "stdout",
     "output_type": "stream",
     "text": [
      "Koh\n",
      "Kohli\n",
      "The length of the script is 80\n",
      "Kohli is play the Cricket\n",
      "Kohli is play the Cricket in a long times and also a great player of India \n",
      "Kohli is play the Cricket in a long times and also a great player of India teams\n",
      "2000000000000000000000000000000000000000000000000000000\n",
      "20000000000000000000\n"
     ]
    }
   ],
   "source": [
    "mystr = \"Kohli is play the Cricket in a long times and also a great player of India teams\"\n",
    "print(mystr[0:3])\n",
    "print(mystr[0:5])\n",
    "print(\"The length of the script is\",len(mystr))\n",
    "print(mystr[0:25])\n",
    "print(mystr[0:75])\n",
    "print(mystr[0:2000000000000000])\n",
    "mystr = \"2000000000000000000000000000000000000000000000000000000\"\n",
    "print(mystr)\n",
    "print(mystr[0:20])"
   ]
  },
  {
   "cell_type": "markdown",
   "metadata": {},
   "source": [
    "- Advaced Slicing :----👇"
   ]
  },
  {
   "cell_type": "code",
   "execution_count": 81,
   "metadata": {},
   "outputs": [
    {
     "name": "stdout",
     "output_type": "stream",
     "text": [
      "Harry is very cute man in the World\n",
      "This is length of 35\n",
      "Hry\n",
      "Hi\n",
      "Harry is very cute man in the World\n",
      "Harry is very cute man in the World\n",
      "Harry is very cute man in the World\n",
      "Harry\n",
      "Harry is very cute man\n",
      "Hryi eyct a nteWrd\n"
     ]
    }
   ],
   "source": [
    "mystr = \"Harry is very cute man in the World\"\n",
    "print(mystr)\n",
    "print(\"This is length of\",len(mystr))\n",
    "print((mystr[0:5:2])) # Skip 2 the script from front name harry and print it only \"hry\" \n",
    "print(mystr[::23])\n",
    "print(mystr[:])\n",
    "print(mystr[::])\n",
    "print(mystr[0:])\n",
    "print(mystr[:5])\n",
    "print(mystr[0:22:1])\n",
    "print(mystr[::2]) # It is reverse the our script"
   ]
  },
  {
   "cell_type": "markdown",
   "metadata": {},
   "source": [
    "- Negative Index :--👇"
   ]
  },
  {
   "cell_type": "code",
   "execution_count": 99,
   "metadata": {},
   "outputs": [
    {
     "name": "stdout",
     "output_type": "stream",
     "text": [
      "14\n",
      "W\n",
      " Web\n",
      " W\n",
      "beW ediW dlroW\n"
     ]
    }
   ],
   "source": [
    "name = \"World Wide Web\"\n",
    "print(len(name))\n",
    "print(name[0:1])\n",
    "print(name[-4:])\n",
    "print(name[-4:-2])\n",
    "print(name[::-1])  # it is just covert the our code\n",
    "\n"
   ]
  },
  {
   "cell_type": "markdown",
   "metadata": {},
   "source": [
    "- True and False :---- Using \n",
    "- string.isdigit() - It is only contain (numeric) value then give the True.\n",
    "- string.isalpha() - It is only contain the (character value) then also give the True\n",
    "- string.isalnum() - It is contain the (character and numeric) then dive the true "
   ]
  },
  {
   "cell_type": "code",
   "execution_count": 18,
   "metadata": {},
   "outputs": [
    {
     "name": "stdout",
     "output_type": "stream",
     "text": [
      "True\n",
      "True\n",
      "True\n"
     ]
    }
   ],
   "source": [
    "# string.isdigit()\n",
    "mystr = \"1234567890\"\n",
    "print(mystr.isdigit())\n",
    "\n",
    "# string.isalpha()\n",
    "mystr = \"HelloMevrik\"\n",
    "print(mystr.isalpha())\n",
    "\n",
    "# string.isalnum()\n",
    "mystr = \"12345harry123david\"\n",
    "print(mystr.isalnum())\n",
    "\n"
   ]
  },
  {
   "cell_type": "markdown",
   "metadata": {},
   "source": [
    "- Some Important Strings In Python :--👇"
   ]
  },
  {
   "cell_type": "code",
   "execution_count": 30,
   "metadata": {},
   "outputs": [
    {
     "name": "stdout",
     "output_type": "stream",
     "text": [
      "True\n",
      "False\n",
      "9\n",
      "hello angela what are you do that at the time and what are you doing at this time. where are you live\n",
      "Hello angela what are you do that at the time and what are you doing at this time. where are you live\n",
      "37\n",
      "Hello Angela What Are You do that at the time and what are you doing at thare time. Where are you live\n"
     ]
    }
   ],
   "source": [
    "name = \"Hello Angela What Are You do that at the time and what are you doing at this time. Where are you live\"\n",
    "print(name.endswith(\"live\"))\n",
    "print(name.endswith(\"are\"))\n",
    "print(name.count(\"a\"))\n",
    "print(name.lower())\n",
    "print(name.capitalize())\n",
    "print(name.find(\"the\"))\n",
    "print(name.replace(\"is\",\"are\"))\n"
   ]
  },
  {
   "cell_type": "markdown",
   "metadata": {},
   "source": [
    "- Find the length of name 👇"
   ]
  },
  {
   "cell_type": "code",
   "execution_count": 20,
   "metadata": {},
   "outputs": [
    {
     "data": {
      "text/plain": [
       "11"
      ]
     },
     "execution_count": 20,
     "metadata": {},
     "output_type": "execute_result"
    }
   ],
   "source": [
    "len(name)"
   ]
  },
  {
   "cell_type": "markdown",
   "metadata": {},
   "source": [
    "- find types of strings 👇 "
   ]
  },
  {
   "cell_type": "code",
   "execution_count": 17,
   "metadata": {},
   "outputs": [
    {
     "name": "stdout",
     "output_type": "stream",
     "text": [
      "100 <class 'str'>\n",
      "100 <class 'int'>\n"
     ]
    }
   ],
   "source": [
    "a = 100\n",
    "b = str(a)\n",
    "print(b,type(b))\n",
    "print(a,type(a))"
   ]
  },
  {
   "cell_type": "markdown",
   "metadata": {},
   "source": [
    "- It is also string👇"
   ]
  },
  {
   "cell_type": "code",
   "execution_count": 3,
   "metadata": {},
   "outputs": [
    {
     "name": "stdout",
     "output_type": "stream",
     "text": [
      "this is ram\n"
     ]
    }
   ],
   "source": [
    "print('this is ram')"
   ]
  },
  {
   "cell_type": "markdown",
   "metadata": {},
   "source": [
    "- Note :- It is only work for text file not a pdf file below code of data only "
   ]
  },
  {
   "cell_type": "markdown",
   "metadata": {},
   "source": [
    "- To find any program with the help of - data = open('t4.py').read() 👇\n"
   ]
  },
  {
   "cell_type": "code",
   "execution_count": 7,
   "metadata": {},
   "outputs": [
    {
     "name": "stdout",
     "output_type": "stream",
     "text": [
      "# Turtle program\n",
      "from turtle import *\n",
      "speed('fastest')\n",
      "pensize(2)\n",
      "bgcolor('black') \n",
      "pencolor('white')\n",
      "colors =['red','yellow','blue','green','orange','purple']\n",
      "side = 6\n",
      "for i in range(side):\n",
      "    fd(200)\n",
      "    lt(360/side)\n",
      "    begin_fill()\n",
      "    fillcolor(color[i%6])\n",
      "    for i in range(side):\n",
      "        fd(50)\n",
      "        lt(360/side)\n",
      "        end_fill()\n",
      "        lt(360/side)\n",
      "mainloop()\n"
     ]
    }
   ],
   "source": [
    "data = open('t4.py').read()\n",
    "print(data)"
   ]
  },
  {
   "cell_type": "code",
   "execution_count": 11,
   "metadata": {},
   "outputs": [
    {
     "name": "stdout",
     "output_type": "stream",
     "text": [
      "# while Loops:--\n",
      "from turtle import *\n",
      "\n",
      "speed('fastest')\n",
      "pencolor('Blue')\n",
      "bgcolor('#303030')\n",
      "pensize(4)\n",
      "\n",
      "i = 200\n",
      "while i > 0:\n",
      "    fd(i)\n",
      "    lt(180)\n",
      "    i -=4\n",
      "    dot(10,'red')\n",
      "    write(i, font=('Calibri', 14, 'bold'))\n",
      "\n",
      "\n",
      "    mainloop()\n"
     ]
    }
   ],
   "source": [
    "data = open('t2.py').read()\n",
    "print(data)\n"
   ]
  },
  {
   "cell_type": "code",
   "execution_count": 34,
   "metadata": {},
   "outputs": [
    {
     "name": "stdout",
     "output_type": "stream",
     "text": [
      "# Turtle program\n",
      "from turtle import *\n",
      "speed('fastest')\n",
      "colors = ['red','yellow','blue','green','black','pink',]\n",
      "pensize(3)\n",
      "for i in range(100):\n",
      "    #print(i%4,colors[i%4])\n",
      "    pencolor(colors[i%4])\n",
      "    fd(i*2)\n",
      "    lt(60)\n",
      "    circle(i*2,180)\n",
      "mainloop()\n",
      "\n"
     ]
    }
   ],
   "source": [
    "data = open('t3.py').read()\n",
    "print(data)"
   ]
  },
  {
   "cell_type": "code",
   "execution_count": 36,
   "metadata": {},
   "outputs": [
    {
     "name": "stdout",
     "output_type": "stream",
     "text": [
      "# Turtle program of circle :-\n",
      "import turtle \n",
      "turtle.circle(50)\n",
      "turtle.circle(54)\n",
      "turtle.circle(35)\n",
      "turtle.circle(59)\n",
      "turtle.circle(52)\n",
      "turtle.circle(55)\n",
      "turtle.circle(64)\n",
      "turtle.circle(95)\n",
      "turtle.circle(105)\n",
      " \n",
      "\n"
     ]
    }
   ],
   "source": [
    "data = open('t5.py').read()\n",
    "print(data)"
   ]
  },
  {
   "cell_type": "markdown",
   "metadata": {},
   "source": [
    "- Indexing Of the program 👇"
   ]
  },
  {
   "cell_type": "code",
   "execution_count": 24,
   "metadata": {},
   "outputs": [
    {
     "name": "stdout",
     "output_type": "stream",
     "text": [
      "H\n",
      "e\n",
      "l\n",
      "l\n",
      "o\n",
      "y\n",
      "r\n"
     ]
    }
   ],
   "source": [
    "s = \"Hello World I am come from another country\"\n",
    "print(s[0]) # first char\n",
    "print(s[1]) #second char\n",
    "print(s[2])\n",
    "print(s[3])\n",
    "print(s[4])\n",
    "print(s[-1]) # lst char\n",
    "print(s[-2]) # second last char"
   ]
  },
  {
   "cell_type": "code",
   "execution_count": 39,
   "metadata": {},
   "outputs": [
    {
     "name": "stdout",
     "output_type": "stream",
     "text": [
      "M\n",
      "y\n",
      " \n",
      "n\n",
      "a\n",
      "m\n",
      "e\n",
      "y\n",
      "r\n",
      "t\n",
      "n\n",
      "u\n"
     ]
    }
   ],
   "source": [
    "a = \"My name is John Dervik I am from another Country\"\n",
    "print(a[0])\n",
    "print(a[1])\n",
    "print(a[2])\n",
    "print(a[3])\n",
    "print(a[4])\n",
    "print(a[5])\n",
    "print(a[6])\n",
    "print(a[-1])\n",
    "print(a[-2])\n",
    "print(a[-3])\n",
    "print(a[-4])\n",
    "print(a[-5])"
   ]
  },
  {
   "cell_type": "markdown",
   "metadata": {},
   "source": [
    "- Indexing :--👇"
   ]
  },
  {
   "cell_type": "code",
   "execution_count": 25,
   "metadata": {},
   "outputs": [
    {
     "name": "stdout",
     "output_type": "stream",
     "text": [
      "liam Shakesp\n",
      "Will\n",
      "Shakespeare\n",
      "William Shakespeare\n",
      "WlimSaepae\n",
      "eraepsekahS mailliW\n"
     ]
    }
   ],
   "source": [
    "name = 'William Shakespeare'\n",
    "a = name[3:-4]\n",
    "print(a)\n",
    "b = name[:4] # 0 can be omitted if slicing is end\n",
    "print(b)\n",
    "c = name[8:]\n",
    "print(c)\n",
    "d = name[:]\n",
    "print(d)\n",
    "e = name[::2] # step\n",
    "print(e)\n",
    "f = name[::-1] # reverse\n",
    "print(f)"
   ]
  },
  {
   "cell_type": "markdown",
   "metadata": {},
   "source": [
    "- Indexing 👇"
   ]
  },
  {
   "cell_type": "code",
   "execution_count": 14,
   "metadata": {},
   "outputs": [
    {
     "name": "stdout",
     "output_type": "stream",
     "text": [
      "Hello My Name is John Devrik\n",
      "Hello My Name is John Devrik\n",
      "Hello My Name is John Devrik\n",
      "H\n",
      "Hello My Name is John \n"
     ]
    }
   ],
   "source": [
    "name = 'Hello My Name is John Devrik'\n",
    "a = name[0:]\n",
    "print(a)\n",
    "b = name[::]\n",
    "print(b)\n",
    "c = name[0::]\n",
    "print(c)\n",
    "d = name[0:1]\n",
    "print(d)\n",
    "e = name[0:22]\n",
    "print(e)"
   ]
  },
  {
   "cell_type": "markdown",
   "metadata": {},
   "source": [
    "- Find length of program :---👇"
   ]
  },
  {
   "cell_type": "code",
   "execution_count": 30,
   "metadata": {},
   "outputs": [
    {
     "data": {
      "text/plain": [
       "28"
      ]
     },
     "execution_count": 30,
     "metadata": {},
     "output_type": "execute_result"
    }
   ],
   "source": [
    "len(name)"
   ]
  },
  {
   "cell_type": "markdown",
   "metadata": {},
   "source": [
    "- Methods:-\n",
    "\n",
    "- utility method : -----------\n",
    "- count\n",
    "- find\n",
    "- replace\n",
    "- split\n",
    "- join\n",
    "- strip\n",
    "\n",
    "- Formating methods :--------\n",
    "- capitalize\n",
    "- title\n",
    "- upper\n",
    "- lower\n",
    "- swapcase\n",
    "- casefold\n",
    "\n",
    "- Validation methods :- -----------\n",
    "- isalnum\n",
    "- isalpha\n",
    "- isdigit\n",
    "- islower\n",
    "- isupper\n",
    "- istitle\n",
    "- isspace"
   ]
  },
  {
   "cell_type": "markdown",
   "metadata": {},
   "source": [
    "- Using of upper case👇👇"
   ]
  },
  {
   "cell_type": "code",
   "execution_count": 31,
   "metadata": {},
   "outputs": [
    {
     "data": {
      "text/plain": [
       "'HELLO MY NAME IS JOHN DEVRIK'"
      ]
     },
     "execution_count": 31,
     "metadata": {},
     "output_type": "execute_result"
    }
   ],
   "source": [
    "name.upper()"
   ]
  },
  {
   "cell_type": "markdown",
   "metadata": {},
   "source": [
    "- Count :--👇👇"
   ]
  },
  {
   "cell_type": "code",
   "execution_count": 32,
   "metadata": {},
   "outputs": [
    {
     "name": "stdout",
     "output_type": "stream",
     "text": [
      "8\n",
      "2\n",
      "2\n",
      "0\n"
     ]
    }
   ],
   "source": [
    "msg = '''this is the story about a kingdom of \n",
    "south india lead by the hoyasala dynasty kings.'''\n",
    "\n",
    "print(msg.count('a'))\n",
    "print(msg.count('out'))\n",
    "print(msg.count('the'))"
   ]
  },
  {
   "cell_type": "code",
   "execution_count": 51,
   "metadata": {},
   "outputs": [
    {
     "name": "stdout",
     "output_type": "stream",
     "text": [
      "5\n",
      "7\n",
      "6\n",
      "2\n",
      "2\n",
      "3\n",
      "2\n",
      "5\n",
      "7\n",
      "2\n",
      "1\n",
      "4\n",
      "3\n"
     ]
    }
   ],
   "source": [
    "msg = '''this is the my story about the autobiography \n",
    "I am passionate in our work'''\n",
    "print(msg.count('s'))\n",
    "print(msg.count('t'))\n",
    "print(msg.count('a'))\n",
    "print(msg.count('n'))\n",
    "print(msg.count('p'))\n",
    "print(msg.count('e'))\n",
    "print(msg.count('m'))\n",
    "print(msg.count('i'))\n",
    "print(msg.count('o'))\n",
    "print(msg.count('b'))\n",
    "print(msg.count('g'))\n",
    "print(msg.count('h'))\n",
    "print(msg.count('y'))"
   ]
  },
  {
   "cell_type": "markdown",
   "metadata": {},
   "source": [
    "- Count :-👇👇"
   ]
  },
  {
   "cell_type": "code",
   "execution_count": 34,
   "metadata": {},
   "outputs": [
    {
     "name": "stdout",
     "output_type": "stream",
     "text": [
      "25\n"
     ]
    }
   ],
   "source": [
    "total_vowels = msg.count('a')+msg.count('e')+msg.count('i')+msg.count('o')+msg.count('u')\n",
    "print(total_vowels)"
   ]
  },
  {
   "cell_type": "code",
   "execution_count": 52,
   "metadata": {},
   "outputs": [
    {
     "name": "stdout",
     "output_type": "stream",
     "text": [
      "11\n"
     ]
    }
   ],
   "source": [
    "total_numbers = msg.count('a')+msg.count('b')+msg.count('c')+msg.count('d')+msg.count('e')+msg.count('f')\n",
    "print(total_numbers)"
   ]
  },
  {
   "cell_type": "markdown",
   "metadata": {},
   "source": [
    "- Also Count :--👇👇"
   ]
  },
  {
   "cell_type": "code",
   "execution_count": 35,
   "metadata": {},
   "outputs": [
    {
     "name": "stdout",
     "output_type": "stream",
     "text": [
      "8\n",
      "11\n",
      "17\n",
      "23\n",
      "25\n"
     ]
    }
   ],
   "source": [
    "tvs = 0\n",
    "for c in 'aeiou':\n",
    "    tvs+= msg.count(c)\n",
    "    print(tvs)\n"
   ]
  },
  {
   "cell_type": "markdown",
   "metadata": {},
   "source": [
    "- Print aeiou.👇"
   ]
  },
  {
   "cell_type": "code",
   "execution_count": 38,
   "metadata": {},
   "outputs": [
    {
     "name": "stdout",
     "output_type": "stream",
     "text": [
      "a\n",
      "e\n",
      "i\n",
      "o\n",
      "u\n"
     ]
    }
   ],
   "source": [
    "for c in 'aeiou':\n",
    "    print(c)\n"
   ]
  },
  {
   "cell_type": "code",
   "execution_count": 40,
   "metadata": {},
   "outputs": [
    {
     "name": "stdout",
     "output_type": "stream",
     "text": [
      "a\n",
      " \n",
      "b\n",
      " \n",
      "c\n",
      " \n",
      "d\n",
      " \n",
      "e\n"
     ]
    }
   ],
   "source": [
    "for c in 'a b c d e':\n",
    "    print(c)"
   ]
  },
  {
   "cell_type": "markdown",
   "metadata": {},
   "source": [
    "- Find "
   ]
  },
  {
   "cell_type": "code",
   "execution_count": 42,
   "metadata": {},
   "outputs": [
    {
     "data": {
      "text/plain": [
       "-1"
      ]
     },
     "execution_count": 42,
     "metadata": {},
     "output_type": "execute_result"
    }
   ],
   "source": [
    "msg.find('Out')"
   ]
  },
  {
   "cell_type": "code",
   "execution_count": 43,
   "metadata": {},
   "outputs": [
    {
     "data": {
      "text/plain": [
       "12"
      ]
     },
     "execution_count": 43,
     "metadata": {},
     "output_type": "execute_result"
    }
   ],
   "source": [
    "msg.find('story')"
   ]
  },
  {
   "cell_type": "markdown",
   "metadata": {},
   "source": [
    "- Replace :--"
   ]
  },
  {
   "cell_type": "code",
   "execution_count": 44,
   "metadata": {},
   "outputs": [
    {
     "data": {
      "text/plain": [
       "'this is the story bbout b kingdom of \\nsouth indib lebd by the hoybsblb dynbsty kings.'"
      ]
     },
     "execution_count": 44,
     "metadata": {},
     "output_type": "execute_result"
    }
   ],
   "source": [
    "msg.replace('a','b')\n"
   ]
  },
  {
   "cell_type": "code",
   "execution_count": 45,
   "metadata": {},
   "outputs": [
    {
     "data": {
      "text/plain": [
       "'this is the story abin a kingdom of \\nsinh india lead by the hoyasala dynasty kings.'"
      ]
     },
     "execution_count": 45,
     "metadata": {},
     "output_type": "execute_result"
    }
   ],
   "source": [
    "msg.replace('out','in')"
   ]
  },
  {
   "cell_type": "code",
   "execution_count": 46,
   "metadata": {},
   "outputs": [
    {
     "data": {
      "text/plain": [
       "'this is the story bout  kingdom of \\nsouth indi led by the hoysl dynsty kings.'"
      ]
     },
     "execution_count": 46,
     "metadata": {},
     "output_type": "execute_result"
    }
   ],
   "source": [
    "msg.replace('a','') # remove all a's by ' '"
   ]
  },
  {
   "cell_type": "code",
   "execution_count": 15,
   "metadata": {},
   "outputs": [
    {
     "data": {
      "text/plain": [
       "'This massage are elaborate it oqt of the qnder'"
      ]
     },
     "execution_count": 15,
     "metadata": {},
     "output_type": "execute_result"
    }
   ],
   "source": [
    "msg = \"This massage are elaborate it out of the under\"\n",
    "msg.replace('a','t')\n",
    "msg.replace('e','y')\n",
    "msg.replace('i','o')\n",
    "msg.replace('o','p')\n",
    "msg.replace('u','q')\n"
   ]
  },
  {
   "cell_type": "code",
   "execution_count": 16,
   "metadata": {},
   "outputs": [
    {
     "data": {
      "text/plain": [
       "'This m ss ge  re el bor te it out of the under'"
      ]
     },
     "execution_count": 16,
     "metadata": {},
     "output_type": "execute_result"
    }
   ],
   "source": [
    "msg.replace('a', ' ') # it is delete the all the a from the (msg)..."
   ]
  },
  {
   "cell_type": "code",
   "execution_count": 55,
   "metadata": {},
   "outputs": [
    {
     "name": "stdout",
     "output_type": "stream",
     "text": [
      "this is the story bout  kingdom of \n",
      "south indi led by the hoysl dynsty kings.\n",
      "this is th story bout  kingdom of \n",
      "south indi ld by th hoysl dynsty kings.\n",
      "ths s th story bout  kngdom of \n",
      "south nd ld by th hoysl dynsty kngs.\n",
      "ths s th stry but  kngdm f \n",
      "suth nd ld by th hysl dynsty kngs.\n",
      "ths s th stry bt  kngdm f \n",
      "sth nd ld by th hysl dynsty kngs.\n"
     ]
    }
   ],
   "source": [
    "msg_copy = msg\n",
    "for c in 'aeiou':\n",
    "    msg_copy = msg_copy.replace(c,'')\n",
    "    print(msg_copy)"
   ]
  },
  {
   "cell_type": "markdown",
   "metadata": {},
   "source": [
    "- Split :- our program break into list"
   ]
  },
  {
   "cell_type": "code",
   "execution_count": 1,
   "metadata": {},
   "outputs": [
    {
     "data": {
      "text/plain": [
       "['this', 'is', 'a', 'massage']"
      ]
     },
     "execution_count": 1,
     "metadata": {},
     "output_type": "execute_result"
    }
   ],
   "source": [
    "data = \"this is a massage\"\n",
    "data.split()"
   ]
  },
  {
   "cell_type": "code",
   "execution_count": 2,
   "metadata": {},
   "outputs": [
    {
     "data": {
      "text/plain": [
       "['Life before death',\n",
       " '\\nstrength before weakness',\n",
       " '\\njourney before destination']"
      ]
     },
     "execution_count": 2,
     "metadata": {},
     "output_type": "execute_result"
    }
   ],
   "source": [
    "quote = '''Life before death,\n",
    "strength before weakness,\n",
    "journey before destination'''\n",
    "quote.split(',') # Strings break into list "
   ]
  },
  {
   "cell_type": "code",
   "execution_count": 3,
   "metadata": {},
   "outputs": [
    {
     "data": {
      "text/plain": [
       "['Life before death,',\n",
       " 'strength before weakness,',\n",
       " 'journey before destination']"
      ]
     },
     "execution_count": 3,
     "metadata": {},
     "output_type": "execute_result"
    }
   ],
   "source": [
    "quote.splitlines() # It is break the multiple lines only work on multiple lines"
   ]
  },
  {
   "cell_type": "markdown",
   "metadata": {},
   "source": [
    "- Join :---\n",
    "- "
   ]
  },
  {
   "cell_type": "code",
   "execution_count": 4,
   "metadata": {},
   "outputs": [
    {
     "data": {
      "text/plain": [
       "'HiThereHowAreyou'"
      ]
     },
     "execution_count": 4,
     "metadata": {},
     "output_type": "execute_result"
    }
   ],
   "source": [
    "msg = ['Hi','There','How','Are','you']\n",
    "''.join(msg)"
   ]
  },
  {
   "cell_type": "code",
   "execution_count": 5,
   "metadata": {},
   "outputs": [
    {
     "data": {
      "text/plain": [
       "'Hi_There_How_Are_you'"
      ]
     },
     "execution_count": 5,
     "metadata": {},
     "output_type": "execute_result"
    }
   ],
   "source": [
    "'_'.join(msg)"
   ]
  },
  {
   "cell_type": "markdown",
   "metadata": {},
   "source": [
    "- Strip :- "
   ]
  },
  {
   "cell_type": "code",
   "execution_count": 19,
   "metadata": {},
   "outputs": [
    {
     "name": "stdout",
     "output_type": "stream",
     "text": [
      "john cena\n"
     ]
    }
   ],
   "source": [
    "x  = '  john cena  '\n",
    "#print(len(x))\n",
    "x = x.strip()\n",
    "print(x)\n",
    "#print(len(x))"
   ]
  },
  {
   "cell_type": "markdown",
   "metadata": {},
   "source": [
    "- Question mark \n",
    "- it works without internet\n",
    "- work on only notebok"
   ]
  },
  {
   "cell_type": "code",
   "execution_count": 7,
   "metadata": {},
   "outputs": [
    {
     "name": "stdout",
     "output_type": "stream",
     "text": [
      "\u001b[1;31mDocstring:\u001b[0m\n",
      "print(value, ..., sep=' ', end='\\n', file=sys.stdout, flush=False)\n",
      "\n",
      "Prints the values to a stream, or to sys.stdout by default.\n",
      "Optional keyword arguments:\n",
      "file:  a file-like object (stream); defaults to the current sys.stdout.\n",
      "sep:   string inserted between values, default a space.\n",
      "end:   string appended after the last value, default a newline.\n",
      "flush: whether to forcibly flush the stream.\n",
      "\u001b[1;31mType:\u001b[0m      builtin_function_or_method"
     ]
    }
   ],
   "source": [
    "print?"
   ]
  },
  {
   "cell_type": "code",
   "execution_count": 8,
   "metadata": {},
   "outputs": [
    {
     "name": "stdout",
     "output_type": "stream",
     "text": [
      "\u001b[1;31mSignature:\u001b[0m\n",
      "\u001b[0mopen\u001b[0m\u001b[1;33m(\u001b[0m\u001b[1;33m\n",
      "\u001b[0m    \u001b[0mfile\u001b[0m\u001b[1;33m,\u001b[0m\u001b[1;33m\n",
      "\u001b[0m    \u001b[0mmode\u001b[0m\u001b[1;33m=\u001b[0m\u001b[1;34m'r'\u001b[0m\u001b[1;33m,\u001b[0m\u001b[1;33m\n",
      "\u001b[0m    \u001b[0mbuffering\u001b[0m\u001b[1;33m=\u001b[0m\u001b[1;33m-\u001b[0m\u001b[1;36m1\u001b[0m\u001b[1;33m,\u001b[0m\u001b[1;33m\n",
      "\u001b[0m    \u001b[0mencoding\u001b[0m\u001b[1;33m=\u001b[0m\u001b[1;32mNone\u001b[0m\u001b[1;33m,\u001b[0m\u001b[1;33m\n",
      "\u001b[0m    \u001b[0merrors\u001b[0m\u001b[1;33m=\u001b[0m\u001b[1;32mNone\u001b[0m\u001b[1;33m,\u001b[0m\u001b[1;33m\n",
      "\u001b[0m    \u001b[0mnewline\u001b[0m\u001b[1;33m=\u001b[0m\u001b[1;32mNone\u001b[0m\u001b[1;33m,\u001b[0m\u001b[1;33m\n",
      "\u001b[0m    \u001b[0mclosefd\u001b[0m\u001b[1;33m=\u001b[0m\u001b[1;32mTrue\u001b[0m\u001b[1;33m,\u001b[0m\u001b[1;33m\n",
      "\u001b[0m    \u001b[0mopener\u001b[0m\u001b[1;33m=\u001b[0m\u001b[1;32mNone\u001b[0m\u001b[1;33m,\u001b[0m\u001b[1;33m\n",
      "\u001b[0m\u001b[1;33m)\u001b[0m\u001b[1;33m\u001b[0m\u001b[1;33m\u001b[0m\u001b[0m\n",
      "\u001b[1;31mDocstring:\u001b[0m\n",
      "Open file and return a stream.  Raise OSError upon failure.\n",
      "\n",
      "file is either a text or byte string giving the name (and the path\n",
      "if the file isn't in the current working directory) of the file to\n",
      "be opened or an integer file descriptor of the file to be\n",
      "wrapped. (If a file descriptor is given, it is closed when the\n",
      "returned I/O object is closed, unless closefd is set to False.)\n",
      "\n",
      "mode is an optional string that specifies the mode in which the file\n",
      "is opened. It defaults to 'r' which means open for reading in text\n",
      "mode.  Other common values are 'w' for writing (truncating the file if\n",
      "it already exists), 'x' for creating and writing to a new file, and\n",
      "'a' for appending (which on some Unix systems, means that all writes\n",
      "append to the end of the file regardless of the current seek position).\n",
      "In text mode, if encoding is not specified the encoding used is platform\n",
      "dependent: locale.getpreferredencoding(False) is called to get the\n",
      "current locale encoding. (For reading and writing raw bytes use binary\n",
      "mode and leave encoding unspecified.) The available modes are:\n",
      "\n",
      "========= ===============================================================\n",
      "Character Meaning\n",
      "--------- ---------------------------------------------------------------\n",
      "'r'       open for reading (default)\n",
      "'w'       open for writing, truncating the file first\n",
      "'x'       create a new file and open it for writing\n",
      "'a'       open for writing, appending to the end of the file if it exists\n",
      "'b'       binary mode\n",
      "'t'       text mode (default)\n",
      "'+'       open a disk file for updating (reading and writing)\n",
      "'U'       universal newline mode (deprecated)\n",
      "========= ===============================================================\n",
      "\n",
      "The default mode is 'rt' (open for reading text). For binary random\n",
      "access, the mode 'w+b' opens and truncates the file to 0 bytes, while\n",
      "'r+b' opens the file without truncation. The 'x' mode implies 'w' and\n",
      "raises an `FileExistsError` if the file already exists.\n",
      "\n",
      "Python distinguishes between files opened in binary and text modes,\n",
      "even when the underlying operating system doesn't. Files opened in\n",
      "binary mode (appending 'b' to the mode argument) return contents as\n",
      "bytes objects without any decoding. In text mode (the default, or when\n",
      "'t' is appended to the mode argument), the contents of the file are\n",
      "returned as strings, the bytes having been first decoded using a\n",
      "platform-dependent encoding or using the specified encoding if given.\n",
      "\n",
      "'U' mode is deprecated and will raise an exception in future versions\n",
      "of Python.  It has no effect in Python 3.  Use newline to control\n",
      "universal newlines mode.\n",
      "\n",
      "buffering is an optional integer used to set the buffering policy.\n",
      "Pass 0 to switch buffering off (only allowed in binary mode), 1 to select\n",
      "line buffering (only usable in text mode), and an integer > 1 to indicate\n",
      "the size of a fixed-size chunk buffer.  When no buffering argument is\n",
      "given, the default buffering policy works as follows:\n",
      "\n",
      "* Binary files are buffered in fixed-size chunks; the size of the buffer\n",
      "  is chosen using a heuristic trying to determine the underlying device's\n",
      "  \"block size\" and falling back on `io.DEFAULT_BUFFER_SIZE`.\n",
      "  On many systems, the buffer will typically be 4096 or 8192 bytes long.\n",
      "\n",
      "* \"Interactive\" text files (files for which isatty() returns True)\n",
      "  use line buffering.  Other text files use the policy described above\n",
      "  for binary files.\n",
      "\n",
      "encoding is the name of the encoding used to decode or encode the\n",
      "file. This should only be used in text mode. The default encoding is\n",
      "platform dependent, but any encoding supported by Python can be\n",
      "passed.  See the codecs module for the list of supported encodings.\n",
      "\n",
      "errors is an optional string that specifies how encoding errors are to\n",
      "be handled---this argument should not be used in binary mode. Pass\n",
      "'strict' to raise a ValueError exception if there is an encoding error\n",
      "(the default of None has the same effect), or pass 'ignore' to ignore\n",
      "errors. (Note that ignoring encoding errors can lead to data loss.)\n",
      "See the documentation for codecs.register or run 'help(codecs.Codec)'\n",
      "for a list of the permitted encoding error strings.\n",
      "\n",
      "newline controls how universal newlines works (it only applies to text\n",
      "mode). It can be None, '', '\\n', '\\r', and '\\r\\n'.  It works as\n",
      "follows:\n",
      "\n",
      "* On input, if newline is None, universal newlines mode is\n",
      "  enabled. Lines in the input can end in '\\n', '\\r', or '\\r\\n', and\n",
      "  these are translated into '\\n' before being returned to the\n",
      "  caller. If it is '', universal newline mode is enabled, but line\n",
      "  endings are returned to the caller untranslated. If it has any of\n",
      "  the other legal values, input lines are only terminated by the given\n",
      "  string, and the line ending is returned to the caller untranslated.\n",
      "\n",
      "* On output, if newline is None, any '\\n' characters written are\n",
      "  translated to the system default line separator, os.linesep. If\n",
      "  newline is '' or '\\n', no translation takes place. If newline is any\n",
      "  of the other legal values, any '\\n' characters written are translated\n",
      "  to the given string.\n",
      "\n",
      "If closefd is False, the underlying file descriptor will be kept open\n",
      "when the file is closed. This does not work when a file name is given\n",
      "and must be True in that case.\n",
      "\n",
      "A custom opener can be used by passing a callable as *opener*. The\n",
      "underlying file descriptor for the file object is then obtained by\n",
      "calling *opener* with (*file*, *flags*). *opener* must return an open\n",
      "file descriptor (passing os.open as *opener* results in functionality\n",
      "similar to passing None).\n",
      "\n",
      "open() returns a file object whose type depends on the mode, and\n",
      "through which the standard file operations such as reading and writing\n",
      "are performed. When open() is used to open a file in a text mode ('w',\n",
      "'r', 'wt', 'rt', etc.), it returns a TextIOWrapper. When used to open\n",
      "a file in a binary mode, the returned class varies: in read binary\n",
      "mode, it returns a BufferedReader; in write binary and append binary\n",
      "modes, it returns a BufferedWriter, and in read/write mode, it returns\n",
      "a BufferedRandom.\n",
      "\n",
      "It is also possible to use a string or bytearray as a file for both\n",
      "reading and writing. For strings StringIO can be used like a file\n",
      "opened in a text mode, and for bytes a BytesIO can be used like a file\n",
      "opened in a binary mode.\n",
      "\u001b[1;31mType:\u001b[0m      function"
     ]
    }
   ],
   "source": [
    "open?"
   ]
  },
  {
   "cell_type": "code",
   "execution_count": 9,
   "metadata": {},
   "outputs": [
    {
     "name": "stdout",
     "output_type": "stream",
     "text": [
      "Help on built-in function eval in module builtins:\n",
      "\n",
      "eval(source, globals=None, locals=None, /)\n",
      "    Evaluate the given source in the context of globals and locals.\n",
      "    \n",
      "    The source may be a string representing a Python expression\n",
      "    or a code object as returned by compile().\n",
      "    The globals must be a dictionary and locals can be any mapping,\n",
      "    defaulting to the current globals and locals.\n",
      "    If only globals is given, locals defaults to it.\n",
      "\n"
     ]
    }
   ],
   "source": [
    "help(eval) # it is also work as like ?"
   ]
  },
  {
   "cell_type": "markdown",
   "metadata": {},
   "source": [
    "- foramting :-"
   ]
  },
  {
   "cell_type": "code",
   "execution_count": 20,
   "metadata": {},
   "outputs": [
    {
     "name": "stdout",
     "output_type": "stream",
     "text": [
      "ANSH DHAIRYA\n",
      "ansh dhairya\n",
      "Ansh dhairya\n",
      "Ansh Dhairya\n",
      "<built-in method swapcase of str object at 0x00000152FC7449F0>\n",
      "ansh dhairya\n"
     ]
    }
   ],
   "source": [
    "name = 'Ansh Dhairya'\n",
    "print(name.upper())\n",
    "print(name.lower())\n",
    "print(name.capitalize())\n",
    "print(name.title())\n",
    "print(name.swapcase)\n",
    "print(name.casefold())"
   ]
  },
  {
   "cell_type": "code",
   "execution_count": 11,
   "metadata": {},
   "outputs": [
    {
     "name": "stdout",
     "output_type": "stream",
     "text": [
      "Ansh Dhairya\n"
     ]
    }
   ],
   "source": [
    "print(name)"
   ]
  },
  {
   "cell_type": "code",
   "execution_count": 14,
   "metadata": {},
   "outputs": [
    {
     "name": "stdout",
     "output_type": "stream",
     "text": [
      "False\n",
      "False\n",
      "False\n",
      "False\n",
      "False\n",
      "False\n",
      "True\n",
      "False\n"
     ]
    }
   ],
   "source": [
    "x = 'John Cen678a'\n",
    "print(x.islower())\n",
    "print(x.isupper())\n",
    "print(x.isnumeric())\n",
    "print(x.isalpha())\n",
    "print(x.isalnum())\n",
    "print(x.isspace())\n",
    "print(x.isprintable())\n",
    "print(x.isdigit())"
   ]
  },
  {
   "cell_type": "markdown",
   "metadata": {},
   "source": [
    " Q1 - Wap to take a string from user then print only the words that are even indexed\n",
    " ex input : This is avery imp day\n",
    " output :- This is important"
   ]
  },
  {
   "cell_type": "code",
   "execution_count": 17,
   "metadata": {},
   "outputs": [
    {
     "data": {
      "text/plain": [
       "'This a imp'"
      ]
     },
     "execution_count": 17,
     "metadata": {},
     "output_type": "execute_result"
    }
   ],
   "source": [
    "\" \".join(input('enter the somethings').split()[::2])\n",
    "\n",
    "         \n",
    "         "
   ]
  },
  {
   "cell_type": "markdown",
   "metadata": {},
   "source": [
    "Q2 - wap to take string from the user and then display the size of each word and also display the word with maximam size"
   ]
  },
  {
   "cell_type": "code",
   "execution_count": 10,
   "metadata": {},
   "outputs": [
    {
     "name": "stdout",
     "output_type": "stream",
     "text": [
      "Hello           5\n",
      "Hello(5) is largest\n",
      "buddies         7\n",
      "buddies(7) is largest\n",
      "buddies(7) is largest\n",
      "buddies(7) is largest\n",
      "buddies(7) is largest\n",
      "buddies(7) is largest\n",
      "buddies(7) is largest\n"
     ]
    }
   ],
   "source": [
    "content = input('enter somethings')\n",
    "largest_word = ''\n",
    "largest_word_len = 0\n",
    "for word in content.split():\n",
    "    if len(word) > largest_word_len:\n",
    "        largest_word = word\n",
    "        largest_word_len = len(word)\n",
    "        print(f'{word:15} {len(word)}')\n",
    "    print(f'{largest_word}({largest_word_len}) is largest')\n",
    "    "
   ]
  },
  {
   "cell_type": "code",
   "execution_count": null,
   "metadata": {},
   "outputs": [],
   "source": []
  }
 ],
 "metadata": {
  "kernelspec": {
   "display_name": "base",
   "language": "python",
   "name": "python3"
  },
  "language_info": {
   "codemirror_mode": {
    "name": "ipython",
    "version": 3
   },
   "file_extension": ".py",
   "mimetype": "text/x-python",
   "name": "python",
   "nbconvert_exporter": "python",
   "pygments_lexer": "ipython3",
   "version": "3.10.10"
  },
  "orig_nbformat": 4
 },
 "nbformat": 4,
 "nbformat_minor": 2
}

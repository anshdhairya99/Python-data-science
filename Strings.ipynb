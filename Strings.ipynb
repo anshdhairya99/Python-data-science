{
 "cells": [
  {
   "cell_type": "markdown",
   "metadata": {},
   "source": [
    "- Strings in python:--\n",
    "\n",
    "- creation\n",
    "- indexing and slicing\n",
    "- methods"
   ]
  },
  {
   "cell_type": "markdown",
   "metadata": {},
   "source": [
    "- STRINGS :-- This is the Immutable(Can not change)"
   ]
  },
  {
   "cell_type": "code",
   "execution_count": 16,
   "metadata": {},
   "outputs": [
    {
     "name": "stdout",
     "output_type": "stream",
     "text": [
      "_234__234__234__234__234__234__234__234__234__234_\n"
     ]
    }
   ],
   "source": [
    "s= \"hello\"\n",
    "s1 ='world'\n",
    "msg = '''this is message with the multiple lines'''\n",
    "w = '_234_'*10\n",
    "print(w)"
   ]
  },
  {
   "cell_type": "code",
   "execution_count": 21,
   "metadata": {},
   "outputs": [
    {
     "name": "stdout",
     "output_type": "stream",
     "text": [
      "786,786,786,786,786,786,786,786,786,786,786,786,786,786,786,786,786,786,786,786,\n"
     ]
    }
   ],
   "source": [
    "name = \"Roman Reigns\"\n",
    "name1 = 'World Wide Network'\n",
    "msg = '''This massage are very imortant for the multiple lines of codes'''\n",
    "w = '786,' *20\n",
    "print(w)\n"
   ]
  },
  {
   "cell_type": "markdown",
   "metadata": {},
   "source": [
    "- Practice of Strings :--👇"
   ]
  },
  {
   "cell_type": "code",
   "execution_count": 42,
   "metadata": {},
   "outputs": [
    {
     "name": "stdout",
     "output_type": "stream",
     "text": [
      "y\n"
     ]
    }
   ],
   "source": [
    "mystr = \"Harry is the Good Boy\"\n",
    "#print(mystr)\n",
    "print(mystr[4])"
   ]
  },
  {
   "cell_type": "markdown",
   "metadata": {},
   "source": [
    "- String Slicing :--"
   ]
  },
  {
   "cell_type": "code",
   "execution_count": 67,
   "metadata": {},
   "outputs": [
    {
     "name": "stdout",
     "output_type": "stream",
     "text": [
      "Koh\n",
      "Kohli\n",
      "The length of the script is 80\n",
      "Kohli is play the Cricket\n",
      "Kohli is play the Cricket in a long times and also a great player of India \n",
      "Kohli is play the Cricket in a long times and also a great player of India teams\n",
      "2000000000000000000000000000000000000000000000000000000\n",
      "20000000000000000000\n"
     ]
    }
   ],
   "source": [
    "mystr = \"Kohli is play the Cricket in a long times and also a great player of India teams\"\n",
    "print(mystr[0:3])\n",
    "print(mystr[0:5])\n",
    "print(\"The length of the script is\",len(mystr))\n",
    "print(mystr[0:25])\n",
    "print(mystr[0:75])\n",
    "print(mystr[0:2000000000000000])\n",
    "mystr = \"2000000000000000000000000000000000000000000000000000000\"\n",
    "print(mystr)\n",
    "print(mystr[0:20])"
   ]
  },
  {
   "cell_type": "markdown",
   "metadata": {},
   "source": [
    "- Advaced Slicing :----👇"
   ]
  },
  {
   "cell_type": "code",
   "execution_count": 81,
   "metadata": {},
   "outputs": [
    {
     "name": "stdout",
     "output_type": "stream",
     "text": [
      "Harry is very cute man in the World\n",
      "This is length of 35\n",
      "Hry\n",
      "Hi\n",
      "Harry is very cute man in the World\n",
      "Harry is very cute man in the World\n",
      "Harry is very cute man in the World\n",
      "Harry\n",
      "Harry is very cute man\n",
      "Hryi eyct a nteWrd\n"
     ]
    }
   ],
   "source": [
    "mystr = \"Harry is very cute man in the World\"\n",
    "print(mystr)\n",
    "print(\"This is length of\",len(mystr))\n",
    "print((mystr[0:5:2])) # Skip 2 the script from front name harry and print it only \"hry\" \n",
    "print(mystr[::23])\n",
    "print(mystr[:])\n",
    "print(mystr[::])\n",
    "print(mystr[0:])\n",
    "print(mystr[:5])\n",
    "print(mystr[0:22:1])\n",
    "print(mystr[::2]) # It is reverse the our script"
   ]
  },
  {
   "cell_type": "markdown",
   "metadata": {},
   "source": [
    "- Negative Index :--👇"
   ]
  },
  {
   "cell_type": "code",
   "execution_count": 99,
   "metadata": {},
   "outputs": [
    {
     "name": "stdout",
     "output_type": "stream",
     "text": [
      "14\n",
      "W\n",
      " Web\n",
      " W\n",
      "beW ediW dlroW\n"
     ]
    }
   ],
   "source": [
    "name = \"World Wide Web\"\n",
    "print(len(name))\n",
    "print(name[0:1])\n",
    "print(name[-4:])\n",
    "print(name[-4:-2])\n",
    "print(name[::-1])  # it is just covert the our code\n",
    "\n"
   ]
  },
  {
   "cell_type": "markdown",
   "metadata": {},
   "source": [
    "- True and False :---- Using \n",
    "- string.isdigit() - It is only contain (numeric) value then give the True.\n",
    "- string.isalpha() - It is only contain the (character value) then also give the True\n",
    "- string.isalnum() - It is contain the (character and numeric) then dive the true "
   ]
  },
  {
   "cell_type": "code",
   "execution_count": 18,
   "metadata": {},
   "outputs": [
    {
     "name": "stdout",
     "output_type": "stream",
     "text": [
      "True\n",
      "True\n",
      "True\n"
     ]
    }
   ],
   "source": [
    "# string.isdigit()\n",
    "mystr = \"1234567890\"\n",
    "print(mystr.isdigit())\n",
    "\n",
    "# string.isalpha()\n",
    "mystr = \"HelloMevrik\"\n",
    "print(mystr.isalpha())\n",
    "\n",
    "# string.isalnum()\n",
    "mystr = \"12345harry123david\"\n",
    "print(mystr.isalnum())\n",
    "\n"
   ]
  },
  {
   "cell_type": "markdown",
   "metadata": {},
   "source": [
    "- Some Important Strings In Python :--👇"
   ]
  },
  {
   "cell_type": "code",
   "execution_count": 30,
   "metadata": {},
   "outputs": [
    {
     "name": "stdout",
     "output_type": "stream",
     "text": [
      "True\n",
      "False\n",
      "9\n",
      "hello angela what are you do that at the time and what are you doing at this time. where are you live\n",
      "Hello angela what are you do that at the time and what are you doing at this time. where are you live\n",
      "37\n",
      "Hello Angela What Are You do that at the time and what are you doing at thare time. Where are you live\n"
     ]
    }
   ],
   "source": [
    "name = \"Hello Angela What Are You do that at the time and what are you doing at this time. Where are you live\"\n",
    "print(name.endswith(\"live\"))\n",
    "print(name.endswith(\"are\"))\n",
    "print(name.count(\"a\"))\n",
    "print(name.lower())\n",
    "print(name.capitalize())\n",
    "print(name.find(\"the\"))\n",
    "print(name.replace(\"is\",\"are\"))\n"
   ]
  },
  {
   "cell_type": "markdown",
   "metadata": {},
   "source": [
    "- Find the length of name 👇"
   ]
  },
  {
   "cell_type": "code",
   "execution_count": 20,
   "metadata": {},
   "outputs": [
    {
     "data": {
      "text/plain": [
       "11"
      ]
     },
     "execution_count": 20,
     "metadata": {},
     "output_type": "execute_result"
    }
   ],
   "source": [
    "len(name)"
   ]
  },
  {
   "cell_type": "markdown",
   "metadata": {},
   "source": [
    "- find types of strings 👇 "
   ]
  },
  {
   "cell_type": "code",
   "execution_count": 17,
   "metadata": {},
   "outputs": [
    {
     "name": "stdout",
     "output_type": "stream",
     "text": [
      "100 <class 'str'>\n",
      "100 <class 'int'>\n"
     ]
    }
   ],
   "source": [
    "a = 100\n",
    "b = str(a)\n",
    "print(b,type(b))\n",
    "print(a,type(a))"
   ]
  },
  {
   "cell_type": "markdown",
   "metadata": {},
   "source": [
    "- It is also string👇"
   ]
  },
  {
   "cell_type": "code",
   "execution_count": 3,
   "metadata": {},
   "outputs": [
    {
     "name": "stdout",
     "output_type": "stream",
     "text": [
      "this is ram\n"
     ]
    }
   ],
   "source": [
    "print('this is ram')"
   ]
  },
  {
   "cell_type": "markdown",
   "metadata": {},
   "source": [
    "- Note :- It is only work for text file not a pdf file below code of data only "
   ]
  },
  {
   "cell_type": "markdown",
   "metadata": {},
   "source": [
    "- To find any program with the help of - data = open('t4.py').read() 👇\n"
   ]
  },
  {
   "cell_type": "code",
   "execution_count": 7,
   "metadata": {},
   "outputs": [
    {
     "name": "stdout",
     "output_type": "stream",
     "text": [
      "# Turtle program\n",
      "from turtle import *\n",
      "speed('fastest')\n",
      "pensize(2)\n",
      "bgcolor('black') \n",
      "pencolor('white')\n",
      "colors =['red','yellow','blue','green','orange','purple']\n",
      "side = 6\n",
      "for i in range(side):\n",
      "    fd(200)\n",
      "    lt(360/side)\n",
      "    begin_fill()\n",
      "    fillcolor(color[i%6])\n",
      "    for i in range(side):\n",
      "        fd(50)\n",
      "        lt(360/side)\n",
      "        end_fill()\n",
      "        lt(360/side)\n",
      "mainloop()\n"
     ]
    }
   ],
   "source": [
    "data = open('t4.py').read()\n",
    "print(data)"
   ]
  },
  {
   "cell_type": "code",
   "execution_count": 11,
   "metadata": {},
   "outputs": [
    {
     "name": "stdout",
     "output_type": "stream",
     "text": [
      "# while Loops:--\n",
      "from turtle import *\n",
      "\n",
      "speed('fastest')\n",
      "pencolor('Blue')\n",
      "bgcolor('#303030')\n",
      "pensize(4)\n",
      "\n",
      "i = 200\n",
      "while i > 0:\n",
      "    fd(i)\n",
      "    lt(180)\n",
      "    i -=4\n",
      "    dot(10,'red')\n",
      "    write(i, font=('Calibri', 14, 'bold'))\n",
      "\n",
      "\n",
      "    mainloop()\n"
     ]
    }
   ],
   "source": [
    "data = open('t2.py').read()\n",
    "print(data)\n"
   ]
  },
  {
   "cell_type": "code",
   "execution_count": 34,
   "metadata": {},
   "outputs": [
    {
     "name": "stdout",
     "output_type": "stream",
     "text": [
      "# Turtle program\n",
      "from turtle import *\n",
      "speed('fastest')\n",
      "colors = ['red','yellow','blue','green','black','pink',]\n",
      "pensize(3)\n",
      "for i in range(100):\n",
      "    #print(i%4,colors[i%4])\n",
      "    pencolor(colors[i%4])\n",
      "    fd(i*2)\n",
      "    lt(60)\n",
      "    circle(i*2,180)\n",
      "mainloop()\n",
      "\n"
     ]
    }
   ],
   "source": [
    "data = open('t3.py').read()\n",
    "print(data)"
   ]
  },
  {
   "cell_type": "code",
   "execution_count": 36,
   "metadata": {},
   "outputs": [
    {
     "name": "stdout",
     "output_type": "stream",
     "text": [
      "# Turtle program of circle :-\n",
      "import turtle \n",
      "turtle.circle(50)\n",
      "turtle.circle(54)\n",
      "turtle.circle(35)\n",
      "turtle.circle(59)\n",
      "turtle.circle(52)\n",
      "turtle.circle(55)\n",
      "turtle.circle(64)\n",
      "turtle.circle(95)\n",
      "turtle.circle(105)\n",
      " \n",
      "\n"
     ]
    }
   ],
   "source": [
    "data = open('t5.py').read()\n",
    "print(data)"
   ]
  },
  {
   "cell_type": "markdown",
   "metadata": {},
   "source": [
    "- Indexing Of the program 👇"
   ]
  },
  {
   "cell_type": "code",
   "execution_count": 24,
   "metadata": {},
   "outputs": [
    {
     "name": "stdout",
     "output_type": "stream",
     "text": [
      "H\n",
      "e\n",
      "l\n",
      "l\n",
      "o\n",
      "y\n",
      "r\n"
     ]
    }
   ],
   "source": [
    "s = \"Hello World I am come from another country\"\n",
    "print(s[0]) # first char\n",
    "print(s[1]) #second char\n",
    "print(s[2])\n",
    "print(s[3])\n",
    "print(s[4])\n",
    "print(s[-1]) # lst char\n",
    "print(s[-2]) # second last char"
   ]
  },
  {
   "cell_type": "code",
   "execution_count": 39,
   "metadata": {},
   "outputs": [
    {
     "name": "stdout",
     "output_type": "stream",
     "text": [
      "M\n",
      "y\n",
      " \n",
      "n\n",
      "a\n",
      "m\n",
      "e\n",
      "y\n",
      "r\n",
      "t\n",
      "n\n",
      "u\n"
     ]
    }
   ],
   "source": [
    "a = \"My name is John Dervik I am from another Country\"\n",
    "print(a[0])\n",
    "print(a[1])\n",
    "print(a[2])\n",
    "print(a[3])\n",
    "print(a[4])\n",
    "print(a[5])\n",
    "print(a[6])\n",
    "print(a[-1])\n",
    "print(a[-2])\n",
    "print(a[-3])\n",
    "print(a[-4])\n",
    "print(a[-5])"
   ]
  },
  {
   "cell_type": "markdown",
   "metadata": {},
   "source": [
    "- Indexing :--👇"
   ]
  },
  {
   "cell_type": "code",
   "execution_count": 25,
   "metadata": {},
   "outputs": [
    {
     "name": "stdout",
     "output_type": "stream",
     "text": [
      "liam Shakesp\n",
      "Will\n",
      "Shakespeare\n",
      "William Shakespeare\n",
      "WlimSaepae\n",
      "eraepsekahS mailliW\n"
     ]
    }
   ],
   "source": [
    "name = 'William Shakespeare'\n",
    "a = name[3:-4]\n",
    "print(a)\n",
    "b = name[:4] # 0 can be omitted if slicing is end\n",
    "print(b)\n",
    "c = name[8:]\n",
    "print(c)\n",
    "d = name[:]\n",
    "print(d)\n",
    "e = name[::2] # step\n",
    "print(e)\n",
    "f = name[::-1] # reverse\n",
    "print(f)"
   ]
  },
  {
   "cell_type": "markdown",
   "metadata": {},
   "source": [
    "- Indexing 👇"
   ]
  },
  {
   "cell_type": "code",
   "execution_count": 14,
   "metadata": {},
   "outputs": [
    {
     "name": "stdout",
     "output_type": "stream",
     "text": [
      "Hello My Name is John Devrik\n",
      "Hello My Name is John Devrik\n",
      "Hello My Name is John Devrik\n",
      "H\n",
      "Hello My Name is John \n"
     ]
    }
   ],
   "source": [
    "name = 'Hello My Name is John Devrik'\n",
    "a = name[0:]\n",
    "print(a)\n",
    "b = name[::]\n",
    "print(b)\n",
    "c = name[0::]\n",
    "print(c)\n",
    "d = name[0:1]\n",
    "print(d)\n",
    "e = name[0:22]\n",
    "print(e)"
   ]
  },
  {
   "cell_type": "markdown",
   "metadata": {},
   "source": [
    "- Find length of program :---👇"
   ]
  },
  {
   "cell_type": "code",
   "execution_count": 30,
   "metadata": {},
   "outputs": [
    {
     "data": {
      "text/plain": [
       "28"
      ]
     },
     "execution_count": 30,
     "metadata": {},
     "output_type": "execute_result"
    }
   ],
   "source": [
    "len(name)"
   ]
  },
  {
   "cell_type": "markdown",
   "metadata": {},
   "source": [
    "- Methods:-\n",
    "\n",
    "- utility method : -----------\n",
    "- count\n",
    "- find\n",
    "- replace\n",
    "- split\n",
    "- join\n",
    "- strip\n",
    "\n",
    "- Formating methods :--------\n",
    "- capitalize\n",
    "- title\n",
    "- upper\n",
    "- lower\n",
    "- swapcase\n",
    "- casefold\n",
    "\n",
    "- Validation methods :- -----------\n",
    "- isalnum\n",
    "- isalpha\n",
    "- isdigit\n",
    "- islower\n",
    "- isupper\n",
    "- istitle\n",
    "- isspace"
   ]
  },
  {
   "cell_type": "markdown",
   "metadata": {},
   "source": [
    "- Using of upper case👇👇"
   ]
  },
  {
   "cell_type": "code",
   "execution_count": 31,
   "metadata": {},
   "outputs": [
    {
     "data": {
      "text/plain": [
       "'HELLO MY NAME IS JOHN DEVRIK'"
      ]
     },
     "execution_count": 31,
     "metadata": {},
     "output_type": "execute_result"
    }
   ],
   "source": [
    "name.upper()"
   ]
  },
  {
   "cell_type": "markdown",
   "metadata": {},
   "source": [
    "- Count :--👇👇"
   ]
  },
  {
   "cell_type": "code",
   "execution_count": 32,
   "metadata": {},
   "outputs": [
    {
     "name": "stdout",
     "output_type": "stream",
     "text": [
      "8\n",
      "2\n",
      "2\n",
      "0\n"
     ]
    }
   ],
   "source": [
    "msg = '''this is the story about a kingdom of \n",
    "south india lead by the hoyasala dynasty kings.'''\n",
    "\n",
    "print(msg.count('a'))\n",
    "print(msg.count('out'))\n",
    "print(msg.count('the'))"
   ]
  },
  {
   "cell_type": "code",
   "execution_count": 51,
   "metadata": {},
   "outputs": [
    {
     "name": "stdout",
     "output_type": "stream",
     "text": [
      "5\n",
      "7\n",
      "6\n",
      "2\n",
      "2\n",
      "3\n",
      "2\n",
      "5\n",
      "7\n",
      "2\n",
      "1\n",
      "4\n",
      "3\n"
     ]
    }
   ],
   "source": [
    "msg = '''this is the my story about the autobiography \n",
    "I am passionate in our work'''\n",
    "print(msg.count('s'))\n",
    "print(msg.count('t'))\n",
    "print(msg.count('a'))\n",
    "print(msg.count('n'))\n",
    "print(msg.count('p'))\n",
    "print(msg.count('e'))\n",
    "print(msg.count('m'))\n",
    "print(msg.count('i'))\n",
    "print(msg.count('o'))\n",
    "print(msg.count('b'))\n",
    "print(msg.count('g'))\n",
    "print(msg.count('h'))\n",
    "print(msg.count('y'))"
   ]
  },
  {
   "cell_type": "markdown",
   "metadata": {},
   "source": [
    "- Count :-👇👇"
   ]
  },
  {
   "cell_type": "code",
   "execution_count": 34,
   "metadata": {},
   "outputs": [
    {
     "name": "stdout",
     "output_type": "stream",
     "text": [
      "25\n"
     ]
    }
   ],
   "source": [
    "total_vowels = msg.count('a')+msg.count('e')+msg.count('i')+msg.count('o')+msg.count('u')\n",
    "print(total_vowels)"
   ]
  },
  {
   "cell_type": "code",
   "execution_count": 52,
   "metadata": {},
   "outputs": [
    {
     "name": "stdout",
     "output_type": "stream",
     "text": [
      "11\n"
     ]
    }
   ],
   "source": [
    "total_numbers = msg.count('a')+msg.count('b')+msg.count('c')+msg.count('d')+msg.count('e')+msg.count('f')\n",
    "print(total_numbers)"
   ]
  },
  {
   "cell_type": "markdown",
   "metadata": {},
   "source": [
    "- Also Count :--👇👇"
   ]
  },
  {
   "cell_type": "code",
   "execution_count": 35,
   "metadata": {},
   "outputs": [
    {
     "name": "stdout",
     "output_type": "stream",
     "text": [
      "8\n",
      "11\n",
      "17\n",
      "23\n",
      "25\n"
     ]
    }
   ],
   "source": [
    "tvs = 0\n",
    "for c in 'aeiou':\n",
    "    tvs+= msg.count(c)\n",
    "    print(tvs)\n"
   ]
  },
  {
   "cell_type": "markdown",
   "metadata": {},
   "source": [
    "- Print aeiou.👇"
   ]
  },
  {
   "cell_type": "code",
   "execution_count": 38,
   "metadata": {},
   "outputs": [
    {
     "name": "stdout",
     "output_type": "stream",
     "text": [
      "a\n",
      "e\n",
      "i\n",
      "o\n",
      "u\n"
     ]
    }
   ],
   "source": [
    "for c in 'aeiou':\n",
    "    print(c)\n"
   ]
  },
  {
   "cell_type": "code",
   "execution_count": 40,
   "metadata": {},
   "outputs": [
    {
     "name": "stdout",
     "output_type": "stream",
     "text": [
      "a\n",
      " \n",
      "b\n",
      " \n",
      "c\n",
      " \n",
      "d\n",
      " \n",
      "e\n"
     ]
    }
   ],
   "source": [
    "for c in 'a b c d e':\n",
    "    print(c)"
   ]
  },
  {
   "cell_type": "markdown",
   "metadata": {},
   "source": [
    "- Find "
   ]
  },
  {
   "cell_type": "code",
   "execution_count": 42,
   "metadata": {},
   "outputs": [
    {
     "data": {
      "text/plain": [
       "-1"
      ]
     },
     "execution_count": 42,
     "metadata": {},
     "output_type": "execute_result"
    }
   ],
   "source": [
    "msg.find('Out')"
   ]
  },
  {
   "cell_type": "code",
   "execution_count": 43,
   "metadata": {},
   "outputs": [
    {
     "data": {
      "text/plain": [
       "12"
      ]
     },
     "execution_count": 43,
     "metadata": {},
     "output_type": "execute_result"
    }
   ],
   "source": [
    "msg.find('story')"
   ]
  },
  {
   "cell_type": "markdown",
   "metadata": {},
   "source": [
    "- Replace :--"
   ]
  },
  {
   "cell_type": "code",
   "execution_count": 44,
   "metadata": {},
   "outputs": [
    {
     "data": {
      "text/plain": [
       "'this is the story bbout b kingdom of \\nsouth indib lebd by the hoybsblb dynbsty kings.'"
      ]
     },
     "execution_count": 44,
     "metadata": {},
     "output_type": "execute_result"
    }
   ],
   "source": [
    "msg.replace('a','b')\n"
   ]
  },
  {
   "cell_type": "code",
   "execution_count": 45,
   "metadata": {},
   "outputs": [
    {
     "data": {
      "text/plain": [
       "'this is the story abin a kingdom of \\nsinh india lead by the hoyasala dynasty kings.'"
      ]
     },
     "execution_count": 45,
     "metadata": {},
     "output_type": "execute_result"
    }
   ],
   "source": [
    "msg.replace('out','in')"
   ]
  },
  {
   "cell_type": "code",
   "execution_count": 46,
   "metadata": {},
   "outputs": [
    {
     "data": {
      "text/plain": [
       "'this is the story bout  kingdom of \\nsouth indi led by the hoysl dynsty kings.'"
      ]
     },
     "execution_count": 46,
     "metadata": {},
     "output_type": "execute_result"
    }
   ],
   "source": [
    "msg.replace('a','') # remove all a's by ' '"
   ]
  },
  {
   "cell_type": "code",
   "execution_count": 54,
   "metadata": {},
   "outputs": [
    {
     "data": {
      "text/plain": [
       "'this is the story abot a kingdom of \\nsoth india lead by the hoyasala dynasty kings.'"
      ]
     },
     "execution_count": 54,
     "metadata": {},
     "output_type": "execute_result"
    }
   ],
   "source": [
    "msg.replace('a','')\n",
    "msg.replace('e','')\n",
    "msg.replace('i','')\n",
    "msg.replace('o','')\n",
    "msg.replace('a','')\n",
    "msg.replace('u','')\n"
   ]
  },
  {
   "cell_type": "code",
   "execution_count": 55,
   "metadata": {},
   "outputs": [
    {
     "name": "stdout",
     "output_type": "stream",
     "text": [
      "this is the story bout  kingdom of \n",
      "south indi led by the hoysl dynsty kings.\n",
      "this is th story bout  kingdom of \n",
      "south indi ld by th hoysl dynsty kings.\n",
      "ths s th story bout  kngdom of \n",
      "south nd ld by th hoysl dynsty kngs.\n",
      "ths s th stry but  kngdm f \n",
      "suth nd ld by th hysl dynsty kngs.\n",
      "ths s th stry bt  kngdm f \n",
      "sth nd ld by th hysl dynsty kngs.\n"
     ]
    }
   ],
   "source": [
    "msg_copy = msg\n",
    "for c in 'aeiou':\n",
    "    msg_copy = msg_copy.replace(c,'')\n",
    "    print(msg_copy)"
   ]
  },
  {
   "cell_type": "code",
   "execution_count": null,
   "metadata": {},
   "outputs": [],
   "source": []
  }
 ],
 "metadata": {
  "kernelspec": {
   "display_name": "base",
   "language": "python",
   "name": "python3"
  },
  "language_info": {
   "codemirror_mode": {
    "name": "ipython",
    "version": 3
   },
   "file_extension": ".py",
   "mimetype": "text/x-python",
   "name": "python",
   "nbconvert_exporter": "python",
   "pygments_lexer": "ipython3",
   "version": "3.10.10"
  },
  "orig_nbformat": 4
 },
 "nbformat": 4,
 "nbformat_minor": 2
}

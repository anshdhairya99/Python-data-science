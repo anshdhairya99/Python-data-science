{
 "cells": [
  {
   "cell_type": "markdown",
   "metadata": {},
   "source": [
    "# Numpy Library Using In Python :-------"
   ]
  },
  {
   "cell_type": "markdown",
   "metadata": {},
   "source": [
    "- Commands :--\n",
    " - pip install numpy (open the file library then write in terminal)\n",
    " - pip show numpy (all open the file write in  terminal)\n",
    " - we write on 2D Array  "
   ]
  },
  {
   "cell_type": "code",
   "execution_count": 1,
   "metadata": {},
   "outputs": [],
   "source": [
    "import numpy as np"
   ]
  },
  {
   "cell_type": "code",
   "execution_count": 2,
   "metadata": {},
   "outputs": [
    {
     "name": "stdout",
     "output_type": "stream",
     "text": [
      "[1 2 3 4]\n",
      "<class 'numpy.ndarray'>\n"
     ]
    }
   ],
   "source": [
    "# we work on 2d array\n",
    "n1 = np.array([1,2,3,4])\n",
    "print(n1)\n",
    "print(type(n1))"
   ]
  },
  {
   "cell_type": "code",
   "execution_count": 3,
   "metadata": {},
   "outputs": [
    {
     "data": {
      "text/plain": [
       "array([1, 2, 3, 4])"
      ]
     },
     "execution_count": 3,
     "metadata": {},
     "output_type": "execute_result"
    }
   ],
   "source": [
    "n1"
   ]
  },
  {
   "cell_type": "code",
   "execution_count": 4,
   "metadata": {},
   "outputs": [
    {
     "data": {
      "text/plain": [
       "47"
      ]
     },
     "execution_count": 4,
     "metadata": {},
     "output_type": "execute_result"
    }
   ],
   "source": [
    "# normal list\n",
    "x = []\n",
    "#dir(x)\n",
    "len(dir(x))"
   ]
  },
  {
   "cell_type": "code",
   "execution_count": 5,
   "metadata": {},
   "outputs": [
    {
     "data": {
      "text/plain": [
       "165"
      ]
     },
     "execution_count": 5,
     "metadata": {},
     "output_type": "execute_result"
    }
   ],
   "source": [
    "# numpy\n",
    "len(dir(n1))"
   ]
  },
  {
   "cell_type": "code",
   "execution_count": 6,
   "metadata": {},
   "outputs": [
    {
     "data": {
      "text/plain": [
       "['__add__',\n",
       " '__class__',\n",
       " '__class_getitem__',\n",
       " '__contains__',\n",
       " '__delattr__',\n",
       " '__delitem__',\n",
       " '__dir__',\n",
       " '__doc__',\n",
       " '__eq__',\n",
       " '__format__',\n",
       " '__ge__',\n",
       " '__getattribute__',\n",
       " '__getitem__',\n",
       " '__gt__',\n",
       " '__hash__',\n",
       " '__iadd__',\n",
       " '__imul__',\n",
       " '__init__',\n",
       " '__init_subclass__',\n",
       " '__iter__',\n",
       " '__le__',\n",
       " '__len__',\n",
       " '__lt__',\n",
       " '__mul__',\n",
       " '__ne__',\n",
       " '__new__',\n",
       " '__reduce__',\n",
       " '__reduce_ex__',\n",
       " '__repr__',\n",
       " '__reversed__',\n",
       " '__rmul__',\n",
       " '__setattr__',\n",
       " '__setitem__',\n",
       " '__sizeof__',\n",
       " '__str__',\n",
       " '__subclasshook__',\n",
       " 'append',\n",
       " 'clear',\n",
       " 'copy',\n",
       " 'count',\n",
       " 'extend',\n",
       " 'index',\n",
       " 'insert',\n",
       " 'pop',\n",
       " 'remove',\n",
       " 'reverse',\n",
       " 'sort']"
      ]
     },
     "execution_count": 6,
     "metadata": {},
     "output_type": "execute_result"
    }
   ],
   "source": [
    "dir(x)"
   ]
  },
  {
   "cell_type": "code",
   "execution_count": 10,
   "metadata": {},
   "outputs": [
    {
     "data": {
      "text/plain": [
       "(4,)"
      ]
     },
     "execution_count": 10,
     "metadata": {},
     "output_type": "execute_result"
    }
   ],
   "source": [
    "n1.shape"
   ]
  },
  {
   "cell_type": "code",
   "execution_count": 11,
   "metadata": {},
   "outputs": [
    {
     "name": "stdout",
     "output_type": "stream",
     "text": [
      "[[1 2 3]\n",
      " [2 3 4]]\n",
      "(2, 3)\n"
     ]
    }
   ],
   "source": [
    "# to build the matrix\n",
    "n2 = np.array([[1,2,3],[2,3,4]])\n",
    "print(n2)\n",
    "print(n2.shape)"
   ]
  },
  {
   "cell_type": "markdown",
   "metadata": {},
   "source": [
    " # Creating Martrix :------\n",
    " - arange\n",
    " - linspace\n",
    " - random.rand\n",
    " - random.randn\n",
    " - random. randint\n",
    " - eye\n",
    " - ones\n",
    " - zeros\n"
   ]
  },
  {
   "cell_type": "code",
   "execution_count": 12,
   "metadata": {},
   "outputs": [
    {
     "data": {
      "text/plain": [
       "array([-1.00000000e+01, -9.80000000e+00, -9.60000000e+00, -9.40000000e+00,\n",
       "       -9.20000000e+00, -9.00000000e+00, -8.80000000e+00, -8.60000000e+00,\n",
       "       -8.40000000e+00, -8.20000000e+00, -8.00000000e+00, -7.80000000e+00,\n",
       "       -7.60000000e+00, -7.40000000e+00, -7.20000000e+00, -7.00000000e+00,\n",
       "       -6.80000000e+00, -6.60000000e+00, -6.40000000e+00, -6.20000000e+00,\n",
       "       -6.00000000e+00, -5.80000000e+00, -5.60000000e+00, -5.40000000e+00,\n",
       "       -5.20000000e+00, -5.00000000e+00, -4.80000000e+00, -4.60000000e+00,\n",
       "       -4.40000000e+00, -4.20000000e+00, -4.00000000e+00, -3.80000000e+00,\n",
       "       -3.60000000e+00, -3.40000000e+00, -3.20000000e+00, -3.00000000e+00,\n",
       "       -2.80000000e+00, -2.60000000e+00, -2.40000000e+00, -2.20000000e+00,\n",
       "       -2.00000000e+00, -1.80000000e+00, -1.60000000e+00, -1.40000000e+00,\n",
       "       -1.20000000e+00, -1.00000000e+00, -8.00000000e-01, -6.00000000e-01,\n",
       "       -4.00000000e-01, -2.00000000e-01, -3.55271368e-14,  2.00000000e-01,\n",
       "        4.00000000e-01,  6.00000000e-01,  8.00000000e-01,  1.00000000e+00,\n",
       "        1.20000000e+00,  1.40000000e+00,  1.60000000e+00,  1.80000000e+00,\n",
       "        2.00000000e+00,  2.20000000e+00,  2.40000000e+00,  2.60000000e+00,\n",
       "        2.80000000e+00,  3.00000000e+00,  3.20000000e+00,  3.40000000e+00,\n",
       "        3.60000000e+00,  3.80000000e+00,  4.00000000e+00,  4.20000000e+00,\n",
       "        4.40000000e+00,  4.60000000e+00,  4.80000000e+00,  5.00000000e+00,\n",
       "        5.20000000e+00,  5.40000000e+00,  5.60000000e+00,  5.80000000e+00,\n",
       "        6.00000000e+00,  6.20000000e+00,  6.40000000e+00,  6.60000000e+00,\n",
       "        6.80000000e+00,  7.00000000e+00,  7.20000000e+00,  7.40000000e+00,\n",
       "        7.60000000e+00,  7.80000000e+00,  8.00000000e+00,  8.20000000e+00,\n",
       "        8.40000000e+00,  8.60000000e+00,  8.80000000e+00,  9.00000000e+00,\n",
       "        9.20000000e+00,  9.40000000e+00,  9.60000000e+00,  9.80000000e+00])"
      ]
     },
     "execution_count": 12,
     "metadata": {},
     "output_type": "execute_result"
    }
   ],
   "source": [
    "np.arange(-10, 10, .2)"
   ]
  },
  {
   "cell_type": "code",
   "execution_count": 14,
   "metadata": {},
   "outputs": [
    {
     "data": {
      "text/plain": [
       "(100,)"
      ]
     },
     "execution_count": 14,
     "metadata": {},
     "output_type": "execute_result"
    }
   ],
   "source": [
    "x = np.arange(-10, 10, .2)\n",
    "x.shape"
   ]
  },
  {
   "cell_type": "code",
   "execution_count": 15,
   "metadata": {},
   "outputs": [
    {
     "name": "stdout",
     "output_type": "stream",
     "text": [
      "[1.         1.44444444 1.88888889 2.33333333 2.77777778 3.22222222\n",
      " 3.66666667 4.11111111 4.55555556 5.        ]\n"
     ]
    }
   ],
   "source": [
    "# len space\n",
    "\n",
    "y = np.linspace(1, 5, 10)\n",
    "print(y)"
   ]
  },
  {
   "cell_type": "code",
   "execution_count": 17,
   "metadata": {},
   "outputs": [
    {
     "name": "stdout",
     "output_type": "stream",
     "text": [
      "[1.         1.16666667 1.33333333 1.5        1.66666667 1.83333333\n",
      " 2.         2.16666667 2.33333333 2.5        2.66666667 2.83333333\n",
      " 3.         3.16666667 3.33333333 3.5        3.66666667 3.83333333\n",
      " 4.         4.16666667 4.33333333 4.5        4.66666667 4.83333333\n",
      " 5.        ]\n"
     ]
    }
   ],
   "source": [
    "\n",
    "y = np.linspace(1, 5, 25)\n",
    "print(y)"
   ]
  },
  {
   "cell_type": "code",
   "execution_count": 21,
   "metadata": {},
   "outputs": [
    {
     "data": {
      "text/plain": [
       "array([[0.11862748, 0.82067473, 0.88438138],\n",
       "       [0.77900328, 0.62364401, 0.74342723],\n",
       "       [0.70868338, 0.12870691, 0.74787502]])"
      ]
     },
     "execution_count": 21,
     "metadata": {},
     "output_type": "execute_result"
    }
   ],
   "source": [
    "#np.random.rand()\n",
    "np.random.rand(3,3)"
   ]
  },
  {
   "cell_type": "code",
   "execution_count": 22,
   "metadata": {},
   "outputs": [
    {
     "data": {
      "text/plain": [
       "array([-0.69890113,  0.39105104,  1.10084441,  0.82941919,  0.39736411,\n",
       "        1.88986196,  1.24956506, -0.37565402,  0.17070174, -0.46154819])"
      ]
     },
     "execution_count": 22,
     "metadata": {},
     "output_type": "execute_result"
    }
   ],
   "source": [
    "np.random.randn(10)"
   ]
  },
  {
   "cell_type": "code",
   "execution_count": 25,
   "metadata": {},
   "outputs": [
    {
     "data": {
      "text/plain": [
       "array([ 1.87987151, -1.16694927, -0.07653462, -1.57031738, -0.87487111,\n",
       "       -1.7993188 , -0.0379631 , -1.6868526 , -1.34579795,  0.83202517,\n",
       "        0.41510933, -0.10823352,  0.48109086,  1.03400034,  0.98226618,\n",
       "       -0.14807138,  1.31469718,  0.73879224, -0.50475239,  0.89813959])"
      ]
     },
     "execution_count": 25,
     "metadata": {},
     "output_type": "execute_result"
    }
   ],
   "source": [
    "np.random.randn(20)"
   ]
  },
  {
   "cell_type": "code",
   "execution_count": 27,
   "metadata": {},
   "outputs": [
    {
     "data": {
      "text/plain": [
       "array([[4, 3, 1, 2, 1],\n",
       "       [3, 1, 1, 3, 1],\n",
       "       [4, 2, 3, 2, 4],\n",
       "       [3, 4, 2, 2, 1],\n",
       "       [4, 3, 2, 1, 3]])"
      ]
     },
     "execution_count": 27,
     "metadata": {},
     "output_type": "execute_result"
    }
   ],
   "source": [
    "# number came in random without excluse 5\n",
    "np.random.randint(1, 5, (5,5))"
   ]
  },
  {
   "cell_type": "code",
   "execution_count": 30,
   "metadata": {},
   "outputs": [
    {
     "name": "stdout",
     "output_type": "stream",
     "text": [
      "[[5 5]\n",
      " [3 1]\n",
      " [6 7]]\n",
      "[[5 5]\n",
      " [3 3]\n",
      " [9 3]]\n"
     ]
    }
   ],
   "source": [
    "x = np.random.randint(1, 10, (3,2))\n",
    "y = np.random.randint(1, 10, (3,2))\n",
    "print(x)\n",
    "print(y)"
   ]
  },
  {
   "cell_type": "code",
   "execution_count": 31,
   "metadata": {},
   "outputs": [
    {
     "data": {
      "text/plain": [
       "array([[10, 10],\n",
       "       [ 8,  6],\n",
       "       [11, 12]])"
      ]
     },
     "execution_count": 31,
     "metadata": {},
     "output_type": "execute_result"
    }
   ],
   "source": [
    "# increase the number in matrix 5\n",
    "x + 5"
   ]
  },
  {
   "cell_type": "code",
   "execution_count": 32,
   "metadata": {},
   "outputs": [
    {
     "data": {
      "text/plain": [
       "array([[10, 10],\n",
       "       [ 6,  2],\n",
       "       [12, 14]])"
      ]
     },
     "execution_count": 32,
     "metadata": {},
     "output_type": "execute_result"
    }
   ],
   "source": [
    "# multiply the matrix\n",
    "x * 2"
   ]
  },
  {
   "cell_type": "code",
   "execution_count": 33,
   "metadata": {},
   "outputs": [
    {
     "data": {
      "text/plain": [
       "array([[10, 10],\n",
       "       [ 6,  4],\n",
       "       [15, 10]])"
      ]
     },
     "execution_count": 33,
     "metadata": {},
     "output_type": "execute_result"
    }
   ],
   "source": [
    "# add the matrix\n",
    "\n",
    "x + y"
   ]
  },
  {
   "cell_type": "code",
   "execution_count": 34,
   "metadata": {},
   "outputs": [
    {
     "data": {
      "text/plain": [
       "array([[ 0,  0],\n",
       "       [ 0, -2],\n",
       "       [-3,  4]])"
      ]
     },
     "execution_count": 34,
     "metadata": {},
     "output_type": "execute_result"
    }
   ],
   "source": [
    "# subtract the matrix\n",
    "\n",
    "x - y"
   ]
  },
  {
   "cell_type": "code",
   "execution_count": 35,
   "metadata": {},
   "outputs": [
    {
     "data": {
      "text/plain": [
       "array([[50, 30, 60],\n",
       "       [20, 12, 30],\n",
       "       [65, 39, 75]])"
      ]
     },
     "execution_count": 35,
     "metadata": {},
     "output_type": "execute_result"
    }
   ],
   "source": [
    "# transpose the matrix\n",
    "\n",
    "x.dot(y.T)"
   ]
  },
  {
   "cell_type": "code",
   "execution_count": 36,
   "metadata": {},
   "outputs": [
    {
     "data": {
      "text/plain": [
       "array([[-0.95892427, -0.95892427],\n",
       "       [ 0.14112001,  0.84147098],\n",
       "       [-0.2794155 ,  0.6569866 ]])"
      ]
     },
     "execution_count": 36,
     "metadata": {},
     "output_type": "execute_result"
    }
   ],
   "source": [
    "# matrix in trignometry form\n",
    "np.sin(x)"
   ]
  },
  {
   "cell_type": "code",
   "execution_count": 37,
   "metadata": {},
   "outputs": [
    {
     "name": "stdout",
     "output_type": "stream",
     "text": [
      "27\n",
      "4.5\n",
      "1.9790570145063195\n"
     ]
    }
   ],
   "source": [
    "# stastics , multiply\n",
    "\n",
    "print(x.sum())\n",
    "print(x.mean())\n",
    "print(x.std())"
   ]
  },
  {
   "cell_type": "code",
   "execution_count": null,
   "metadata": {},
   "outputs": [],
   "source": []
  }
 ],
 "metadata": {
  "kernelspec": {
   "display_name": "base",
   "language": "python",
   "name": "python3"
  },
  "language_info": {
   "codemirror_mode": {
    "name": "ipython",
    "version": 3
   },
   "file_extension": ".py",
   "mimetype": "text/x-python",
   "name": "python",
   "nbconvert_exporter": "python",
   "pygments_lexer": "ipython3",
   "version": "3.10.10"
  },
  "orig_nbformat": 4
 },
 "nbformat": 4,
 "nbformat_minor": 2
}

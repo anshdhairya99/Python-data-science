{
 "cells": [
  {
   "cell_type": "markdown",
   "metadata": {},
   "source": [
    "# Numpy Library Using In Python :-------"
   ]
  },
  {
   "cell_type": "markdown",
   "metadata": {},
   "source": [
    "- Commands :--\n",
    " - pip install numpy (open the file library then write in terminal)\n",
    " - pip show numpy (all open the file write in  terminal)\n",
    " - we write on 2D Array  "
   ]
  },
  {
   "cell_type": "code",
   "execution_count": 1,
   "metadata": {},
   "outputs": [],
   "source": [
    "import numpy as np"
   ]
  },
  {
   "cell_type": "code",
   "execution_count": 2,
   "metadata": {},
   "outputs": [
    {
     "name": "stdout",
     "output_type": "stream",
     "text": [
      "[1 2 3 4]\n",
      "<class 'numpy.ndarray'>\n"
     ]
    }
   ],
   "source": [
    "# we work on 2d array\n",
    "n1 = np.array([1,2,3,4])\n",
    "print(n1)\n",
    "print(type(n1))"
   ]
  },
  {
   "cell_type": "code",
   "execution_count": 3,
   "metadata": {},
   "outputs": [
    {
     "data": {
      "text/plain": [
       "array([1, 2, 3, 4])"
      ]
     },
     "execution_count": 3,
     "metadata": {},
     "output_type": "execute_result"
    }
   ],
   "source": [
    "n1"
   ]
  },
  {
   "cell_type": "code",
   "execution_count": 4,
   "metadata": {},
   "outputs": [
    {
     "data": {
      "text/plain": [
       "47"
      ]
     },
     "execution_count": 4,
     "metadata": {},
     "output_type": "execute_result"
    }
   ],
   "source": [
    "# normal list\n",
    "x = []\n",
    "#dir(x)\n",
    "len(dir(x))"
   ]
  },
  {
   "cell_type": "code",
   "execution_count": 5,
   "metadata": {},
   "outputs": [
    {
     "data": {
      "text/plain": [
       "165"
      ]
     },
     "execution_count": 5,
     "metadata": {},
     "output_type": "execute_result"
    }
   ],
   "source": [
    "# numpy\n",
    "len(dir(n1))"
   ]
  },
  {
   "cell_type": "code",
   "execution_count": 6,
   "metadata": {},
   "outputs": [
    {
     "data": {
      "text/plain": [
       "['__add__',\n",
       " '__class__',\n",
       " '__class_getitem__',\n",
       " '__contains__',\n",
       " '__delattr__',\n",
       " '__delitem__',\n",
       " '__dir__',\n",
       " '__doc__',\n",
       " '__eq__',\n",
       " '__format__',\n",
       " '__ge__',\n",
       " '__getattribute__',\n",
       " '__getitem__',\n",
       " '__gt__',\n",
       " '__hash__',\n",
       " '__iadd__',\n",
       " '__imul__',\n",
       " '__init__',\n",
       " '__init_subclass__',\n",
       " '__iter__',\n",
       " '__le__',\n",
       " '__len__',\n",
       " '__lt__',\n",
       " '__mul__',\n",
       " '__ne__',\n",
       " '__new__',\n",
       " '__reduce__',\n",
       " '__reduce_ex__',\n",
       " '__repr__',\n",
       " '__reversed__',\n",
       " '__rmul__',\n",
       " '__setattr__',\n",
       " '__setitem__',\n",
       " '__sizeof__',\n",
       " '__str__',\n",
       " '__subclasshook__',\n",
       " 'append',\n",
       " 'clear',\n",
       " 'copy',\n",
       " 'count',\n",
       " 'extend',\n",
       " 'index',\n",
       " 'insert',\n",
       " 'pop',\n",
       " 'remove',\n",
       " 'reverse',\n",
       " 'sort']"
      ]
     },
     "execution_count": 6,
     "metadata": {},
     "output_type": "execute_result"
    }
   ],
   "source": [
    "dir(x)"
   ]
  },
  {
   "cell_type": "code",
   "execution_count": 7,
   "metadata": {},
   "outputs": [
    {
     "data": {
      "text/plain": [
       "(4,)"
      ]
     },
     "execution_count": 7,
     "metadata": {},
     "output_type": "execute_result"
    }
   ],
   "source": [
    "n1.shape"
   ]
  },
  {
   "cell_type": "code",
   "execution_count": 8,
   "metadata": {},
   "outputs": [
    {
     "name": "stdout",
     "output_type": "stream",
     "text": [
      "[[1 2 3]\n",
      " [2 3 4]]\n",
      "(2, 3)\n"
     ]
    }
   ],
   "source": [
    "# to build the matrix\n",
    "n2 = np.array([[1,2,3],[2,3,4]])\n",
    "print(n2)\n",
    "print(n2.shape)"
   ]
  },
  {
   "cell_type": "markdown",
   "metadata": {},
   "source": [
    " # Creating Martrix :------\n",
    " - arange\n",
    " - linspace\n",
    " - random.rand\n",
    " - random.randn\n",
    " - random. randint\n",
    " - eye\n",
    " - ones\n",
    " - zeros\n"
   ]
  },
  {
   "cell_type": "code",
   "execution_count": 9,
   "metadata": {},
   "outputs": [
    {
     "data": {
      "text/plain": [
       "array([-1.00000000e+01, -9.80000000e+00, -9.60000000e+00, -9.40000000e+00,\n",
       "       -9.20000000e+00, -9.00000000e+00, -8.80000000e+00, -8.60000000e+00,\n",
       "       -8.40000000e+00, -8.20000000e+00, -8.00000000e+00, -7.80000000e+00,\n",
       "       -7.60000000e+00, -7.40000000e+00, -7.20000000e+00, -7.00000000e+00,\n",
       "       -6.80000000e+00, -6.60000000e+00, -6.40000000e+00, -6.20000000e+00,\n",
       "       -6.00000000e+00, -5.80000000e+00, -5.60000000e+00, -5.40000000e+00,\n",
       "       -5.20000000e+00, -5.00000000e+00, -4.80000000e+00, -4.60000000e+00,\n",
       "       -4.40000000e+00, -4.20000000e+00, -4.00000000e+00, -3.80000000e+00,\n",
       "       -3.60000000e+00, -3.40000000e+00, -3.20000000e+00, -3.00000000e+00,\n",
       "       -2.80000000e+00, -2.60000000e+00, -2.40000000e+00, -2.20000000e+00,\n",
       "       -2.00000000e+00, -1.80000000e+00, -1.60000000e+00, -1.40000000e+00,\n",
       "       -1.20000000e+00, -1.00000000e+00, -8.00000000e-01, -6.00000000e-01,\n",
       "       -4.00000000e-01, -2.00000000e-01, -3.55271368e-14,  2.00000000e-01,\n",
       "        4.00000000e-01,  6.00000000e-01,  8.00000000e-01,  1.00000000e+00,\n",
       "        1.20000000e+00,  1.40000000e+00,  1.60000000e+00,  1.80000000e+00,\n",
       "        2.00000000e+00,  2.20000000e+00,  2.40000000e+00,  2.60000000e+00,\n",
       "        2.80000000e+00,  3.00000000e+00,  3.20000000e+00,  3.40000000e+00,\n",
       "        3.60000000e+00,  3.80000000e+00,  4.00000000e+00,  4.20000000e+00,\n",
       "        4.40000000e+00,  4.60000000e+00,  4.80000000e+00,  5.00000000e+00,\n",
       "        5.20000000e+00,  5.40000000e+00,  5.60000000e+00,  5.80000000e+00,\n",
       "        6.00000000e+00,  6.20000000e+00,  6.40000000e+00,  6.60000000e+00,\n",
       "        6.80000000e+00,  7.00000000e+00,  7.20000000e+00,  7.40000000e+00,\n",
       "        7.60000000e+00,  7.80000000e+00,  8.00000000e+00,  8.20000000e+00,\n",
       "        8.40000000e+00,  8.60000000e+00,  8.80000000e+00,  9.00000000e+00,\n",
       "        9.20000000e+00,  9.40000000e+00,  9.60000000e+00,  9.80000000e+00])"
      ]
     },
     "execution_count": 9,
     "metadata": {},
     "output_type": "execute_result"
    }
   ],
   "source": [
    "np.arange(-10, 10, .2)"
   ]
  },
  {
   "cell_type": "code",
   "execution_count": 10,
   "metadata": {},
   "outputs": [
    {
     "data": {
      "text/plain": [
       "(100,)"
      ]
     },
     "execution_count": 10,
     "metadata": {},
     "output_type": "execute_result"
    }
   ],
   "source": [
    "x = np.arange(-10, 10, .2)\n",
    "x.shape"
   ]
  },
  {
   "cell_type": "code",
   "execution_count": 11,
   "metadata": {},
   "outputs": [
    {
     "name": "stdout",
     "output_type": "stream",
     "text": [
      "[1.         1.44444444 1.88888889 2.33333333 2.77777778 3.22222222\n",
      " 3.66666667 4.11111111 4.55555556 5.        ]\n"
     ]
    }
   ],
   "source": [
    "# len space\n",
    "\n",
    "y = np.linspace(1, 5, 10)\n",
    "print(y)"
   ]
  },
  {
   "cell_type": "code",
   "execution_count": 17,
   "metadata": {},
   "outputs": [
    {
     "name": "stdout",
     "output_type": "stream",
     "text": [
      "[1.         1.16666667 1.33333333 1.5        1.66666667 1.83333333\n",
      " 2.         2.16666667 2.33333333 2.5        2.66666667 2.83333333\n",
      " 3.         3.16666667 3.33333333 3.5        3.66666667 3.83333333\n",
      " 4.         4.16666667 4.33333333 4.5        4.66666667 4.83333333\n",
      " 5.        ]\n"
     ]
    }
   ],
   "source": [
    "\n",
    "y = np.linspace(1, 5, 25)\n",
    "print(y)"
   ]
  },
  {
   "cell_type": "code",
   "execution_count": 12,
   "metadata": {},
   "outputs": [
    {
     "data": {
      "text/plain": [
       "array([[0.59498272, 0.86148876, 0.9364877 ],\n",
       "       [0.04416395, 0.67267426, 0.94639442],\n",
       "       [0.54946397, 0.37684625, 0.83978248]])"
      ]
     },
     "execution_count": 12,
     "metadata": {},
     "output_type": "execute_result"
    }
   ],
   "source": [
    "#np.random.rand()\n",
    "np.random.rand(3,3)"
   ]
  },
  {
   "cell_type": "code",
   "execution_count": 13,
   "metadata": {},
   "outputs": [
    {
     "data": {
      "text/plain": [
       "array([ 0.37351701, -0.20298553, -1.24924581,  0.89526016, -0.83521106,\n",
       "       -0.77046969,  2.61435495,  1.09176479, -0.33443362,  1.2773233 ])"
      ]
     },
     "execution_count": 13,
     "metadata": {},
     "output_type": "execute_result"
    }
   ],
   "source": [
    "np.random.randn(10)"
   ]
  },
  {
   "cell_type": "code",
   "execution_count": 14,
   "metadata": {},
   "outputs": [
    {
     "data": {
      "text/plain": [
       "array([ 1.51678589,  0.53392066, -0.83464613, -0.65059421, -0.31950888,\n",
       "        1.27819067,  1.69706246,  0.49434237,  0.33390881, -0.10796989,\n",
       "        0.04645268,  1.17074653, -0.20237899,  1.30777674,  0.74506228,\n",
       "        0.72200497,  1.07521223, -2.03015148, -0.73635967,  0.34190571])"
      ]
     },
     "execution_count": 14,
     "metadata": {},
     "output_type": "execute_result"
    }
   ],
   "source": [
    "np.random.randn(20)"
   ]
  },
  {
   "cell_type": "code",
   "execution_count": 27,
   "metadata": {},
   "outputs": [
    {
     "data": {
      "text/plain": [
       "array([[4, 3, 1, 2, 1],\n",
       "       [3, 1, 1, 3, 1],\n",
       "       [4, 2, 3, 2, 4],\n",
       "       [3, 4, 2, 2, 1],\n",
       "       [4, 3, 2, 1, 3]])"
      ]
     },
     "execution_count": 27,
     "metadata": {},
     "output_type": "execute_result"
    }
   ],
   "source": [
    "# number came in random without excluse 5\n",
    "np.random.randint(1, 5, (5,5))"
   ]
  },
  {
   "cell_type": "code",
   "execution_count": 30,
   "metadata": {},
   "outputs": [
    {
     "name": "stdout",
     "output_type": "stream",
     "text": [
      "[[5 5]\n",
      " [3 1]\n",
      " [6 7]]\n",
      "[[5 5]\n",
      " [3 3]\n",
      " [9 3]]\n"
     ]
    }
   ],
   "source": [
    "x = np.random.randint(1, 10, (3,2))\n",
    "y = np.random.randint(1, 10, (3,2))\n",
    "print(x)\n",
    "print(y)"
   ]
  },
  {
   "cell_type": "code",
   "execution_count": 31,
   "metadata": {},
   "outputs": [
    {
     "data": {
      "text/plain": [
       "array([[10, 10],\n",
       "       [ 8,  6],\n",
       "       [11, 12]])"
      ]
     },
     "execution_count": 31,
     "metadata": {},
     "output_type": "execute_result"
    }
   ],
   "source": [
    "# increase the number in matrix 5\n",
    "x + 5"
   ]
  },
  {
   "cell_type": "code",
   "execution_count": 32,
   "metadata": {},
   "outputs": [
    {
     "data": {
      "text/plain": [
       "array([[10, 10],\n",
       "       [ 6,  2],\n",
       "       [12, 14]])"
      ]
     },
     "execution_count": 32,
     "metadata": {},
     "output_type": "execute_result"
    }
   ],
   "source": [
    "# multiply the matrix\n",
    "x * 2"
   ]
  },
  {
   "cell_type": "code",
   "execution_count": 33,
   "metadata": {},
   "outputs": [
    {
     "data": {
      "text/plain": [
       "array([[10, 10],\n",
       "       [ 6,  4],\n",
       "       [15, 10]])"
      ]
     },
     "execution_count": 33,
     "metadata": {},
     "output_type": "execute_result"
    }
   ],
   "source": [
    "# add the matrix\n",
    "\n",
    "x + y"
   ]
  },
  {
   "cell_type": "code",
   "execution_count": 34,
   "metadata": {},
   "outputs": [
    {
     "data": {
      "text/plain": [
       "array([[ 0,  0],\n",
       "       [ 0, -2],\n",
       "       [-3,  4]])"
      ]
     },
     "execution_count": 34,
     "metadata": {},
     "output_type": "execute_result"
    }
   ],
   "source": [
    "# subtract the matrix\n",
    "\n",
    "x - y"
   ]
  },
  {
   "cell_type": "code",
   "execution_count": 35,
   "metadata": {},
   "outputs": [
    {
     "data": {
      "text/plain": [
       "array([[50, 30, 60],\n",
       "       [20, 12, 30],\n",
       "       [65, 39, 75]])"
      ]
     },
     "execution_count": 35,
     "metadata": {},
     "output_type": "execute_result"
    }
   ],
   "source": [
    "# transpose the matrix\n",
    "\n",
    "x.dot(y.T)"
   ]
  },
  {
   "cell_type": "code",
   "execution_count": 36,
   "metadata": {},
   "outputs": [
    {
     "data": {
      "text/plain": [
       "array([[-0.95892427, -0.95892427],\n",
       "       [ 0.14112001,  0.84147098],\n",
       "       [-0.2794155 ,  0.6569866 ]])"
      ]
     },
     "execution_count": 36,
     "metadata": {},
     "output_type": "execute_result"
    }
   ],
   "source": [
    "# matrix in trignometry form\n",
    "np.sin(x)"
   ]
  },
  {
   "cell_type": "code",
   "execution_count": 15,
   "metadata": {},
   "outputs": [
    {
     "name": "stdout",
     "output_type": "stream",
     "text": [
      "-10.000000000003503\n",
      "-0.10000000000003503\n",
      "5.773214009544403\n"
     ]
    }
   ],
   "source": [
    "# stastics , multiply\n",
    "\n",
    "print(x.sum())\n",
    "print(x.mean())\n",
    "print(x.std())"
   ]
  },
  {
   "cell_type": "code",
   "execution_count": 18,
   "metadata": {},
   "outputs": [
    {
     "name": "stdout",
     "output_type": "stream",
     "text": [
      "(50,)\n",
      "[[0.         0.10204082 0.20408163 0.30612245 0.40816327]\n",
      " [0.51020408 0.6122449  0.71428571 0.81632653 0.91836735]\n",
      " [1.02040816 1.12244898 1.2244898  1.32653061 1.42857143]\n",
      " [1.53061224 1.63265306 1.73469388 1.83673469 1.93877551]\n",
      " [2.04081633 2.14285714 2.24489796 2.34693878 2.44897959]\n",
      " [2.55102041 2.65306122 2.75510204 2.85714286 2.95918367]\n",
      " [3.06122449 3.16326531 3.26530612 3.36734694 3.46938776]\n",
      " [3.57142857 3.67346939 3.7755102  3.87755102 3.97959184]\n",
      " [4.08163265 4.18367347 4.28571429 4.3877551  4.48979592]\n",
      " [4.59183673 4.69387755 4.79591837 4.89795918 5.        ]]\n",
      "(10, 5)\n"
     ]
    }
   ],
   "source": [
    "a = np.linspace(0,5, 50)\n",
    "print(a.shape)\n",
    "a2 = a.reshape(10, 5)\n",
    "print(a2)\n",
    "print(a2.shape)"
   ]
  },
  {
   "cell_type": "code",
   "execution_count": 19,
   "metadata": {},
   "outputs": [
    {
     "data": {
      "text/plain": [
       "array([[[0.        , 0.10204082],\n",
       "        [0.20408163, 0.30612245],\n",
       "        [0.40816327, 0.51020408],\n",
       "        [0.6122449 , 0.71428571],\n",
       "        [0.81632653, 0.91836735]],\n",
       "\n",
       "       [[1.02040816, 1.12244898],\n",
       "        [1.2244898 , 1.32653061],\n",
       "        [1.42857143, 1.53061224],\n",
       "        [1.63265306, 1.73469388],\n",
       "        [1.83673469, 1.93877551]],\n",
       "\n",
       "       [[2.04081633, 2.14285714],\n",
       "        [2.24489796, 2.34693878],\n",
       "        [2.44897959, 2.55102041],\n",
       "        [2.65306122, 2.75510204],\n",
       "        [2.85714286, 2.95918367]],\n",
       "\n",
       "       [[3.06122449, 3.16326531],\n",
       "        [3.26530612, 3.36734694],\n",
       "        [3.46938776, 3.57142857],\n",
       "        [3.67346939, 3.7755102 ],\n",
       "        [3.87755102, 3.97959184]],\n",
       "\n",
       "       [[4.08163265, 4.18367347],\n",
       "        [4.28571429, 4.3877551 ],\n",
       "        [4.48979592, 4.59183673],\n",
       "        [4.69387755, 4.79591837],\n",
       "        [4.89795918, 5.        ]]])"
      ]
     },
     "execution_count": 19,
     "metadata": {},
     "output_type": "execute_result"
    }
   ],
   "source": [
    "a2.reshape(5,5, 2)"
   ]
  },
  {
   "cell_type": "code",
   "execution_count": 38,
   "metadata": {},
   "outputs": [
    {
     "data": {
      "text/plain": [
       "array([[[0.        , 0.10204082],\n",
       "        [0.20408163, 0.30612245],\n",
       "        [0.40816327, 0.51020408],\n",
       "        [0.6122449 , 0.71428571],\n",
       "        [0.81632653, 0.91836735]],\n",
       "\n",
       "       [[1.02040816, 1.12244898],\n",
       "        [1.2244898 , 1.32653061],\n",
       "        [1.42857143, 1.53061224],\n",
       "        [1.63265306, 1.73469388],\n",
       "        [1.83673469, 1.93877551]],\n",
       "\n",
       "       [[2.04081633, 2.14285714],\n",
       "        [2.24489796, 2.34693878],\n",
       "        [2.44897959, 2.55102041],\n",
       "        [2.65306122, 2.75510204],\n",
       "        [2.85714286, 2.95918367]],\n",
       "\n",
       "       [[3.06122449, 3.16326531],\n",
       "        [3.26530612, 3.36734694],\n",
       "        [3.46938776, 3.57142857],\n",
       "        [3.67346939, 3.7755102 ],\n",
       "        [3.87755102, 3.97959184]],\n",
       "\n",
       "       [[4.08163265, 4.18367347],\n",
       "        [4.28571429, 4.3877551 ],\n",
       "        [4.48979592, 4.59183673],\n",
       "        [4.69387755, 4.79591837],\n",
       "        [4.89795918, 5.        ]]])"
      ]
     },
     "execution_count": 38,
     "metadata": {},
     "output_type": "execute_result"
    }
   ],
   "source": [
    "a2.reshape(5, 5, 2)"
   ]
  },
  {
   "cell_type": "code",
   "execution_count": 50,
   "metadata": {},
   "outputs": [
    {
     "name": "stdout",
     "output_type": "stream",
     "text": [
      "[[4 8 2 8 6 6 6 1 7 4]\n",
      " [3 2 8 4 7 4 6 9 9 7]\n",
      " [5 7 9 6 9 2 2 3 3 1]\n",
      " [9 9 8 8 5 9 4 2 4 3]\n",
      " [3 8 1 7 6 8 4 6 1 1]\n",
      " [7 2 2 6 7 3 3 1 3 4]\n",
      " [4 1 6 7 9 6 4 7 7 6]\n",
      " [5 8 6 9 8 6 9 3 1 2]\n",
      " [7 9 5 5 2 9 6 7 6 2]\n",
      " [4 7 9 3 8 2 6 1 4 4]]\n"
     ]
    }
   ],
   "source": [
    "m =np.random.randint(1, 10, (10, 10))\n",
    "print(m)"
   ]
  },
  {
   "cell_type": "code",
   "execution_count": 51,
   "metadata": {},
   "outputs": [
    {
     "name": "stdout",
     "output_type": "stream",
     "text": [
      "4\n",
      "4\n",
      "4\n",
      "4\n"
     ]
    }
   ],
   "source": [
    "print(m[0,0]) # first row first colom\n",
    "print(m[0,-1]) # first , last coloum\n",
    "print(m[-1,0])\n",
    "print(m[-1,-1])"
   ]
  },
  {
   "cell_type": "code",
   "execution_count": 49,
   "metadata": {},
   "outputs": [
    {
     "name": "stdout",
     "output_type": "stream",
     "text": [
      "[8 5 4 7 1 5 6 8 4 2]\n",
      "[1 1 7 4 4 7 5 5 8 4]\n",
      "[2 5 6 6 6 9 3 8 2 9]\n",
      "[[8 5 4 7 1 5 6 8 4 2]\n",
      " [1 1 7 4 4 7 5 5 8 4]\n",
      " [5 7 1 6 7 1 1 9 9 9]]\n",
      "[[8 9 8 8 5 6 2 3 6 5]\n",
      " [2 2 4 9 3 5 7 1 1 7]\n",
      " [2 5 6 6 6 9 3 8 2 9]]\n"
     ]
    }
   ],
   "source": [
    "print(m[0]) # first row\n",
    "print(m[1]) # second row\n",
    "print(m[-1]) # last row\n",
    "print(m[:3]) # first 3 row\n",
    "print(m[-3:]) # last 3 row"
   ]
  },
  {
   "cell_type": "code",
   "execution_count": 53,
   "metadata": {},
   "outputs": [
    {
     "name": "stdout",
     "output_type": "stream",
     "text": [
      "[4 3 5 9 3 7 4 5 7 4]\n",
      "[4 7 1 3 1 4 6 2 2 4]\n",
      "[[4 8 2]\n",
      " [3 2 8]\n",
      " [5 7 9]\n",
      " [9 9 8]\n",
      " [3 8 1]\n",
      " [7 2 2]\n",
      " [4 1 6]\n",
      " [5 8 6]\n",
      " [7 9 5]\n",
      " [4 7 9]]\n",
      "[[1 7 4]\n",
      " [9 9 7]\n",
      " [3 3 1]\n",
      " [2 4 3]\n",
      " [6 1 1]\n",
      " [1 3 4]\n",
      " [7 7 6]\n",
      " [3 1 2]\n",
      " [7 6 2]\n",
      " [1 4 4]]\n"
     ]
    }
   ],
   "source": [
    "# to find first coloum\n",
    "\n",
    "print(m[:,0]) # first coloum\n",
    "print(m[:,-1]) # last colom\n",
    "print(m[:,:3]) # first 3 colom \n",
    "print(m[:,-3:]) # last 3 colom\n",
    "\n",
    "\n"
   ]
  },
  {
   "cell_type": "code",
   "execution_count": 54,
   "metadata": {},
   "outputs": [
    {
     "name": "stdout",
     "output_type": "stream",
     "text": [
      "[[4 2 8 6]\n",
      " [3 8 4 4]\n",
      " [5 9 6 2]\n",
      " [9 8 8 9]\n",
      " [3 1 7 8]\n",
      " [7 2 6 3]\n",
      " [4 6 7 6]\n",
      " [5 6 9 6]\n",
      " [7 5 5 9]\n",
      " [4 9 3 2]]\n"
     ]
    }
   ],
   "source": [
    "# spcific colom if you  want the any colom\n",
    "\n",
    "print(m[:, [0, 2, 3, 5]])\n"
   ]
  },
  {
   "cell_type": "markdown",
   "metadata": {},
   "source": [
    "- filtering"
   ]
  },
  {
   "cell_type": "code",
   "execution_count": 55,
   "metadata": {},
   "outputs": [
    {
     "data": {
      "text/plain": [
       "array([[4, 8, 2, 8, 6, 6, 6, 1, 7, 4],\n",
       "       [3, 2, 8, 4, 7, 4, 6, 9, 9, 7],\n",
       "       [5, 7, 9, 6, 9, 2, 2, 3, 3, 1],\n",
       "       [9, 9, 8, 8, 5, 9, 4, 2, 4, 3],\n",
       "       [3, 8, 1, 7, 6, 8, 4, 6, 1, 1],\n",
       "       [7, 2, 2, 6, 7, 3, 3, 1, 3, 4],\n",
       "       [4, 1, 6, 7, 9, 6, 4, 7, 7, 6],\n",
       "       [5, 8, 6, 9, 8, 6, 9, 3, 1, 2],\n",
       "       [7, 9, 5, 5, 2, 9, 6, 7, 6, 2],\n",
       "       [4, 7, 9, 3, 8, 2, 6, 1, 4, 4]])"
      ]
     },
     "execution_count": 55,
     "metadata": {},
     "output_type": "execute_result"
    }
   ],
   "source": [
    "m"
   ]
  },
  {
   "cell_type": "code",
   "execution_count": 56,
   "metadata": {},
   "outputs": [
    {
     "data": {
      "text/plain": [
       "array([[ True, False,  True, False, False, False, False,  True, False,\n",
       "         True],\n",
       "       [ True,  True, False,  True, False,  True, False, False, False,\n",
       "        False],\n",
       "       [False, False, False, False, False,  True,  True,  True,  True,\n",
       "         True],\n",
       "       [False, False, False, False, False, False,  True,  True,  True,\n",
       "         True],\n",
       "       [ True, False,  True, False, False, False,  True, False,  True,\n",
       "         True],\n",
       "       [False,  True,  True, False, False,  True,  True,  True,  True,\n",
       "         True],\n",
       "       [ True,  True, False, False, False, False,  True, False, False,\n",
       "        False],\n",
       "       [False, False, False, False, False, False, False,  True,  True,\n",
       "         True],\n",
       "       [False, False, False, False,  True, False, False, False, False,\n",
       "         True],\n",
       "       [ True, False, False,  True, False,  True, False,  True,  True,\n",
       "         True]])"
      ]
     },
     "execution_count": 56,
     "metadata": {},
     "output_type": "execute_result"
    }
   ],
   "source": [
    "m < 5 # boolean filter"
   ]
  },
  {
   "cell_type": "code",
   "execution_count": 57,
   "metadata": {},
   "outputs": [
    {
     "data": {
      "text/plain": [
       "array([[False, False, False, False, False, False, False, False, False,\n",
       "        False],\n",
       "       [False, False, False, False, False, False, False,  True,  True,\n",
       "        False],\n",
       "       [False, False,  True, False,  True, False, False, False, False,\n",
       "        False],\n",
       "       [ True,  True, False, False, False,  True, False, False, False,\n",
       "        False],\n",
       "       [False, False, False, False, False, False, False, False, False,\n",
       "        False],\n",
       "       [False, False, False, False, False, False, False, False, False,\n",
       "        False],\n",
       "       [False, False, False, False,  True, False, False, False, False,\n",
       "        False],\n",
       "       [False, False, False,  True, False, False,  True, False, False,\n",
       "        False],\n",
       "       [False,  True, False, False, False,  True, False, False, False,\n",
       "        False],\n",
       "       [False, False,  True, False, False, False, False, False, False,\n",
       "        False]])"
      ]
     },
     "execution_count": 57,
     "metadata": {},
     "output_type": "execute_result"
    }
   ],
   "source": [
    "m > 8"
   ]
  },
  {
   "cell_type": "code",
   "execution_count": 58,
   "metadata": {},
   "outputs": [
    {
     "data": {
      "text/plain": [
       "array([4, 2, 1, 4, 3, 2, 4, 4, 2, 2, 3, 3, 1, 4, 2, 4, 3, 3, 1, 4, 1, 1,\n",
       "       2, 2, 3, 3, 1, 3, 4, 4, 1, 4, 3, 1, 2, 2, 2, 4, 3, 2, 1, 4, 4])"
      ]
     },
     "execution_count": 58,
     "metadata": {},
     "output_type": "execute_result"
    }
   ],
   "source": [
    "m[m < 5]"
   ]
  },
  {
   "cell_type": "code",
   "execution_count": 59,
   "metadata": {},
   "outputs": [
    {
     "data": {
      "text/plain": [
       "array([4, 8, 8, 6, 6, 6, 7, 4, 8, 4, 7, 4, 6, 9, 9, 7, 5, 7, 9, 6, 9, 9,\n",
       "       9, 8, 8, 5, 9, 4, 4, 8, 7, 6, 8, 4, 6, 7, 6, 7, 4, 4, 6, 7, 9, 6,\n",
       "       4, 7, 7, 6, 5, 8, 6, 9, 8, 6, 9, 7, 9, 5, 5, 9, 6, 7, 6, 4, 7, 9,\n",
       "       8, 6, 4, 4])"
      ]
     },
     "execution_count": 59,
     "metadata": {},
     "output_type": "execute_result"
    }
   ],
   "source": [
    "m[m > 3]"
   ]
  },
  {
   "cell_type": "code",
   "execution_count": 60,
   "metadata": {},
   "outputs": [
    {
     "data": {
      "text/plain": [
       "array([4, 6, 6, 6, 4, 4, 4, 6, 5, 6, 5, 4, 4, 6, 4, 6, 6, 4, 4, 6, 6, 4,\n",
       "       6, 5, 6, 6, 5, 5, 6, 6, 4, 6, 4, 4])"
      ]
     },
     "execution_count": 60,
     "metadata": {},
     "output_type": "execute_result"
    }
   ],
   "source": [
    "# filter used in data analysis\n",
    "m[(m > 3) & (m <=6)]"
   ]
  },
  {
   "cell_type": "code",
   "execution_count": 61,
   "metadata": {},
   "outputs": [
    {
     "ename": "ValueError",
     "evalue": "The truth value of an array with more than one element is ambiguous. Use a.any() or a.all()",
     "output_type": "error",
     "traceback": [
      "\u001b[1;31m---------------------------------------------------------------------------\u001b[0m",
      "\u001b[1;31mValueError\u001b[0m                                Traceback (most recent call last)",
      "Cell \u001b[1;32mIn[61], line 2\u001b[0m\n\u001b[0;32m      1\u001b[0m \u001b[39m# numpy doc\u001b[39;00m\n\u001b[1;32m----> 2\u001b[0m get_ipython()\u001b[39m.\u001b[39;49mrun_line_magic(\u001b[39m'\u001b[39;49m\u001b[39mpinfo\u001b[39;49m\u001b[39m'\u001b[39;49m, \u001b[39m'\u001b[39;49m\u001b[39mm.flatten\u001b[39;49m\u001b[39m'\u001b[39;49m)\n",
      "File \u001b[1;32mc:\\Users\\Dell\\miniconda3\\lib\\site-packages\\IPython\\core\\interactiveshell.py:2414\u001b[0m, in \u001b[0;36mInteractiveShell.run_line_magic\u001b[1;34m(self, magic_name, line, _stack_depth)\u001b[0m\n\u001b[0;32m   2412\u001b[0m     kwargs[\u001b[39m'\u001b[39m\u001b[39mlocal_ns\u001b[39m\u001b[39m'\u001b[39m] \u001b[39m=\u001b[39m \u001b[39mself\u001b[39m\u001b[39m.\u001b[39mget_local_scope(stack_depth)\n\u001b[0;32m   2413\u001b[0m \u001b[39mwith\u001b[39;00m \u001b[39mself\u001b[39m\u001b[39m.\u001b[39mbuiltin_trap:\n\u001b[1;32m-> 2414\u001b[0m     result \u001b[39m=\u001b[39m fn(\u001b[39m*\u001b[39margs, \u001b[39m*\u001b[39m\u001b[39m*\u001b[39mkwargs)\n\u001b[0;32m   2416\u001b[0m \u001b[39m# The code below prevents the output from being displayed\u001b[39;00m\n\u001b[0;32m   2417\u001b[0m \u001b[39m# when using magics with decodator @output_can_be_silenced\u001b[39;00m\n\u001b[0;32m   2418\u001b[0m \u001b[39m# when the last Python token in the expression is a ';'.\u001b[39;00m\n\u001b[0;32m   2419\u001b[0m \u001b[39mif\u001b[39;00m \u001b[39mgetattr\u001b[39m(fn, magic\u001b[39m.\u001b[39mMAGIC_OUTPUT_CAN_BE_SILENCED, \u001b[39mFalse\u001b[39;00m):\n",
      "File \u001b[1;32mc:\\Users\\Dell\\miniconda3\\lib\\site-packages\\IPython\\core\\magics\\namespace.py:58\u001b[0m, in \u001b[0;36mNamespaceMagics.pinfo\u001b[1;34m(self, parameter_s, namespaces)\u001b[0m\n\u001b[0;32m     56\u001b[0m     \u001b[39mself\u001b[39m\u001b[39m.\u001b[39mpsearch(oname)\n\u001b[0;32m     57\u001b[0m \u001b[39melse\u001b[39;00m:\n\u001b[1;32m---> 58\u001b[0m     \u001b[39mself\u001b[39;49m\u001b[39m.\u001b[39;49mshell\u001b[39m.\u001b[39;49m_inspect(\u001b[39m'\u001b[39;49m\u001b[39mpinfo\u001b[39;49m\u001b[39m'\u001b[39;49m, oname, detail_level\u001b[39m=\u001b[39;49mdetail_level,\n\u001b[0;32m     59\u001b[0m                         namespaces\u001b[39m=\u001b[39;49mnamespaces)\n",
      "File \u001b[1;32mc:\\Users\\Dell\\miniconda3\\lib\\site-packages\\IPython\\core\\interactiveshell.py:1795\u001b[0m, in \u001b[0;36mInteractiveShell._inspect\u001b[1;34m(self, meth, oname, namespaces, **kw)\u001b[0m\n\u001b[0;32m   1793\u001b[0m     pmethod(info\u001b[39m.\u001b[39mobj, oname, formatter)\n\u001b[0;32m   1794\u001b[0m \u001b[39melif\u001b[39;00m meth \u001b[39m==\u001b[39m \u001b[39m'\u001b[39m\u001b[39mpinfo\u001b[39m\u001b[39m'\u001b[39m:\n\u001b[1;32m-> 1795\u001b[0m     pmethod(\n\u001b[0;32m   1796\u001b[0m         info\u001b[39m.\u001b[39mobj,\n\u001b[0;32m   1797\u001b[0m         oname,\n\u001b[0;32m   1798\u001b[0m         formatter,\n\u001b[0;32m   1799\u001b[0m         info,\n\u001b[0;32m   1800\u001b[0m         enable_html_pager\u001b[39m=\u001b[39m\u001b[39mself\u001b[39m\u001b[39m.\u001b[39menable_html_pager,\n\u001b[0;32m   1801\u001b[0m         \u001b[39m*\u001b[39m\u001b[39m*\u001b[39mkw,\n\u001b[0;32m   1802\u001b[0m     )\n\u001b[0;32m   1803\u001b[0m \u001b[39melse\u001b[39;00m:\n\u001b[0;32m   1804\u001b[0m     pmethod(info\u001b[39m.\u001b[39mobj, oname)\n",
      "File \u001b[1;32mc:\\Users\\Dell\\miniconda3\\lib\\site-packages\\IPython\\core\\oinspect.py:782\u001b[0m, in \u001b[0;36mInspector.pinfo\u001b[1;34m(self, obj, oname, formatter, info, detail_level, enable_html_pager, omit_sections)\u001b[0m\n\u001b[0;32m    758\u001b[0m \u001b[39m\u001b[39m\u001b[39m\"\"\"Show detailed information about an object.\u001b[39;00m\n\u001b[0;32m    759\u001b[0m \n\u001b[0;32m    760\u001b[0m \u001b[39mOptional arguments:\u001b[39;00m\n\u001b[1;32m   (...)\u001b[0m\n\u001b[0;32m    779\u001b[0m \u001b[39m- omit_sections: set of section keys and titles to omit\u001b[39;00m\n\u001b[0;32m    780\u001b[0m \u001b[39m\"\"\"\u001b[39;00m\n\u001b[0;32m    781\u001b[0m \u001b[39massert\u001b[39;00m info \u001b[39mis\u001b[39;00m \u001b[39mnot\u001b[39;00m \u001b[39mNone\u001b[39;00m\n\u001b[1;32m--> 782\u001b[0m info_b: Bundle \u001b[39m=\u001b[39m \u001b[39mself\u001b[39;49m\u001b[39m.\u001b[39;49m_get_info(\n\u001b[0;32m    783\u001b[0m     obj, oname, formatter, info, detail_level, omit_sections\u001b[39m=\u001b[39;49momit_sections\n\u001b[0;32m    784\u001b[0m )\n\u001b[0;32m    785\u001b[0m \u001b[39mif\u001b[39;00m \u001b[39mnot\u001b[39;00m enable_html_pager:\n\u001b[0;32m    786\u001b[0m     \u001b[39mdel\u001b[39;00m info_b[\u001b[39m\"\u001b[39m\u001b[39mtext/html\u001b[39m\u001b[39m\"\u001b[39m]\n",
      "File \u001b[1;32mc:\\Users\\Dell\\miniconda3\\lib\\site-packages\\IPython\\core\\oinspect.py:738\u001b[0m, in \u001b[0;36mInspector._get_info\u001b[1;34m(self, obj, oname, formatter, info, detail_level, omit_sections)\u001b[0m\n\u001b[0;32m    712\u001b[0m \u001b[39mdef\u001b[39;00m \u001b[39m_get_info\u001b[39m(\n\u001b[0;32m    713\u001b[0m     \u001b[39mself\u001b[39m,\n\u001b[0;32m    714\u001b[0m     obj: Any,\n\u001b[1;32m   (...)\u001b[0m\n\u001b[0;32m    719\u001b[0m     omit_sections\u001b[39m=\u001b[39m(),\n\u001b[0;32m    720\u001b[0m ) \u001b[39m-\u001b[39m\u001b[39m>\u001b[39m Bundle:\n\u001b[0;32m    721\u001b[0m \u001b[39m    \u001b[39m\u001b[39m\"\"\"Retrieve an info dict and format it.\u001b[39;00m\n\u001b[0;32m    722\u001b[0m \n\u001b[0;32m    723\u001b[0m \u001b[39m    Parameters\u001b[39;00m\n\u001b[1;32m   (...)\u001b[0m\n\u001b[0;32m    735\u001b[0m \u001b[39m        Titles or keys to omit from output (can be set, tuple, etc., anything supporting `in`)\u001b[39;00m\n\u001b[0;32m    736\u001b[0m \u001b[39m    \"\"\"\u001b[39;00m\n\u001b[1;32m--> 738\u001b[0m     info_dict \u001b[39m=\u001b[39m \u001b[39mself\u001b[39;49m\u001b[39m.\u001b[39;49minfo(obj, oname\u001b[39m=\u001b[39;49moname, info\u001b[39m=\u001b[39;49minfo, detail_level\u001b[39m=\u001b[39;49mdetail_level)\n\u001b[0;32m    739\u001b[0m     bundle \u001b[39m=\u001b[39m \u001b[39mself\u001b[39m\u001b[39m.\u001b[39m_make_info_unformatted(\n\u001b[0;32m    740\u001b[0m         obj,\n\u001b[0;32m    741\u001b[0m         info_dict,\n\u001b[1;32m   (...)\u001b[0m\n\u001b[0;32m    744\u001b[0m         omit_sections\u001b[39m=\u001b[39momit_sections,\n\u001b[0;32m    745\u001b[0m     )\n\u001b[0;32m    746\u001b[0m     \u001b[39mreturn\u001b[39;00m \u001b[39mself\u001b[39m\u001b[39m.\u001b[39mformat_mime(bundle)\n",
      "File \u001b[1;32mc:\\Users\\Dell\\miniconda3\\lib\\site-packages\\IPython\\core\\oinspect.py:838\u001b[0m, in \u001b[0;36mInspector.info\u001b[1;34m(self, obj, oname, info, detail_level)\u001b[0m\n\u001b[0;32m    836\u001b[0m parents_docs \u001b[39m=\u001b[39m \u001b[39mNone\u001b[39;00m\n\u001b[0;32m    837\u001b[0m prelude \u001b[39m=\u001b[39m \u001b[39m\"\u001b[39m\u001b[39m\"\u001b[39m\n\u001b[1;32m--> 838\u001b[0m \u001b[39mif\u001b[39;00m info \u001b[39mand\u001b[39;00m info\u001b[39m.\u001b[39mparent \u001b[39mand\u001b[39;00m \u001b[39mhasattr\u001b[39m(info\u001b[39m.\u001b[39mparent, HOOK_NAME):\n\u001b[0;32m    839\u001b[0m     parents_docs_dict \u001b[39m=\u001b[39m \u001b[39mgetattr\u001b[39m(info\u001b[39m.\u001b[39mparent, HOOK_NAME)\n\u001b[0;32m    840\u001b[0m     parents_docs \u001b[39m=\u001b[39m parents_docs_dict\u001b[39m.\u001b[39mget(att_name, \u001b[39mNone\u001b[39;00m)\n",
      "\u001b[1;31mValueError\u001b[0m: The truth value of an array with more than one element is ambiguous. Use a.any() or a.all()"
     ]
    }
   ],
   "source": [
    "# numpy documents\n",
    "m.flatten?"
   ]
  },
  {
   "cell_type": "code",
   "execution_count": null,
   "metadata": {},
   "outputs": [],
   "source": []
  }
 ],
 "metadata": {
  "kernelspec": {
   "display_name": "base",
   "language": "python",
   "name": "python3"
  },
  "language_info": {
   "codemirror_mode": {
    "name": "ipython",
    "version": 3
   },
   "file_extension": ".py",
   "mimetype": "text/x-python",
   "name": "python",
   "nbconvert_exporter": "python",
   "pygments_lexer": "ipython3",
   "version": "3.10.10"
  },
  "orig_nbformat": 4
 },
 "nbformat": 4,
 "nbformat_minor": 2
}

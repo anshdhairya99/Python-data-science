{
 "cells": [
  {
   "cell_type": "markdown",
   "metadata": {},
   "source": [
    "# List Question's with Solution :----"
   ]
  },
  {
   "cell_type": "markdown",
   "metadata": {},
   "source": [
    "Q1 :-- Write a program that creates an empty list and then asks the user to input integers to add to the list. Print the final list."
   ]
  },
  {
   "cell_type": "code",
   "execution_count": 30,
   "metadata": {},
   "outputs": [
    {
     "name": "stdout",
     "output_type": "stream",
     "text": [
      "[786]\n"
     ]
    }
   ],
   "source": [
    "\n",
    "integer_list= []\n",
    "user_input = int(input(\"enter the integer\"))\n",
    "integer_list.append(user_input)\n",
    "print(integer_list)\n",
    "\n",
    "\n",
    "\n"
   ]
  },
  {
   "cell_type": "markdown",
   "metadata": {},
   "source": [
    "Q2 :- Write a program that creates a list of integers and then asks the user to input an integer to check if it exists in the list. Print a message indicating whether the integer is in the list or not.\n"
   ]
  },
  {
   "cell_type": "code",
   "execution_count": 35,
   "metadata": {},
   "outputs": [
    {
     "name": "stdout",
     "output_type": "stream",
     "text": [
      "It is in the integer_list\n"
     ]
    }
   ],
   "source": [
    "integer_list = [1,2,3,4,5]\n",
    "user_input = int(input(\"enter the integer\"))\n",
    "if user_input in integer_list:\n",
    "    print(\"It is in the integer_list\")\n",
    "else:\n",
    "    print(\"It is not in the integer_list\")"
   ]
  },
  {
   "cell_type": "markdown",
   "metadata": {},
   "source": [
    "Q3 :-Write a program that creates a list of strings and then sorts the list alphabetically. Print the sorted list."
   ]
  },
  {
   "cell_type": "code",
   "execution_count": 1,
   "metadata": {},
   "outputs": [
    {
     "name": "stdout",
     "output_type": "stream",
     "text": [
      "['A', 'B', 'C', 'D', 'E', 'F', 'G', 'H', 'I', 'J', 'J', 'K', 'L', 'M', 'N', 'O', 'P', 'Q', 'R', 'S', 'T', 'U', 'V', 'W', 'X', 'Y', 'Z']\n"
     ]
    }
   ],
   "source": [
    "alphabets = ['B','A','C','J','Q','W','E','R','T','Y','U','I','O','P','L','K','J','H','G','F','D','S','Z','X','V','N','M']\n",
    "alphabets.sort()\n",
    "print(alphabets)"
   ]
  },
  {
   "cell_type": "markdown",
   "metadata": {},
   "source": [
    "Q4 :- Write a program that creates a list of integers and then finds the maximum value in the list. Print the maximum value.\n"
   ]
  },
  {
   "cell_type": "code",
   "execution_count": 10,
   "metadata": {},
   "outputs": [
    {
     "name": "stdout",
     "output_type": "stream",
     "text": [
      "1000\n"
     ]
    }
   ],
   "source": [
    "list1  = [5,8,99,10,100,200,500,5,800,1000]\n",
    "a = max(list1)\n",
    "print(a)"
   ]
  },
  {
   "cell_type": "markdown",
   "metadata": {},
   "source": [
    "Q 5:- Write a program that creates two lists of integers and then finds the common elements between those two lists. Print the common elements.\n"
   ]
  },
  {
   "cell_type": "code",
   "execution_count": 46,
   "metadata": {},
   "outputs": [
    {
     "name": "stdout",
     "output_type": "stream",
     "text": [
      "3\n",
      "4\n",
      "5\n",
      "7\n",
      "8\n",
      "9\n",
      "12\n"
     ]
    }
   ],
   "source": [
    "list1 = [1, 2, 3, 4, 5, 7, 8, 9, 12]\n",
    "list2 = [3, 4, 5, 6, 7, 12, 9, 8, 99]\n",
    "for i in list1:\n",
    "    for j in list2:\n",
    "        if i ==j:\n",
    "            print(i)"
   ]
  },
  {
   "cell_type": "markdown",
   "metadata": {},
   "source": [
    "Q 6:-Write a program that creates a list of strings and then removes all elements that contain a specific substring. Print the final list.\n"
   ]
  },
  {
   "cell_type": "code",
   "execution_count": 4,
   "metadata": {},
   "outputs": [
    {
     "name": "stdout",
     "output_type": "stream",
     "text": [
      "['apple', 'grapefruit', 'kiwi', 'pineapple']\n"
     ]
    }
   ],
   "source": [
    "\n",
    "string_list = [\"apple\", \"banana\", \"orange\", \"grapefruit\", \"kiwi\", \"pineapple\"]\n",
    "substring_to_remove = \"an\"\n",
    "filtered_list = [s for s in string_list if substring_to_remove not in s]\n",
    "print(filtered_list)\n",
    "\n"
   ]
  },
  {
   "cell_type": "markdown",
   "metadata": {},
   "source": [
    "Q 7:- Write a program that creates a nested list and then accesses a specific element in the list. Print the accessed element.\n"
   ]
  },
  {
   "cell_type": "code",
   "execution_count": 5,
   "metadata": {},
   "outputs": [
    {
     "name": "stdout",
     "output_type": "stream",
     "text": [
      "Accessed element: 6\n"
     ]
    }
   ],
   "source": [
    "\n",
    "nested_list = [\n",
    "    [1, 2, 3],\n",
    "    [4, 5, 6],\n",
    "    [7, 8, 9]\n",
    "]\n",
    "\n",
    "row_index = 1\n",
    "column_index = 2\n",
    "accessed_element = nested_list[row_index][column_index]\n",
    "print(\"Accessed element:\", accessed_element)\n"
   ]
  },
  {
   "cell_type": "markdown",
   "metadata": {},
   "source": [
    "Q 8:- Write a program that creates a list of integers and then removes all duplicates from the list. Print the final list.\n"
   ]
  },
  {
   "cell_type": "code",
   "execution_count": 63,
   "metadata": {},
   "outputs": [
    {
     "name": "stdout",
     "output_type": "stream",
     "text": [
      "[23, 2, 3, 5, 9, 18, 7, 44]\n"
     ]
    }
   ],
   "source": [
    "integer_list = [23,2,44,3,5,9,18,7,44]\n",
    "integer_list.remove(44)\n",
    "print(integer_list)"
   ]
  },
  {
   "cell_type": "markdown",
   "metadata": {},
   "source": [
    "Q 9:-Write a program that creates a list of strings and then finds the longest string in the list. Print the longest string.\n"
   ]
  },
  {
   "cell_type": "code",
   "execution_count": 13,
   "metadata": {},
   "outputs": [
    {
     "name": "stdout",
     "output_type": "stream",
     "text": [
      "Longest string: grapefruit\n"
     ]
    }
   ],
   "source": [
    "\n",
    "string_list = [\"apple\", \"banana\", \"orange\", \"grapefruit\", \"kiwi\", \"pineapple\"]\n",
    "longest_string = max(string_list, key=len)\n",
    "print(\"Longest string:\", longest_string)\n"
   ]
  },
  {
   "cell_type": "markdown",
   "metadata": {},
   "source": [
    "Q 10 :-Write a program that creates a list of integers and then finds the sum of all the even numbers in the list. Print the sum.\n"
   ]
  },
  {
   "cell_type": "code",
   "execution_count": 69,
   "metadata": {},
   "outputs": [
    {
     "name": "stdout",
     "output_type": "stream",
     "text": [
      "[2]\n",
      "[2, 4]\n",
      "[2, 4, 6]\n",
      "[2, 4, 6, 8]\n",
      "[2, 4, 6, 8, 10]\n",
      "[2, 4, 6, 8, 10, 12]\n"
     ]
    }
   ],
   "source": [
    "\n",
    "string_list = [1,2,4,5,6,7,8,9,10,12]\n",
    "y = []\n",
    "for i in string_list:\n",
    "    if i % 2 ==0:\n",
    "        y.append(i)\n",
    "        print(y)\n"
   ]
  },
  {
   "cell_type": "markdown",
   "metadata": {},
   "source": [
    "Q 11 :-Write a program that creates a list of integers and then asks the user to input a position to remove an element from the list. Print the final list.\n"
   ]
  },
  {
   "cell_type": "code",
   "execution_count": 14,
   "metadata": {},
   "outputs": [
    {
     "name": "stdout",
     "output_type": "stream",
     "text": [
      "Original list: [10, 20, 30, 40, 50]\n",
      "Final list after removing the element at position: remove_element_by_position(integer_list, position_to_remove)\n"
     ]
    }
   ],
   "source": [
    "\n",
    "# no solve\n",
    "integer_list = [10, 20, 30, 40, 50]\n",
    "print(\"Original list:\", integer_list)\n",
    "\n",
    "position_to_remove = int(input(\"Enter the position\"))\n",
    "updated_list = 'remove_element_by_position(integer_list, position_to_remove)'\n",
    "\n",
    "print(\"Final list after removing the element at position:\", updated_list)\n",
    "\n"
   ]
  },
  {
   "cell_type": "markdown",
   "metadata": {},
   "source": [
    "Q 12:- Write a program that creates a list of strings and then concatenates all the strings into a single string. Print the final string.\n"
   ]
  },
  {
   "cell_type": "code",
   "execution_count": 79,
   "metadata": {},
   "outputs": [
    {
     "name": "stdout",
     "output_type": "stream",
     "text": [
      "['12', '22', '55', '66', '90', '100', '120']\n"
     ]
    }
   ],
   "source": [
    "string_list = [\"12\",\"22\",\"55\",\"66\",\"90\",\"100\",\"120\"]\n",
    "\" \".join('string_list')\n",
    "print(string_list)"
   ]
  },
  {
   "cell_type": "markdown",
   "metadata": {},
   "source": [
    "Q 13:- Write a program that creates a list of integers and then finds the median value of the list. Print the median.\n"
   ]
  },
  {
   "cell_type": "code",
   "execution_count": 26,
   "metadata": {},
   "outputs": [
    {
     "name": "stdout",
     "output_type": "stream",
     "text": [
      "30\n"
     ]
    }
   ],
   "source": [
    "import statistics\n",
    "integer_list = [10,20,30,40,50]\n",
    "median = statistics.median(integer_list)\n",
    "print(median)"
   ]
  },
  {
   "cell_type": "markdown",
   "metadata": {},
   "source": [
    "Q 14 :-Write a program that creates a list of strings and then reverses the order of the strings in the list. Print the reversed list.\n"
   ]
  },
  {
   "cell_type": "code",
   "execution_count": 91,
   "metadata": {},
   "outputs": [
    {
     "name": "stdout",
     "output_type": "stream",
     "text": [
      "['10', '9', '8', '7', '6', '5', '4', '3', '2', '1']\n"
     ]
    }
   ],
   "source": [
    "list5 = [\"1\",\"2\",\"3\",\"4\",\"5\",\"6\",\"7\",\"8\",\"9\",\"10\"]\n",
    "chars= list5[::-1]\n",
    "print(chars)"
   ]
  },
  {
   "cell_type": "markdown",
   "metadata": {},
   "source": [
    "Q 15 :-Write a program that creates a list of integers and then calculates the average of all the numbers in the list. Print the average.\n"
   ]
  },
  {
   "cell_type": "code",
   "execution_count": 17,
   "metadata": {},
   "outputs": [
    {
     "name": "stdout",
     "output_type": "stream",
     "text": [
      "Average: 30.0\n"
     ]
    }
   ],
   "source": [
    "num_list = [10,20,30,40,50]\n",
    "average = sum(num_list)/len(num_list)\n",
    "print(\"Average:\",average) "
   ]
  },
  {
   "cell_type": "markdown",
   "metadata": {},
   "source": [
    "Q 16 :- Write a program that creates a list of integers and then finds the index of a specific element in the list. Print the index.\n"
   ]
  },
  {
   "cell_type": "code",
   "execution_count": 104,
   "metadata": {},
   "outputs": [
    {
     "name": "stdout",
     "output_type": "stream",
     "text": [
      "6\n",
      "7\n",
      "5\n",
      "4\n",
      "8\n",
      "9\n",
      "10\n",
      "12\n",
      "45\n",
      "66\n",
      "90\n"
     ]
    }
   ],
   "source": [
    "list = [6,7,5,4,8,9,10,12,45,66,90]\n",
    "print(list[0])\n",
    "print(list[1])\n",
    "print(list[2])\n",
    "print(list[3])\n",
    "print(list[4])\n",
    "print(list[5])\n",
    "print(list[6])\n",
    "print(list[7])\n",
    "print(list[8])\n",
    "print(list[9])\n",
    "print(list[10])\n",
    "\n"
   ]
  },
  {
   "cell_type": "markdown",
   "metadata": {},
   "source": [
    "Q 17 :- Write a program that creates a list of strings and then removes all whitespace characters from each string in the list. Print the final list.\n"
   ]
  },
  {
   "cell_type": "code",
   "execution_count": 105,
   "metadata": {},
   "outputs": [
    {
     "name": "stdout",
     "output_type": "stream",
     "text": [
      "hello my name is John . I am currently living in london\n"
     ]
    }
   ],
   "source": [
    "list6 = \"                               hello my name is John . I am currently living in london   \"\n",
    "list6 = list6.strip()\n",
    "print(list6)"
   ]
  },
  {
   "cell_type": "markdown",
   "metadata": {},
   "source": [
    "Q 18 :-Write a program that creates a list of integers and then sorts the list in descending order. Print the sorted list.\n"
   ]
  },
  {
   "cell_type": "code",
   "execution_count": 107,
   "metadata": {},
   "outputs": [
    {
     "name": "stdout",
     "output_type": "stream",
     "text": [
      "[1, 2, 3, 4, 5, 6, 7, 8, 9, 10, 11, 12]\n"
     ]
    }
   ],
   "source": [
    "list = [10,1,5,6,8,3,12,4,7,9,11,2]\n",
    "list.sort()\n",
    "print(list)"
   ]
  },
  {
   "cell_type": "markdown",
   "metadata": {},
   "source": [
    "Q 19 :-Write a program that creates a list of integers and then asks the user to input a value to add to the list. Add the value to the beginning of the list and print the final list.\n"
   ]
  },
  {
   "cell_type": "code",
   "execution_count": null,
   "metadata": {},
   "outputs": [],
   "source": []
  },
  {
   "cell_type": "markdown",
   "metadata": {},
   "source": [
    "Q 20 :-Write a program that creates two lists of integers and then concatenates those two lists into a single list. Print the final list.\n"
   ]
  },
  {
   "cell_type": "code",
   "execution_count": 121,
   "metadata": {},
   "outputs": [
    {
     "name": "stdout",
     "output_type": "stream",
     "text": [
      "[4, 7, 9, 10, 12, 1, 17, 19, 20, 23, 4, 5, 67, 88, 2, 1, 12, 22]\n"
     ]
    }
   ],
   "source": [
    "list1 = [4,7,9,10,12,1,17,19,20]\n",
    "list2 = [23,4,5,67,88,2,1,12,22]\n",
    "concatinated_list = list1 + list2\n",
    "print(concatinated_list)"
   ]
  },
  {
   "cell_type": "markdown",
   "metadata": {},
   "source": [
    "Q 21:- Write a program that uses the map function to create a new list that contains the squares of each element in a user inputted list of integers.\n"
   ]
  },
  {
   "cell_type": "code",
   "execution_count": 2,
   "metadata": {},
   "outputs": [
    {
     "name": "stdout",
     "output_type": "stream",
     "text": [
      "[144, 16, 25, 36, 64, 81, 1, 4, 16]\n"
     ]
    }
   ],
   "source": [
    "x = [12,4,5,6,8,9,1,2,4]\n",
    "x2 = [ i ** 2\n",
    "    for i in x]\n",
    "                       \n",
    "print(x2)\n",
    "\n"
   ]
  },
  {
   "cell_type": "markdown",
   "metadata": {},
   "source": [
    "Q 22:- Write a program that uses a lambda expression and the map function to convert a list of integers to a list of strings. Print the new list.\n"
   ]
  },
  {
   "cell_type": "code",
   "execution_count": 11,
   "metadata": {},
   "outputs": [
    {
     "name": "stdout",
     "output_type": "stream",
     "text": [
      "['1', '2', '3', '4', '5']\n"
     ]
    }
   ],
   "source": [
    "\n",
    "integer_list = [1, 2, 3, 4, 5]\n",
    "\n",
    "# Using lambda function with map to convert integers to strings\n",
    "string_list = list(map(lambda x: str(x), integer_list))\n",
    "\n",
    "print(string_list)\n"
   ]
  },
  {
   "cell_type": "markdown",
   "metadata": {},
   "source": [
    "Q 23:- Write a program that uses a lambda expression and the map function to add 10 to each element in a list of integers. Print the new list.\n"
   ]
  },
  {
   "cell_type": "code",
   "execution_count": 12,
   "metadata": {},
   "outputs": [
    {
     "name": "stdout",
     "output_type": "stream",
     "text": [
      "[11, 32, 13, 14, 15, 71, 17, 90, 19, 111]\n"
     ]
    }
   ],
   "source": [
    "integer_list = [1,22,3,4,5,61,7,80,9,101]\n",
    "string_list = list(map(lambda x: x+10,integer_list))\n",
    "print(string_list)"
   ]
  },
  {
   "cell_type": "markdown",
   "metadata": {},
   "source": [
    "Q 24:- Write a program that uses the map function to create a new list that contains the first letter of each string in a user inputted list of strings.\n"
   ]
  },
  {
   "cell_type": "code",
   "execution_count": 19,
   "metadata": {},
   "outputs": [
    {
     "name": "stdout",
     "output_type": "stream",
     "text": [
      "['1']\n"
     ]
    }
   ],
   "source": [
    "\n",
    "input_strings = input(\"Enter a list of string:\").split(' ')\n",
    "\n",
    "# Use map function to extract the first letter of each string\n",
    "first_letters = list(map(lambda x: x.strip()[0], input_strings))\n",
    "print(first_letters)\n"
   ]
  },
  {
   "cell_type": "markdown",
   "metadata": {},
   "source": [
    "Q 25:- Write a program that uses a lambda expression and the map function to convert a list of Celsius temperatures to a list of Fahrenheit temperatures. Print the new list.\n"
   ]
  },
  {
   "cell_type": "code",
   "execution_count": 1,
   "metadata": {},
   "outputs": [
    {
     "name": "stdout",
     "output_type": "stream",
     "text": [
      "[32.0, 77.0, 50.0, 89.6, 212.0]\n"
     ]
    }
   ],
   "source": [
    "# Function to convert Celsius to Fahrenheit\n",
    "celsius_to_fahrenheit = lambda celsius: (celsius * 9/5) + 32\n",
    "\n",
    "# List of Celsius temperatures\n",
    "celsius_temperatures = [0, 25, 10, 32, 100]\n",
    "\n",
    "# Use map function to convert Celsius to Fahrenheit\n",
    "fahrenheit_temperatures = list(map(celsius_to_fahrenheit, celsius_temperatures))\n",
    "\n",
    "print(fahrenheit_temperatures)\n"
   ]
  },
  {
   "cell_type": "markdown",
   "metadata": {},
   "source": [
    "Q 26:- Write a program that uses a lambda expression and the map function to convert a list of strings to a list of integers. Print the new list.\n"
   ]
  },
  {
   "cell_type": "code",
   "execution_count": 2,
   "metadata": {},
   "outputs": [
    {
     "name": "stdout",
     "output_type": "stream",
     "text": [
      "[1, 2, 3, 4, 5]\n"
     ]
    }
   ],
   "source": [
    "string_list = [\"1\", \"2\", \"3\", \"4\", \"5\"]\n",
    "#convert into list of integer\n",
    "integer_list = list(map(int, string_list))\n",
    "print(integer_list)"
   ]
  },
  {
   "cell_type": "markdown",
   "metadata": {},
   "source": [
    "Q 27 :- Write a program that uses the map function to create a new list that contains the length of each string in a user inputted list of strings.\n"
   ]
  },
  {
   "cell_type": "code",
   "execution_count": 3,
   "metadata": {},
   "outputs": [
    {
     "name": "stdout",
     "output_type": "stream",
     "text": [
      "[1, 1]\n"
     ]
    }
   ],
   "source": [
    "# no solve\n",
    "input_strings = input('enter the input of string:')\n",
    "integer_list = list(map(len,input_strings))\n",
    "print(integer_list)"
   ]
  },
  {
   "cell_type": "markdown",
   "metadata": {},
   "source": [
    "Q 28 :- Write a program that uses a lambda expression and the map function to calculate the square root of each element in a list of integers. Print the new list.\n"
   ]
  },
  {
   "cell_type": "code",
   "execution_count": 10,
   "metadata": {},
   "outputs": [
    {
     "name": "stdout",
     "output_type": "stream",
     "text": [
      "[4.0, 12.0, 6.0, 8.0, 7.0, 13.0, 25.0]\n"
     ]
    }
   ],
   "source": [
    "integer_list = [16,144,36,64,49,169,625]\n",
    "square_root_list = list(map(lambda x: x **0.5, integer_list))\n",
    "print(square_root_list)\n",
    " \n",
    "\n"
   ]
  },
  {
   "cell_type": "markdown",
   "metadata": {},
   "source": [
    "Q 29:- Write a program that uses a lambda expression and the map function to convert a list of integers to their absolute values. Print the new list.\n"
   ]
  },
  {
   "cell_type": "code",
   "execution_count": 28,
   "metadata": {},
   "outputs": [
    {
     "name": "stdout",
     "output_type": "stream",
     "text": [
      "[12, 15, 13, 56, 23, 78, 11, 66, 44]\n"
     ]
    }
   ],
   "source": [
    "integer_list = [12,15,-13,-56,23,-78,11,+66,-44]\n",
    "absolute_value_integer = list(map(lambda x: abs(x),integer_list ))\n",
    "print(absolute_value_integer)"
   ]
  },
  {
   "cell_type": "markdown",
   "metadata": {},
   "source": [
    "Q 30 :- Write a program that uses the map function to create a new list that contains the uppercase version of each string in a user inputted list of strings.\n"
   ]
  },
  {
   "cell_type": "code",
   "execution_count": 27,
   "metadata": {},
   "outputs": [
    {
     "name": "stdout",
     "output_type": "stream",
     "text": [
      "['HELLO', 'WORLD']\n"
     ]
    }
   ],
   "source": [
    "\n",
    "user_input_list = input(\"Enter a list of strings separated by spaces: \").split()\n",
    "uppercase_list = list(map(lambda x: x.upper(), user_input_list))\n",
    "print(uppercase_list)\n"
   ]
  },
  {
   "cell_type": "markdown",
   "metadata": {},
   "source": [
    "Q 31:- Write a program that uses the filter function to create a new list that contains only the even numbers from a user inputted list of integers.\n"
   ]
  },
  {
   "cell_type": "code",
   "execution_count": null,
   "metadata": {},
   "outputs": [],
   "source": []
  },
  {
   "cell_type": "markdown",
   "metadata": {},
   "source": [
    "Q 32:- Write a program that uses a lambda expression and the filter function to create a new list that contains only the strings that start with a vowel from a user inputted list of strings.\n"
   ]
  },
  {
   "cell_type": "code",
   "execution_count": null,
   "metadata": {},
   "outputs": [],
   "source": []
  },
  {
   "cell_type": "markdown",
   "metadata": {},
   "source": [
    "Q 33:- Write a program that uses the filter function to create a new list that contains only the strings with a length greater than 5 from a user inputted list of strings.\n"
   ]
  },
  {
   "cell_type": "code",
   "execution_count": null,
   "metadata": {},
   "outputs": [],
   "source": []
  },
  {
   "cell_type": "markdown",
   "metadata": {},
   "source": [
    "Q 34:-Write a program that uses a lambda expression and the filter function to create a new list that contains only the positive numbers from a user inputted list of integers.\n"
   ]
  },
  {
   "cell_type": "code",
   "execution_count": null,
   "metadata": {},
   "outputs": [],
   "source": []
  },
  {
   "cell_type": "markdown",
   "metadata": {},
   "source": [
    "Q 35:- Write a program that uses the filter function to create a new list that contains only the strings that contain the letter \"e\" from a user inputted list of strings.\n"
   ]
  },
  {
   "cell_type": "code",
   "execution_count": null,
   "metadata": {},
   "outputs": [],
   "source": []
  },
  {
   "cell_type": "markdown",
   "metadata": {},
   "source": [
    "Q 36:- Write a program that creates a nested list from two user inputted lists of integers. The resulting nested list should contain each element of the first list paired with the corresponding element of the second list.\n",
    "- Example input: [1, 2, 3], [4, 5, 6]\n",
    "- Example output: [[1, 4], [2, 5], [3, 6]]"
   ]
  },
  {
   "cell_type": "code",
   "execution_count": null,
   "metadata": {},
   "outputs": [],
   "source": []
  },
  {
   "cell_type": "markdown",
   "metadata": {},
   "source": [
    "Q 37 :- Write a program that creates a nested list of strings from a user inputted list of strings. The resulting nested list should contain each string split into its individual characters.\n",
    "- Example input: ['hello', 'world']\n",
    "- Example output: [['h', 'e', 'l', 'l', 'o'], ['w', 'o', 'r', 'l', 'd']]"
   ]
  },
  {
   "cell_type": "code",
   "execution_count": null,
   "metadata": {},
   "outputs": [],
   "source": []
  },
  {
   "cell_type": "markdown",
   "metadata": {},
   "source": [
    "Q 38 :-Write a program that creates a nested list of integers from a user inputted list of integers. The resulting nested list should contain each integer along with its square.\n",
    "- Example input: [1, 2, 3, 4, 5]\n",
    "- Example output: [[1, 1], [2, 4], [3, 9], [4, 16], [5, 25]]"
   ]
  },
  {
   "cell_type": "code",
   "execution_count": null,
   "metadata": {},
   "outputs": [],
   "source": []
  },
  {
   "cell_type": "markdown",
   "metadata": {},
   "source": [
    "Q 39:- Write a program that creates a nested list from a user inputted list of strings. The resulting nested list should contain the unique characters from each string.\n",
    "- Example input: ['apple', 'banana', 'cherry']\n",
    "- Example output: [['a', 'p', 'l', 'e'], ['b', 'a', 'n'], ['c', 'h', 'e', 'r', 'y']]"
   ]
  },
  {
   "cell_type": "code",
   "execution_count": null,
   "metadata": {},
   "outputs": [],
   "source": []
  },
  {
   "cell_type": "markdown",
   "metadata": {},
   "source": [
    "Q 40 :-Write a program that creates a nested list of integers from a user inputted list of integers. The resulting nested list should contain each integer along with all of its divisors.\n",
    "- Example input: [2, 3, 4, 5]\n",
    "- Example output: [[2, [1, 2]], [3, [1, 3]], [4, [1, 2, 4]], [5, [1, 5]]]\n"
   ]
  },
  {
   "cell_type": "code",
   "execution_count": null,
   "metadata": {},
   "outputs": [],
   "source": []
  },
  {
   "cell_type": "markdown",
   "metadata": {},
   "source": [
    "Q 41:- You are given a list of integers, nums. Write a function, reverse_list(nums), that takes the list as input and returns a new list that is the reverse of the original list. Function signature\n",
    "- def reverse_list(nums: List[int]) -> List[int]\n",
    "\n",
    "- inputs:\n",
    "\n",
    "- A list of integers, nums (1 <= len(nums) <= 1000) output:\n",
    "- A new list that is the reverse of nums\n",
    "- Example:\n",
    "\n",
    "- Input: nums = [1, 2, 3, 4, 5]\n",
    "- Output: [5, 4, 3, 2, 1]\n",
    "\n",
    "- Input: nums = [7, 6, 5, 4]\n",
    "- Output: [4, 5, 6, 7]"
   ]
  },
  {
   "cell_type": "code",
   "execution_count": null,
   "metadata": {},
   "outputs": [],
   "source": []
  }
 ],
 "metadata": {
  "kernelspec": {
   "display_name": "base",
   "language": "python",
   "name": "python3"
  },
  "language_info": {
   "codemirror_mode": {
    "name": "ipython",
    "version": 3
   },
   "file_extension": ".py",
   "mimetype": "text/x-python",
   "name": "python",
   "nbconvert_exporter": "python",
   "pygments_lexer": "ipython3",
   "version": "3.10.10"
  },
  "orig_nbformat": 4
 },
 "nbformat": 4,
 "nbformat_minor": 2
}

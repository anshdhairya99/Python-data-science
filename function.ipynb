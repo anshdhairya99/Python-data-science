{
 "cells": [
  {
   "cell_type": "markdown",
   "metadata": {},
   "source": [
    "# Function's In Python :---"
   ]
  },
  {
   "cell_type": "markdown",
   "metadata": {},
   "source": [
    "- *Syntax* :---\n",
    "\n",
    "- def fun_name([parameters]):\n",
    "   - statement 1\n",
    "   - statement 2\n",
    "- ........\n",
    "   - statement n\n",
    "   - [return value]"
   ]
  },
  {
   "cell_type": "markdown",
   "metadata": {},
   "source": [
    "- Types of user defined functions :-----\n",
    "- 1 Non- parameters non returning function\n",
    "- 2 value returning function\n",
    "- 3 parameterized function\n",
    "-     positional required arguments\n",
    "-      named arguments \n",
    "-     default aguments\n",
    "-      variable arguments\n",
    "-       keyword arguments\n",
    "- 4 parameterzed and value returning function\n",
    "- 5 Lambda functions"
   ]
  },
  {
   "cell_type": "code",
   "execution_count": 48,
   "metadata": {},
   "outputs": [
    {
     "name": "stdout",
     "output_type": "stream",
     "text": [
      "24\n"
     ]
    }
   ],
   "source": [
    "# built in function \n",
    "a = 12\n",
    "b = 12\n",
    "c = sum((a,b))\n",
    "print(c)"
   ]
  },
  {
   "cell_type": "code",
   "execution_count": 52,
   "metadata": {},
   "outputs": [
    {
     "name": "stdout",
     "output_type": "stream",
     "text": [
      "Hello World !!!\n",
      "None\n"
     ]
    }
   ],
   "source": [
    "# User define function\n",
    "def function1():\n",
    "    print(\"Hello World !!!\")\n",
    "print(function1())\n",
    "# None came because of we used the ( print)"
   ]
  },
  {
   "cell_type": "code",
   "execution_count": 54,
   "metadata": {},
   "outputs": [
    {
     "name": "stdout",
     "output_type": "stream",
     "text": [
      "Hello World !!!\n"
     ]
    }
   ],
   "source": [
    "# Not came None \n",
    "function1()"
   ]
  },
  {
   "cell_type": "code",
   "execution_count": 62,
   "metadata": {},
   "outputs": [
    {
     "name": "stdout",
     "output_type": "stream",
     "text": [
      "hello you are in function 1 20\n"
     ]
    }
   ],
   "source": [
    "# print the two number using function :--\n",
    "def function1(a,b):\n",
    "    print(\"hello you are in function 1\", a + b)\n",
    "function1(10, 10)"
   ]
  },
  {
   "cell_type": "code",
   "execution_count": 80,
   "metadata": {},
   "outputs": [
    {
     "name": "stdout",
     "output_type": "stream",
     "text": [
      "12.0\n"
     ]
    },
    {
     "data": {
      "text/plain": [
       "12.0"
      ]
     },
     "execution_count": 80,
     "metadata": {},
     "output_type": "execute_result"
    }
   ],
   "source": [
    "# Average function :-\n",
    "def function2(a, b):\n",
    "    average = (a+b)/2\n",
    "    print(average)\n",
    "    return average # it return also one average value\n",
    "function2(12,12)"
   ]
  },
  {
   "cell_type": "code",
   "execution_count": 1,
   "metadata": {},
   "outputs": [],
   "source": [
    "from random import random"
   ]
  },
  {
   "cell_type": "code",
   "execution_count": 2,
   "metadata": {},
   "outputs": [
    {
     "data": {
      "text/plain": [
       "0.15374120494106125"
      ]
     },
     "execution_count": 2,
     "metadata": {},
     "output_type": "execute_result"
    }
   ],
   "source": [
    "random()"
   ]
  },
  {
   "cell_type": "code",
   "execution_count": 3,
   "metadata": {},
   "outputs": [],
   "source": [
    "def inspireMe():\n",
    "    from random import choice\n",
    "    q = [\n",
    "        'The best way to predict the future to invent it.',\n",
    "        'The man go to the home he eat the item.',\n",
    "        'Hardwork the best',\n",
    "        'Early to beast talent'\n",
    "    ]\n",
    "    return choice(q)\n",
    "    "
   ]
  },
  {
   "cell_type": "code",
   "execution_count": 5,
   "metadata": {},
   "outputs": [
    {
     "data": {
      "text/plain": [
       "'Early to beast talent'"
      ]
     },
     "execution_count": 5,
     "metadata": {},
     "output_type": "execute_result"
    }
   ],
   "source": [
    "inspireMe()"
   ]
  },
  {
   "cell_type": "code",
   "execution_count": 6,
   "metadata": {},
   "outputs": [
    {
     "name": "stdout",
     "output_type": "stream",
     "text": [
      "2\n",
      "2\n",
      "5\n"
     ]
    }
   ],
   "source": [
    "def dicey():\n",
    "    from random import randint\n",
    "    return randint(1,6)\n",
    "print(dicey())\n",
    "print(dicey())\n",
    "print(dicey())"
   ]
  },
  {
   "cell_type": "code",
   "execution_count": 7,
   "metadata": {},
   "outputs": [
    {
     "name": "stdout",
     "output_type": "stream",
     "text": [
      "3\n"
     ]
    }
   ],
   "source": [
    "roll = dicey()\n",
    "print(roll)\n"
   ]
  },
  {
   "cell_type": "code",
   "execution_count": 8,
   "metadata": {},
   "outputs": [
    {
     "data": {
      "text/plain": [
       "31"
      ]
     },
     "execution_count": 8,
     "metadata": {},
     "output_type": "execute_result"
    }
   ],
   "source": [
    "dicey() + dicey() * 5"
   ]
  },
  {
   "cell_type": "code",
   "execution_count": 9,
   "metadata": {},
   "outputs": [
    {
     "name": "stdout",
     "output_type": "stream",
     "text": [
      "prime\n"
     ]
    }
   ],
   "source": [
    "num = int(input('enter number'))\n",
    "def prime():\n",
    "    for i in range(2,num):\n",
    "        if num%i ==0:\n",
    "            return ('not prime')\n",
    "            break\n",
    "    else:\n",
    "            return('prime')\n",
    "print(prime())\n",
    "    \n",
    "\n"
   ]
  },
  {
   "cell_type": "code",
   "execution_count": 17,
   "metadata": {},
   "outputs": [],
   "source": [
    "num = input('enter number')\n",
    "def is_prime(num):\n",
    "    for i in range(2,num):\n",
    "        if num % i == 0:\n",
    "            return False\n",
    "        return True"
   ]
  },
  {
   "cell_type": "code",
   "execution_count": 18,
   "metadata": {},
   "outputs": [
    {
     "data": {
      "text/plain": [
       "True"
      ]
     },
     "execution_count": 18,
     "metadata": {},
     "output_type": "execute_result"
    }
   ],
   "source": [
    "is_prime(13)"
   ]
  },
  {
   "cell_type": "code",
   "execution_count": 19,
   "metadata": {},
   "outputs": [],
   "source": [
    "# parameterized function\n",
    "def si(p, r, t):\n",
    "    ans = p * r * t /100\n",
    "    print(\"Principle \", p )\n",
    "    print(\"Rate \", r)\n",
    "    print(\"Time \", t)\n",
    "    print(\"simple sentences \", ans)"
   ]
  },
  {
   "cell_type": "code",
   "execution_count": 20,
   "metadata": {},
   "outputs": [
    {
     "name": "stdout",
     "output_type": "stream",
     "text": [
      "Principle  12000\n",
      "Rate  5\n",
      "Time  10\n",
      "simple sentences  6000.0\n"
     ]
    }
   ],
   "source": [
    "si(12000, 5, 10)"
   ]
  },
  {
   "cell_type": "markdown",
   "metadata": {},
   "source": [
    "- Wap to remove all the punctuation from the string provided by the user.\n",
    "\n",
    "- (hints)\n",
    "- from string import punctuation\n",
    "\n"
   ]
  },
  {
   "cell_type": "code",
   "execution_count": 41,
   "metadata": {},
   "outputs": [
    {
     "ename": "AttributeError",
     "evalue": "'str' object has no attribute 'repalce'",
     "output_type": "error",
     "traceback": [
      "\u001b[1;31m---------------------------------------------------------------------------\u001b[0m",
      "\u001b[1;31mAttributeError\u001b[0m                            Traceback (most recent call last)",
      "Cell \u001b[1;32mIn[41], line 7\u001b[0m\n\u001b[0;32m      5\u001b[0m         \u001b[39mreturn\u001b[39;00m data\n\u001b[0;32m      6\u001b[0m data \u001b[39m=\u001b[39m \u001b[39m'\u001b[39m\u001b[39m#@h*(*(i^&&*helo*!@John@$!@))\u001b[39m\u001b[39m'\u001b[39m\n\u001b[1;32m----> 7\u001b[0m clean_punc(data)\n",
      "Cell \u001b[1;32mIn[41], line 4\u001b[0m, in \u001b[0;36mclean_punc\u001b[1;34m(data)\u001b[0m\n\u001b[0;32m      2\u001b[0m \u001b[39mdef\u001b[39;00m \u001b[39mclean_punc\u001b[39m(data):\n\u001b[0;32m      3\u001b[0m     \u001b[39mfor\u001b[39;00m p \u001b[39min\u001b[39;00m punctuation:\n\u001b[1;32m----> 4\u001b[0m         data \u001b[39m=\u001b[39m data\u001b[39m.\u001b[39;49mrepalce(p,\u001b[39m'\u001b[39m\u001b[39m'\u001b[39m)\n\u001b[0;32m      5\u001b[0m         \u001b[39mreturn\u001b[39;00m data\n",
      "\u001b[1;31mAttributeError\u001b[0m: 'str' object has no attribute 'repalce'"
     ]
    }
   ],
   "source": [
    "from string import punctuation\n",
    "def clean_punc(data):\n",
    "    for p in punctuation:\n",
    "        data = data.repalce(p,'')\n",
    "        return data\n",
    "data = '#@h*(*(i^&&*helo*!@John@$!@))'\n",
    "clean_punc(data)"
   ]
  },
  {
   "cell_type": "code",
   "execution_count": null,
   "metadata": {},
   "outputs": [],
   "source": [
    "\n"
   ]
  }
 ],
 "metadata": {
  "kernelspec": {
   "display_name": "base",
   "language": "python",
   "name": "python3"
  },
  "language_info": {
   "codemirror_mode": {
    "name": "ipython",
    "version": 3
   },
   "file_extension": ".py",
   "mimetype": "text/x-python",
   "name": "python",
   "nbconvert_exporter": "python",
   "pygments_lexer": "ipython3",
   "version": "3.10.10"
  },
  "orig_nbformat": 4
 },
 "nbformat": 4,
 "nbformat_minor": 2
}

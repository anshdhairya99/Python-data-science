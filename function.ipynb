{
 "cells": [
  {
   "cell_type": "markdown",
   "metadata": {},
   "source": [
    "# Function's In Python :---"
   ]
  },
  {
   "cell_type": "markdown",
   "metadata": {},
   "source": [
    "- *Syntax* :---\n",
    "\n",
    "- def fun_name([parameters]):\n",
    "   - statement 1\n",
    "   - statement 2\n",
    "- ........\n",
    "   - statement n\n",
    "   - [return value]"
   ]
  },
  {
   "cell_type": "markdown",
   "metadata": {},
   "source": [
    "- Types of user defined functions :-----\n",
    "- 1 Non- parameters non returning function\n",
    "- 2 value returning function\n",
    "- 3 parameterized function\n",
    "-     positional required arguments\n",
    "-      named arguments \n",
    "-     default aguments\n",
    "-      variable arguments\n",
    "-       keyword arguments\n",
    "- 4 parameterzed and value returning function\n",
    "- 5 Lambda functions"
   ]
  },
  {
   "cell_type": "code",
   "execution_count": 1,
   "metadata": {},
   "outputs": [
    {
     "name": "stdout",
     "output_type": "stream",
     "text": [
      "24\n"
     ]
    }
   ],
   "source": [
    "# built in function \n",
    "a = 12\n",
    "b = 12\n",
    "c = sum((a,b))\n",
    "print(c)"
   ]
  },
  {
   "cell_type": "code",
   "execution_count": 52,
   "metadata": {},
   "outputs": [
    {
     "name": "stdout",
     "output_type": "stream",
     "text": [
      "Hello World !!!\n",
      "None\n"
     ]
    }
   ],
   "source": [
    "# User define function\n",
    "def function1():\n",
    "    print(\"Hello World !!!\")\n",
    "print(function1())\n",
    "# None came because of we used the ( print)"
   ]
  },
  {
   "cell_type": "code",
   "execution_count": 54,
   "metadata": {},
   "outputs": [
    {
     "name": "stdout",
     "output_type": "stream",
     "text": [
      "Hello World !!!\n"
     ]
    }
   ],
   "source": [
    "# Not came None \n",
    "function1()"
   ]
  },
  {
   "cell_type": "code",
   "execution_count": 62,
   "metadata": {},
   "outputs": [
    {
     "name": "stdout",
     "output_type": "stream",
     "text": [
      "hello you are in function 1 20\n"
     ]
    }
   ],
   "source": [
    "# print the two number using function :--\n",
    "def function1(a,b):\n",
    "    print(\"hello you are in function 1\", a + b)\n",
    "function1(10, 10)"
   ]
  },
  {
   "cell_type": "code",
   "execution_count": 80,
   "metadata": {},
   "outputs": [
    {
     "name": "stdout",
     "output_type": "stream",
     "text": [
      "12.0\n"
     ]
    },
    {
     "data": {
      "text/plain": [
       "12.0"
      ]
     },
     "execution_count": 80,
     "metadata": {},
     "output_type": "execute_result"
    }
   ],
   "source": [
    "# Average function :-\n",
    "def function2(a, b):\n",
    "    average = (a+b)/2\n",
    "    print(average)\n",
    "    return average # it return also one average value\n",
    "function2(12,12)"
   ]
  },
  {
   "cell_type": "code",
   "execution_count": 1,
   "metadata": {},
   "outputs": [],
   "source": [
    "from random import random"
   ]
  },
  {
   "cell_type": "code",
   "execution_count": 2,
   "metadata": {},
   "outputs": [
    {
     "data": {
      "text/plain": [
       "0.15374120494106125"
      ]
     },
     "execution_count": 2,
     "metadata": {},
     "output_type": "execute_result"
    }
   ],
   "source": [
    "random()"
   ]
  },
  {
   "cell_type": "code",
   "execution_count": 28,
   "metadata": {},
   "outputs": [],
   "source": [
    "def inspireMe():\n",
    "    from random import choice\n",
    "    q = [\n",
    "        'The best way to predict the future to invent it.',\n",
    "        'The man go to the home he eat the item.',\n",
    "        'Hardwork the best',\n",
    "        'Early to beast talent'\n",
    "    ]\n",
    "    return choice(q)\n",
    "    "
   ]
  },
  {
   "cell_type": "code",
   "execution_count": 29,
   "metadata": {},
   "outputs": [
    {
     "data": {
      "text/plain": [
       "'Early to beast talent'"
      ]
     },
     "execution_count": 29,
     "metadata": {},
     "output_type": "execute_result"
    }
   ],
   "source": [
    "inspireMe()"
   ]
  },
  {
   "cell_type": "code",
   "execution_count": 6,
   "metadata": {},
   "outputs": [
    {
     "name": "stdout",
     "output_type": "stream",
     "text": [
      "2\n",
      "2\n",
      "5\n"
     ]
    }
   ],
   "source": [
    "def dicey():\n",
    "    from random import randint\n",
    "    return randint(1,6)\n",
    "print(dicey())\n",
    "print(dicey())\n",
    "print(dicey())"
   ]
  },
  {
   "cell_type": "code",
   "execution_count": 2,
   "metadata": {},
   "outputs": [
    {
     "ename": "NameError",
     "evalue": "name 'dicey' is not defined",
     "output_type": "error",
     "traceback": [
      "\u001b[1;31m---------------------------------------------------------------------------\u001b[0m",
      "\u001b[1;31mNameError\u001b[0m                                 Traceback (most recent call last)",
      "Cell \u001b[1;32mIn[2], line 1\u001b[0m\n\u001b[1;32m----> 1\u001b[0m roll \u001b[39m=\u001b[39m dicey()\n\u001b[0;32m      2\u001b[0m \u001b[39mprint\u001b[39m(roll)\n",
      "\u001b[1;31mNameError\u001b[0m: name 'dicey' is not defined"
     ]
    }
   ],
   "source": [
    "\n",
    "roll = dicey()\n",
    "print(roll)\n"
   ]
  },
  {
   "cell_type": "code",
   "execution_count": 3,
   "metadata": {},
   "outputs": [
    {
     "ename": "NameError",
     "evalue": "name 'dicey' is not defined",
     "output_type": "error",
     "traceback": [
      "\u001b[1;31m---------------------------------------------------------------------------\u001b[0m",
      "\u001b[1;31mNameError\u001b[0m                                 Traceback (most recent call last)",
      "Cell \u001b[1;32mIn[3], line 1\u001b[0m\n\u001b[1;32m----> 1\u001b[0m dicey() \u001b[39m+\u001b[39m dicey() \u001b[39m*\u001b[39m\u001b[39m5\u001b[39m\n",
      "\u001b[1;31mNameError\u001b[0m: name 'dicey' is not defined"
     ]
    }
   ],
   "source": [
    "dicey() + dicey() *5"
   ]
  },
  {
   "cell_type": "code",
   "execution_count": 6,
   "metadata": {},
   "outputs": [
    {
     "name": "stdout",
     "output_type": "stream",
     "text": [
      "not prime\n"
     ]
    }
   ],
   "source": [
    "num = int(input('enter number'))\n",
    "def prime():\n",
    "    for i in range(2,num):\n",
    "        if num%i ==0:\n",
    "            return ('not prime')\n",
    "            break\n",
    "    else:\n",
    "            return('prime')\n",
    "print(prime())\n",
    "    \n",
    "\n"
   ]
  },
  {
   "cell_type": "code",
   "execution_count": 36,
   "metadata": {},
   "outputs": [],
   "source": [
    "num = input('enter number')\n",
    "def is_prime(num):\n",
    "    for i in range(2,num):\n",
    "        if num % i == 0:\n",
    "            return False\n",
    "        return True"
   ]
  },
  {
   "cell_type": "code",
   "execution_count": 37,
   "metadata": {},
   "outputs": [
    {
     "data": {
      "text/plain": [
       "True"
      ]
     },
     "execution_count": 37,
     "metadata": {},
     "output_type": "execute_result"
    }
   ],
   "source": [
    "is_prime(13)"
   ]
  },
  {
   "cell_type": "code",
   "execution_count": 19,
   "metadata": {},
   "outputs": [],
   "source": [
    "# parameterized function\n",
    "def si(p, r, t):\n",
    "    ans = p * r * t /100\n",
    "    print(\"Principle \", p )\n",
    "    print(\"Rate \", r)\n",
    "    print(\"Time \", t)\n",
    "    print(\"simple sentences \", ans)"
   ]
  },
  {
   "cell_type": "code",
   "execution_count": 20,
   "metadata": {},
   "outputs": [
    {
     "name": "stdout",
     "output_type": "stream",
     "text": [
      "Principle  12000\n",
      "Rate  5\n",
      "Time  10\n",
      "simple sentences  6000.0\n"
     ]
    }
   ],
   "source": [
    "si(12000, 5, 10)"
   ]
  },
  {
   "cell_type": "markdown",
   "metadata": {},
   "source": [
    "- Wap to remove all the punctuation from the string provided by the user.\n",
    "\n",
    "- (hints)\n",
    "- from string import punctuation\n",
    "\n"
   ]
  },
  {
   "cell_type": "code",
   "execution_count": 11,
   "metadata": {},
   "outputs": [
    {
     "ename": "AttributeError",
     "evalue": "'str' object has no attribute 'repalce'",
     "output_type": "error",
     "traceback": [
      "\u001b[1;31m---------------------------------------------------------------------------\u001b[0m",
      "\u001b[1;31mAttributeError\u001b[0m                            Traceback (most recent call last)",
      "Cell \u001b[1;32mIn[11], line 7\u001b[0m\n\u001b[0;32m      5\u001b[0m     \u001b[39mreturn\u001b[39;00m data\n\u001b[0;32m      6\u001b[0m data \u001b[39m=\u001b[39m \u001b[39m'\u001b[39m\u001b[39m#@h*(*(i))\u001b[39m\u001b[39m'\u001b[39m\n\u001b[1;32m----> 7\u001b[0m clean_punc(data)\n",
      "Cell \u001b[1;32mIn[11], line 4\u001b[0m, in \u001b[0;36mclean_punc\u001b[1;34m(data)\u001b[0m\n\u001b[0;32m      2\u001b[0m \u001b[39mdef\u001b[39;00m \u001b[39mclean_punc\u001b[39m(data):\n\u001b[0;32m      3\u001b[0m     \u001b[39mfor\u001b[39;00m p \u001b[39min\u001b[39;00m punctuation:\n\u001b[1;32m----> 4\u001b[0m         data \u001b[39m=\u001b[39m data\u001b[39m.\u001b[39;49mrepalce(p,\u001b[39m'\u001b[39m\u001b[39m'\u001b[39m)\n\u001b[0;32m      5\u001b[0m     \u001b[39mreturn\u001b[39;00m data\n",
      "\u001b[1;31mAttributeError\u001b[0m: 'str' object has no attribute 'repalce'"
     ]
    }
   ],
   "source": [
    "from string import punctuation\n",
    "def clean_punc(data):\n",
    "    for p in punctuation:\n",
    "        data = data.repalce(p,'')\n",
    "    return data\n",
    "data = '#@h*(*(i))'\n",
    "clean_punc(data)"
   ]
  },
  {
   "cell_type": "code",
   "execution_count": 5,
   "metadata": {},
   "outputs": [],
   "source": [
    "# the expanded way to write a function\n",
    "def summer(x:int, y:int, z:int) -> int:\n",
    "    '''A function that sum of x, y, z'''\n",
    "    return x + y + z\n"
   ]
  },
  {
   "cell_type": "code",
   "execution_count": 6,
   "metadata": {},
   "outputs": [],
   "source": [
    "\n",
    "def summer(x,y,z):\n",
    "    return x+y+z"
   ]
  },
  {
   "cell_type": "code",
   "execution_count": 7,
   "metadata": {},
   "outputs": [
    {
     "name": "stdout",
     "output_type": "stream",
     "text": [
      "60\n"
     ]
    }
   ],
   "source": [
    "print(summer(10, 20, 30))\n"
   ]
  },
  {
   "cell_type": "code",
   "execution_count": 8,
   "metadata": {},
   "outputs": [
    {
     "name": "stdout",
     "output_type": "stream",
     "text": [
      "60\n"
     ]
    }
   ],
   "source": [
    "print(summer(x = 10, y= 20, z= 30)) # named parameters"
   ]
  },
  {
   "cell_type": "code",
   "execution_count": 13,
   "metadata": {},
   "outputs": [
    {
     "name": "stdout",
     "output_type": "stream",
     "text": [
      "36\n"
     ]
    }
   ],
   "source": [
    "a = int(input(\"enter a value\"))\n",
    "b = int(input(\"enter a value\"))\n",
    "c = int(input(\"enter a value\"))\n",
    "ans = summer(x=a, y=b, z=c)\n",
    "print(ans)"
   ]
  },
  {
   "cell_type": "code",
   "execution_count": 14,
   "metadata": {},
   "outputs": [
    {
     "data": {
      "text/plain": [
       "60"
      ]
     },
     "execution_count": 14,
     "metadata": {},
     "output_type": "execute_result"
    }
   ],
   "source": [
    "summer(y=10,x=20,z=30)"
   ]
  },
  {
   "cell_type": "code",
   "execution_count": 15,
   "metadata": {},
   "outputs": [
    {
     "name": "stdout",
     "output_type": "stream",
     "text": [
      "10\n",
      "20\n",
      "30\n",
      "80000\n"
     ]
    }
   ],
   "source": [
    "def multiplier(a,b=1,c=1,d=1):\n",
    "    return a *b *c *d\n",
    "#multiplier(1, 2, 3, 4)\n",
    "#multiplier(1, 2, 3)\n",
    "print(multiplier(10))\n",
    "print(multiplier(10, b=2))\n",
    "print(multiplier(10, 3))\n",
    "print(multiplier(10, b= 10, c=20, d= 40))"
   ]
  },
  {
   "cell_type": "code",
   "execution_count": 17,
   "metadata": {},
   "outputs": [
    {
     "name": "stdout",
     "output_type": "stream",
     "text": [
      "None\n",
      "10\n",
      "10\n",
      "200\n",
      "30\n"
     ]
    }
   ],
   "source": [
    "# variable arguments\n",
    "\n",
    "def multiplier(*nums):\n",
    "    result = 1\n",
    "    for num in nums:\n",
    "        result *= num\n",
    "        return result\n",
    "# use\n",
    "print(multiplier())\n",
    "print(multiplier(10))\n",
    "print(multiplier(10,20))\n",
    "print(multiplier(200,2,3,4,5,6))\n",
    "print(multiplier(30,2,3,4,5,6,7,8,9))\n"
   ]
  },
  {
   "cell_type": "code",
   "execution_count": 18,
   "metadata": {},
   "outputs": [
    {
     "name": "stdout",
     "output_type": "stream",
     "text": [
      "a this\n",
      "b that\n",
      "c the other\n"
     ]
    }
   ],
   "source": [
    "# variable length  key word arguments\n",
    "def msg(**kwargs):\n",
    "    for k,v in kwargs.items():\n",
    "        print(k,v)\n",
    "msg(a='this',b='that',c='the other')"
   ]
  },
  {
   "cell_type": "code",
   "execution_count": 25,
   "metadata": {},
   "outputs": [
    {
     "data": {
      "text/plain": [
       "'Records saved successfully'"
      ]
     },
     "execution_count": 25,
     "metadata": {},
     "output_type": "execute_result"
    }
   ],
   "source": [
    "# records save in text :--\n",
    "def  student_records(**students):\n",
    "    with open('record.txt','a') as file:\n",
    "        for k,v in students.items():\n",
    "            file.write(f'{k} : {v}\\n')\n",
    "            file.write('\\n')\n",
    "            return 'Records saved successfully'\n",
    "        \n",
    "student_records(\n",
    "    alex = 78,\n",
    "    ansh = 88,\n",
    "    rakesh = 98,\n",
    "    anmol = 90\n",
    "    )"
   ]
  },
  {
   "cell_type": "markdown",
   "metadata": {},
   "source": [
    "- f(x) = x**2 + x*10 + x\n",
    "- g(x, y) = x**y + y**2 + x*y\n",
    "- f(2)\n",
    "- f(3)"
   ]
  },
  {
   "cell_type": "code",
   "execution_count": 20,
   "metadata": {},
   "outputs": [
    {
     "name": "stdout",
     "output_type": "stream",
     "text": [
      "42\n",
      "60\n",
      "80\n",
      "37\n",
      "61\n"
     ]
    }
   ],
   "source": [
    "\n",
    "f = lambda x: x**2 + x*10 + x\n",
    "g = lambda x, y: x**2 + y**2 + x*y\n",
    "print(f(3))\n",
    "print(f(4))\n",
    "print(f(5))\n",
    "print(g(3,4))\n",
    "print(g(4,5))\n"
   ]
  },
  {
   "cell_type": "markdown",
   "metadata": {},
   "source": [
    "- Map\n",
    "- Reduce\n"
   ]
  },
  {
   "cell_type": "code",
   "execution_count": 24,
   "metadata": {},
   "outputs": [
    {
     "name": "stdout",
     "output_type": "stream",
     "text": [
      "[276, 60, 102, 126, 180, 782, 3752]\n"
     ]
    }
   ],
   "source": [
    "# Map\n",
    "data = [12,4,6,7,9,23,56]\n",
    "data2 = list(map(f, data))\n",
    "print(data2)"
   ]
  },
  {
   "cell_type": "code",
   "execution_count": null,
   "metadata": {},
   "outputs": [],
   "source": []
  }
 ],
 "metadata": {
  "kernelspec": {
   "display_name": "base",
   "language": "python",
   "name": "python3"
  },
  "language_info": {
   "codemirror_mode": {
    "name": "ipython",
    "version": 3
   },
   "file_extension": ".py",
   "mimetype": "text/x-python",
   "name": "python",
   "nbconvert_exporter": "python",
   "pygments_lexer": "ipython3",
   "version": "3.10.10"
  },
  "orig_nbformat": 4
 },
 "nbformat": 4,
 "nbformat_minor": 2
}

{
 "cells": [
  {
   "cell_type": "markdown",
   "metadata": {},
   "source": [
    "# file handling :-\n",
    "- open\n",
    "- read\n",
    "- write\n",
    "- append\n",
    "- close\n",
    "  - with keyword is better"
   ]
  },
  {
   "cell_type": "code",
   "execution_count": 40,
   "metadata": {},
   "outputs": [
    {
     "data": {
      "text/plain": [
       "<_io.TextIOWrapper name='t1.py' mode='r' encoding='UTF-8'>"
      ]
     },
     "execution_count": 40,
     "metadata": {},
     "output_type": "execute_result"
    }
   ],
   "source": [
    "# only open  function we cannot open the file :--\n",
    "\n",
    "open('t1.py') # open and load memory"
   ]
  },
  {
   "cell_type": "code",
   "execution_count": 37,
   "metadata": {},
   "outputs": [
    {
     "data": {
      "text/plain": [
       "\"# Turtle program\\nfrom turtle import *\\nspeed('fastest')\\ncolors = ['red','yellow','blue','green','black','pink',]\\npensize(3)\\nfor i in range(100):\\n    #print(i%4,colors[i%4])\\n    pencolor(colors[i%4])\\n    fd(i*2)\\n    lt(60)\\n    circle(i*2,180)\\nmainloop()\\n\""
      ]
     },
     "execution_count": 37,
     "metadata": {},
     "output_type": "execute_result"
    }
   ],
   "source": [
    "open('t3.py').read()\n"
   ]
  },
  {
   "cell_type": "code",
   "execution_count": 42,
   "metadata": {},
   "outputs": [
    {
     "data": {
      "text/plain": [
       "'# Turtle program of circle :-\\nimport turtle \\nturtle.circle(50)\\nturtle.circle(54)\\nturtle.circle(35)\\nturtle.circle(59)\\nturtle.circle(52)\\nturtle.circle(55)\\nturtle.circle(64)\\nturtle.circle(95)\\nturtle.circle(105)\\n \\n'"
      ]
     },
     "execution_count": 42,
     "metadata": {},
     "output_type": "execute_result"
    }
   ],
   "source": [
    "open('t5.py').read()"
   ]
  },
  {
   "cell_type": "code",
   "execution_count": 31,
   "metadata": {},
   "outputs": [
    {
     "data": {
      "text/plain": [
       "'# Turtle program\\nfrom turtle import *\\nspeed(\\'slowest\\')\\npencolor(\\'red\\')\\npensize(3)\\n#speed(\\'fast\\')\\npencolor(\\'red\\')\\n# range(stop)\\n# range(start,stop)\\n# range(start,stop,step)\\nfor m in range(6):\\n for m in range(6,16,5):\\n    fd(120)\\n    lt(360/6)\\n    dot(10,\\'green\\')\\n    write(m,font=(\\'Calibri\\',20,\\'bold\\'))\\n    # reverse\\n    goto(100,100)\\n    for i in range(10,0,-1):\\n       fd(60)\\n       lt(360/10)\\n    dot(20,\\'red\\')\\n    write(i,font=(\\'Calibri\\',20,\\'bold\\'))\\n\\n\"\"\"fd(100)\\nrt(72)\\nfd(100)\\nrt(72)\\nfd(100)\\nrt(72)\\nfd(100)\\nrt(72)\"\"\"\\n\\n\"\"\"fd(100)\\nrt(120)\\nfd(100)\\nrt(120)\\nfd(120)\\nrt(120)\"\"\"\\n\"\"\"fd(100)\\nrt(90)\\nfd(100)\\nrt(90)\"\"\"\\n\"\"\"fd(100)\\nrt(90)\\nfd(100)\\nrt(90)\\nfd(100)\\nrt(90)\\nfd(100)\\nrt(90)\"\"\"\\nmainloop()'"
      ]
     },
     "execution_count": 31,
     "metadata": {},
     "output_type": "execute_result"
    }
   ],
   "source": [
    "open('t1.py').read()"
   ]
  },
  {
   "cell_type": "code",
   "execution_count": 5,
   "metadata": {},
   "outputs": [
    {
     "name": "stdout",
     "output_type": "stream",
     "text": [
      "# Turtle program\n",
      "from turtle import *\n",
      "speed('slowest')\n",
      "pencolor('red')\n",
      "pensize(3)\n",
      "#speed('fast')\n",
      "pencolor('red')\n",
      "# range(stop)\n",
      "# range(start,stop)\n",
      "# range(start,stop,step)\n",
      "for m in range(6):\n",
      " for m in range(6,16,5):\n",
      "    fd(120)\n",
      "    lt(360/6)\n",
      "    dot(10,'green')\n",
      "    write(m,font=('Calibri',20,'bold'))\n",
      "    # reverse\n",
      "    goto(100,100)\n",
      "    for i in range(10,0,-1):\n",
      "       fd(60)\n",
      "       lt(360/10)\n",
      "    dot(20,'red')\n",
      "    write(i,font=('Calibri',20,'bold'))\n",
      "\n",
      "\"\"\"fd(100)\n",
      "rt(72)\n",
      "fd(100)\n",
      "rt(72)\n",
      "fd(100)\n",
      "rt(72)\n",
      "fd(100)\n",
      "rt(72)\"\"\"\n",
      "\n",
      "\"\"\"fd(100)\n",
      "rt(120)\n",
      "fd(100)\n",
      "rt(120)\n",
      "fd(120)\n",
      "rt(120)\"\"\"\n",
      "\"\"\"fd(100)\n",
      "rt(90)\n",
      "fd(100)\n",
      "rt(90)\"\"\"\n",
      "\"\"\"fd(100)\n",
      "rt(90)\n",
      "fd(100)\n",
      "rt(90)\n",
      "fd(100)\n",
      "rt(90)\n",
      "fd(100)\n",
      "rt(90)\"\"\"\n",
      "mainloop()\n"
     ]
    }
   ],
   "source": [
    "# reading a file using with statement\n",
    "with open('t1.py') as file:\n",
    "    content = file.read()\n",
    "    print(content)\n",
    "\n"
   ]
  },
  {
   "cell_type": "code",
   "execution_count": 43,
   "metadata": {},
   "outputs": [
    {
     "name": "stdout",
     "output_type": "stream",
     "text": [
      "# Python program to draw hexagon\n",
      "# using Turtle Programming\n",
      "\n",
      "import turtle\n",
      "polygon = turtle.Turtle()\n",
      "\n",
      "num_sides = 6\n",
      "side_length = 70\n",
      "angle = 360.0 / num_sides\n",
      "\n",
      "for i in range(num_sides):\n",
      "\tpolygon.forward(side_length)\n",
      "\tpolygon.right(angle)\n",
      "\t\n",
      "turtle.done()\n"
     ]
    }
   ],
   "source": [
    "with open('t9.py') as file:\n",
    "    ansh = file.read()\n",
    "    print(ansh)"
   ]
  },
  {
   "cell_type": "code",
   "execution_count": 47,
   "metadata": {},
   "outputs": [
    {
     "name": "stdout",
     "output_type": "stream",
     "text": [
      "print('hello World🌎')\n"
     ]
    }
   ],
   "source": [
    "with open('hello.py') as file:\n",
    "    a = file.read()\n",
    "    print(a)"
   ]
  },
  {
   "cell_type": "code",
   "execution_count": 51,
   "metadata": {},
   "outputs": [
    {
     "name": "stdout",
     "output_type": "stream",
     "text": [
      "# Turtle program\n",
      "from turtle import *\n",
      "speed('slowest')\n",
      "pencolor('red')\n",
      "pensize(3)\n",
      "#speed('fast')\n",
      "pencolor('red')\n",
      "# range(stop)\n",
      "# range(start,stop)\n",
      "# range(start,stop,step)\n",
      "for m in range(6):\n",
      " for m in range(6,16,5):\n",
      "    fd(120)\n",
      "    lt(360/6)\n",
      "    dot(10,'green')\n",
      "    write(m,font=('Calibri',20,'bold'))\n",
      "    # reverse\n",
      "    goto(100,100)\n",
      "    for i in range(10,0,-1):\n",
      "       fd(60)\n",
      "       lt(360/10)\n",
      "    dot(20,'red')\n",
      "    write(i,font=('Calibri',20,'bold'))\n",
      "\n",
      "\"\"\"fd(100)\n",
      "rt(72)\n",
      "fd(100)\n",
      "rt(72)\n",
      "fd(100)\n",
      "rt(72)\n",
      "fd(100)\n",
      "rt(72)\"\"\"\n",
      "\n",
      "\"\"\"fd(100)\n",
      "rt(120)\n",
      "fd(100)\n",
      "rt(120)\n",
      "fd(120)\n",
      "rt(120)\"\"\"\n",
      "\"\"\"fd(100)\n",
      "rt(90)\n",
      "fd(100)\n",
      "rt(90)\"\"\"\n",
      "\"\"\"fd(100)\n",
      "rt(90)\n",
      "fd(100)\n",
      "rt(90)\n",
      "fd(100)\n",
      "rt(90)\n",
      "fd(100)\n",
      "rt(90)\"\"\"\n",
      "mainloop()\n"
     ]
    }
   ],
   "source": [
    "# reading a file using with statement\n",
    "with open('t1.py',encoding='utf-8') as file: # if the file gived the error then used it (encoding ------------etc )\n",
    "    content = file.read()\n",
    "    print(content)\n",
    "\n"
   ]
  },
  {
   "cell_type": "code",
   "execution_count": 7,
   "metadata": {},
   "outputs": [
    {
     "name": "stdout",
     "output_type": "stream",
     "text": [
      "# Turtle program\n",
      "from turtle import *\n",
      "speed('slowest')\n",
      "pencolor('red')\n",
      "pensize(3)\n",
      "#speed('fast')\n",
      "pencolor('red')\n",
      "# range(stop)\n",
      "# range(start,stop)\n",
      "# range(start,stop,step)\n",
      "for m in range(6):\n",
      " for m in range(6,16,5):\n",
      "    fd(120)\n",
      "    lt(360/6)\n",
      "    dot(10,'green')\n",
      "    write(m,font=('Calibri',20,'bold'))\n",
      "    # reverse\n",
      "    goto(100,100)\n",
      "    for i in range(10,0,-1):\n",
      "       fd(60)\n",
      "       lt(360/10)\n",
      "    dot(20,'red')\n",
      "    write(i,font=('Calibri',20,'bold'))\n",
      "\n",
      "\"\"\"fd(100)\n",
      "rt(72)\n",
      "fd(100)\n",
      "rt(72)\n",
      "fd(100)\n",
      "rt(72)\n",
      "fd(100)\n",
      "rt(72)\"\"\"\n",
      "\n",
      "\"\"\"fd(100)\n",
      "rt(120)\n",
      "fd(100)\n",
      "rt(120)\n",
      "fd(120)\n",
      "rt(120)\"\"\"\n",
      "\"\"\"fd(100)\n",
      "rt(90)\n",
      "fd(100)\n",
      "rt(90)\"\"\"\n",
      "\"\"\"fd(100)\n",
      "rt(90)\n",
      "fd(100)\n",
      "rt(90)\n",
      "fd(100)\n",
      "rt(90)\n",
      "fd(100)\n",
      "rt(90)\"\"\"\n",
      "mainloop()\n"
     ]
    }
   ],
   "source": [
    "# reading a file using with statement\n",
    "with open('t1.py',encoding = 'utf-8',errors = 'ignore') as file: # when came error  then used encoding \n",
    "    content = file.read()\n",
    "    print(content)\n",
    "\n"
   ]
  },
  {
   "cell_type": "code",
   "execution_count": 3,
   "metadata": {},
   "outputs": [
    {
     "name": "stdout",
     "output_type": "stream",
     "text": [
      "# while Loops:--\n",
      "from turtle import *\n",
      "\n",
      "speed('fastest')\n",
      "pencolor('Blue')\n",
      "bgcolor('#303030')\n",
      "pensize(3)\n",
      "\n",
      "i = 200\n",
      "while i > 0:\n",
      "    fd(i)\n",
      "    lt(180)\n",
      "    i -=4\n",
      "    dot(10,'red')\n",
      "    write(i, font=('Calibri', 14, 'bold'))\n",
      "\n",
      "\n",
      "    mainloop()\n"
     ]
    }
   ],
   "source": [
    "with open('t2.py') as file:\n",
    "    content = file.read() \n",
    "print(content)"
   ]
  },
  {
   "cell_type": "code",
   "execution_count": 4,
   "metadata": {},
   "outputs": [
    {
     "name": "stdout",
     "output_type": "stream",
     "text": [
      "# Python program to draw hexagon\n",
      "# using Turtle Programming\n",
      "\n",
      "import turtle\n",
      "polygon = turtle.Turtle()\n",
      "\n",
      "num_sides = 6\n",
      "side_length = 70\n",
      "angle = 360.0 / num_sides\n",
      "\n",
      "for i in range(num_sides):\n",
      "\tpolygon.forward(side_length)\n",
      "\tpolygon.right(angle)\n",
      "\t\n",
      "turtle.done()\n"
     ]
    }
   ],
   "source": [
    "# reading a file using with statement\n",
    "with open('t9.py',encoding='UTF-8',errors='ignores')as file:\n",
    "   content = file.read()\n",
    "print(content)\n",
    "\n"
   ]
  },
  {
   "cell_type": "code",
   "execution_count": 6,
   "metadata": {},
   "outputs": [
    {
     "name": "stdout",
     "output_type": "stream",
     "text": [
      "8146\n"
     ]
    }
   ],
   "source": [
    "# OPEN THE FILE IN READ BINARY MODE :---\n",
    "path = r'C:\\Users\\Dell\\Desktop\\AI wallpaper\\download.jfif'\n",
    "with open(path,'rb') as file:\n",
    "    bytes = file.read()\n",
    "    print(len(bytes))\n",
    "\n",
    "\n",
    "\n"
   ]
  },
  {
   "cell_type": "code",
   "execution_count": 9,
   "metadata": {},
   "outputs": [
    {
     "name": "stdout",
     "output_type": "stream",
     "text": [
      "446899\n"
     ]
    }
   ],
   "source": [
    "# OPEN THE FILE IN READ BINARY MODE :---\n",
    "path = r'C:\\Users\\Dell\\Downloads\\wallpaperflare.com_wallpaper (1).jpg'\n",
    "with open(path,'rb') as file:\n",
    "    bytes = file.read()\n",
    "    print(len(bytes))"
   ]
  },
  {
   "cell_type": "code",
   "execution_count": 11,
   "metadata": {},
   "outputs": [
    {
     "name": "stdout",
     "output_type": "stream",
     "text": [
      "✅File created successfully\n"
     ]
    }
   ],
   "source": [
    "# creating a text file\n",
    "data = 'Life Before Death\\n Strength Before Weakness\\n Journey Before Destination'\n",
    "# 'w' is the write mode\n",
    "with open('oaths.txt','w') as file:\n",
    "    file.write(data)\n",
    "    print('✅File created successfully')\n"
   ]
  },
  {
   "cell_type": "code",
   "execution_count": 12,
   "metadata": {},
   "outputs": [
    {
     "name": "stdout",
     "output_type": "stream",
     "text": [
      "❌❌❌Kahani khatam\n"
     ]
    }
   ],
   "source": [
    "with open('kahani.txt','w') as file:\n",
    "    while True:\n",
    "        line = input('>>>')\n",
    "        if not line:\n",
    "            break\n",
    "        file.write(line + '\\n')\n",
    "    print('❌❌❌Kahani khatam')\n",
    "\n"
   ]
  },
  {
   "cell_type": "code",
   "execution_count": 22,
   "metadata": {},
   "outputs": [
    {
     "name": "stdout",
     "output_type": "stream",
     "text": [
      "file updated successfully\n"
     ]
    }
   ],
   "source": [
    "# adding content to existing file\n",
    "with open('oaths.txt','a') as file:\n",
    "    file.write('\\nThe first ideal of the night')\n",
    "    file.write('The monday is food time')\n",
    "    print('file updated successfully')\n"
   ]
  },
  {
   "cell_type": "markdown",
   "metadata": {},
   "source": [
    "os library"
   ]
  },
  {
   "cell_type": "code",
   "execution_count": 22,
   "metadata": {},
   "outputs": [],
   "source": [
    "import os"
   ]
  },
  {
   "cell_type": "code",
   "execution_count": 34,
   "metadata": {},
   "outputs": [
    {
     "name": "stdout",
     "output_type": "stream",
     "text": [
      "the current path is: \n",
      "d:\\Python data science\n"
     ]
    }
   ],
   "source": [
    "print(\"the current path is: \")\n",
    "print(os.getcwd()) # it is give the text link\n"
   ]
  },
  {
   "cell_type": "code",
   "execution_count": 35,
   "metadata": {},
   "outputs": [
    {
     "name": "stdout",
     "output_type": "stream",
     "text": [
      "All the content in current directory:\n"
     ]
    },
    {
     "data": {
      "text/plain": [
       "['.git',\n",
       " 'basics.ipynb',\n",
       " 'condition.ipynb',\n",
       " 'dictionary.ipynb',\n",
       " 'file handling.ipynb',\n",
       " 'hello.py',\n",
       " 'kahani.txt',\n",
       " 'list.ipynb',\n",
       " 'loops.ipynb',\n",
       " 'oaths.txt',\n",
       " 'Strings.ipynb',\n",
       " 'StringsQuestion.ipynb',\n",
       " 't1.py',\n",
       " 't10.py',\n",
       " 't2.py',\n",
       " 't3.py',\n",
       " 't4.py',\n",
       " 't5.py',\n",
       " 't6.py',\n",
       " 't7.py',\n",
       " 't8.py',\n",
       " 't9.py',\n",
       " 'tuples_n_sets.ipynb']"
      ]
     },
     "execution_count": 35,
     "metadata": {},
     "output_type": "execute_result"
    }
   ],
   "source": [
    "print('All the content in current directory:')\n",
    "os.listdir()"
   ]
  },
  {
   "cell_type": "code",
   "execution_count": 25,
   "metadata": {},
   "outputs": [
    {
     "name": "stdout",
     "output_type": "stream",
     "text": [
      "All the content of some other location\n"
     ]
    },
    {
     "data": {
      "text/plain": [
       "['addins',\n",
       " 'appcompat',\n",
       " 'apppatch',\n",
       " 'AppReadiness',\n",
       " 'assembly',\n",
       " 'bcastdvr',\n",
       " 'bfsvc.exe',\n",
       " 'Boot',\n",
       " 'bootstat.dat',\n",
       " 'Branding',\n",
       " 'CbsTemp',\n",
       " 'Containers',\n",
       " 'Core.xml',\n",
       " 'CoreSingleLanguage.xml',\n",
       " 'Cursors',\n",
       " 'debug',\n",
       " 'diagnostics',\n",
       " 'DiagTrack',\n",
       " 'DigitalLocker',\n",
       " 'Downloaded Program Files',\n",
       " 'DtcInstall.log',\n",
       " 'ELAMBKUP',\n",
       " 'en-US',\n",
       " 'explorer.exe',\n",
       " 'Firmware',\n",
       " 'Fonts',\n",
       " 'GameBarPresenceWriter',\n",
       " 'Globalization',\n",
       " 'Help',\n",
       " 'HelpPane.exe',\n",
       " 'hh.exe',\n",
       " 'IdentityCRL',\n",
       " 'IME',\n",
       " 'ImmersiveControlPanel',\n",
       " 'INF',\n",
       " 'InputMethod',\n",
       " 'Installer',\n",
       " 'L2Schemas',\n",
       " 'LanguageOverlayCache',\n",
       " 'LiveKernelReports',\n",
       " 'Logs',\n",
       " 'lsasetup.log',\n",
       " 'Media',\n",
       " 'mib.bin',\n",
       " 'Microsoft.NET',\n",
       " 'Migration',\n",
       " 'ModemLogs',\n",
       " 'notepad.exe',\n",
       " 'OCR',\n",
       " 'Offline Web Pages',\n",
       " 'Panther',\n",
       " 'PCHEALTH',\n",
       " 'Performance',\n",
       " 'PFRO.log',\n",
       " 'PLA',\n",
       " 'PolicyDefinitions',\n",
       " 'Prefetch',\n",
       " 'PrintDialog',\n",
       " 'Provisioning',\n",
       " 'regedit.exe',\n",
       " 'Registration',\n",
       " 'rescache',\n",
       " 'Resources',\n",
       " 'RtCRU64.exe',\n",
       " 'SchCache',\n",
       " 'schemas',\n",
       " 'security',\n",
       " 'ServiceProfiles',\n",
       " 'ServiceState',\n",
       " 'servicing',\n",
       " 'Setup',\n",
       " 'setupact.log',\n",
       " 'setuperr.log',\n",
       " 'ShellComponents',\n",
       " 'ShellExperiences',\n",
       " 'SHELLNEW',\n",
       " 'SKB',\n",
       " 'SoftwareDistribution',\n",
       " 'Speech',\n",
       " 'Speech_OneCore',\n",
       " 'splwow64.exe',\n",
       " 'Synaptics.log',\n",
       " 'Synaptics.PD.log',\n",
       " 'System',\n",
       " 'system.ini',\n",
       " 'System32',\n",
       " 'SystemApps',\n",
       " 'SystemResources',\n",
       " 'SystemTemp',\n",
       " 'SysWOW64',\n",
       " 'TAPI',\n",
       " 'Tasks',\n",
       " 'Temp',\n",
       " 'tracing',\n",
       " 'twain_32',\n",
       " 'twain_32.dll',\n",
       " 'Vss',\n",
       " 'WaaS',\n",
       " 'Web',\n",
       " 'win.ini',\n",
       " 'WindowsShell.Manifest',\n",
       " 'WindowsUpdate.log',\n",
       " 'winhlp32.exe',\n",
       " 'WinSxS',\n",
       " 'WMSysPr9.prx',\n",
       " 'write.exe']"
      ]
     },
     "execution_count": 25,
     "metadata": {},
     "output_type": "execute_result"
    }
   ],
   "source": [
    "print('All the content of some other location')\n",
    "path = 'C:\\Windows/'\n",
    "os.listdir(path) "
   ]
  },
  {
   "cell_type": "code",
   "execution_count": 24,
   "metadata": {},
   "outputs": [
    {
     "name": "stdout",
     "output_type": "stream",
     "text": [
      "C:/$Recycle.Bin/S-1-5-21-1373531526-4180474893-3852016417-1001\\$I4SA75Q.mp4\n",
      "C:/$Recycle.Bin/S-1-5-21-1373531526-4180474893-3852016417-1001\\$IESDX4X.lnk\n",
      "C:/$Recycle.Bin/S-1-5-21-1373531526-4180474893-3852016417-1001\\$IJBEO0V.lnk\n",
      "C:/$Recycle.Bin/S-1-5-21-1373531526-4180474893-3852016417-1001\\$IQL5QA6.lnk\n",
      "C:/$Recycle.Bin/S-1-5-21-1373531526-4180474893-3852016417-1001\\desktop.ini\n"
     ]
    }
   ],
   "source": [
    "# recursive file and folder\n",
    "for root, dirs,files in os.walk('C:/$Recycle.Bin/',topdown=False):\n",
    "    for name in files:\n",
    "        print(os.path.join(root,name))\n",
    "        for name in dirs:\n",
    "            print(os.path.join(root,name))\n"
   ]
  },
  {
   "cell_type": "code",
   "execution_count": null,
   "metadata": {},
   "outputs": [],
   "source": []
  }
 ],
 "metadata": {
  "kernelspec": {
   "display_name": "base",
   "language": "python",
   "name": "python3"
  },
  "language_info": {
   "codemirror_mode": {
    "name": "ipython",
    "version": 3
   },
   "file_extension": ".py",
   "mimetype": "text/x-python",
   "name": "python",
   "nbconvert_exporter": "python",
   "pygments_lexer": "ipython3",
   "version": "3.10.10"
  },
  "orig_nbformat": 4
 },
 "nbformat": 4,
 "nbformat_minor": 2
}

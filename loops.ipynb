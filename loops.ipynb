{
 "cells": [
  {
   "cell_type": "markdown",
   "metadata": {},
   "source": [
    "- For Loops:---"
   ]
  },
  {
   "cell_type": "markdown",
   "metadata": {},
   "source": [
    "- For temp-var in interable:\n",
    " - statement 1\n",
    "- ......\n",
    "- statement n\n",
    "- iterables are string, \n",
    "- list,\n",
    "- tuple,\n",
    "- set,\n",
    "- dict,\n",
    "- generators,\n",
    "- etc"
   ]
  },
  {
   "cell_type": "code",
   "execution_count": 1,
   "metadata": {},
   "outputs": [
    {
     "name": "stdout",
     "output_type": "stream",
     "text": [
      "1\n",
      "23\n",
      "4\n",
      "55\n",
      "66\n",
      "778\n",
      "88\n",
      "98\n",
      "100\n"
     ]
    }
   ],
   "source": [
    "nums= [1,23,4,55,66,778,88,98,100]\n",
    "for i in nums:\n",
    "    print(i)"
   ]
  },
  {
   "cell_type": "code",
   "execution_count": 2,
   "metadata": {},
   "outputs": [
    {
     "name": "stdout",
     "output_type": "stream",
     "text": [
      "1\n",
      "529\n",
      "1089\n",
      "1936\n",
      "2025\n",
      "3136\n",
      "4225\n",
      "5929\n"
     ]
    }
   ],
   "source": [
    "nums = [1,23,33,44,45,56,65,77]\n",
    "for i in nums:\n",
    "    print(i**2)"
   ]
  },
  {
   "cell_type": "code",
   "execution_count": 3,
   "metadata": {},
   "outputs": [
    {
     "name": "stdout",
     "output_type": "stream",
     "text": [
      "79\n",
      "79\n",
      "79\n",
      "79\n",
      "79\n",
      "79\n",
      "79\n",
      "79\n"
     ]
    }
   ],
   "source": [
    "nums = [11,22,32,34,200,400,123,340]\n",
    "for m in nums:\n",
    "    print(i+2)"
   ]
  },
  {
   "cell_type": "code",
   "execution_count": 6,
   "metadata": {},
   "outputs": [
    {
     "name": "stdout",
     "output_type": "stream",
     "text": [
      "144\n",
      "529\n",
      "1156\n",
      "1156\n"
     ]
    }
   ],
   "source": [
    "nums = [12,23,34,34]\n",
    "for nums in nums:\n",
    "    print(nums**2)"
   ]
  },
  {
   "cell_type": "markdown",
   "metadata": {},
   "source": [
    "- Enumerate\n",
    "- Zip"
   ]
  },
  {
   "cell_type": "code",
   "execution_count": 14,
   "metadata": {},
   "outputs": [
    {
     "name": "stdout",
     "output_type": "stream",
     "text": [
      "['Ansh', 'John', 'Jack'] 0\n",
      "['Ansh', 'John', 'Jack'] 1\n",
      "['Ansh', 'John', 'Jack'] 2\n"
     ]
    }
   ],
   "source": [
    "names = ['Ansh','John','Jack']\n",
    "for i, name in enumerate(names):\n",
    "    print(names,i)\n",
    "   \n"
   ]
  },
  {
   "cell_type": "code",
   "execution_count": 10,
   "metadata": {},
   "outputs": [
    {
     "name": "stdout",
     "output_type": "stream",
     "text": [
      "k 0\n"
     ]
    }
   ],
   "source": [
    "names = ['Ram','Anmol','Santo']\n",
    "for idx,name in enumerate(name):\n",
    "    print(name,idx)"
   ]
  },
  {
   "cell_type": "markdown",
   "metadata": {},
   "source": [
    "- Zip \n"
   ]
  },
  {
   "cell_type": "code",
   "execution_count": 11,
   "metadata": {},
   "outputs": [
    {
     "name": "stdout",
     "output_type": "stream",
     "text": [
      "103\n",
      "113\n",
      "31\n",
      "463\n",
      "5973\n"
     ]
    }
   ],
   "source": [
    "x = [2,3,4,5,67]\n",
    "y = [2,5,6,77,88]\n",
    "z = [99,98,7,78,77]\n",
    "for i,j,k in zip(x,y,z):\n",
    "   print(i*j+k)"
   ]
  },
  {
   "cell_type": "code",
   "execution_count": 11,
   "metadata": {},
   "outputs": [
    {
     "name": "stdout",
     "output_type": "stream",
     "text": [
      "Intersteller        9.0✨✨\n",
      "Gravity             7.0✨✨\n",
      "The Martin          8.0✨✨\n"
     ]
    }
   ],
   "source": [
    "movies = ['Intersteller','Gravity','The Martin']\n",
    "rating = [9.0,7.0,8.0]\n",
    "for name, star in zip(movies, rating):\n",
    "   print(f'{name:20}{star}✨✨')\n"
   ]
  },
  {
   "cell_type": "markdown",
   "metadata": {},
   "source": [
    "- For loop Question"
   ]
  },
  {
   "cell_type": "code",
   "execution_count": 15,
   "metadata": {},
   "outputs": [
    {
     "name": "stdout",
     "output_type": "stream",
     "text": [
      "['David', 'Riyan', 'Monte']\n",
      "['David', 'Riyan', 'Monte']\n",
      "['David', 'Riyan', 'Monte']\n"
     ]
    }
   ],
   "source": [
    "nums = [\"David\",\"Riyan\",\"Monte\"]\n",
    "for num in nums:\n",
    "    print(nums)\n"
   ]
  },
  {
   "cell_type": "code",
   "execution_count": null,
   "metadata": {},
   "outputs": [],
   "source": []
  }
 ],
 "metadata": {
  "kernelspec": {
   "display_name": "base",
   "language": "python",
   "name": "python3"
  },
  "language_info": {
   "codemirror_mode": {
    "name": "ipython",
    "version": 3
   },
   "file_extension": ".py",
   "mimetype": "text/x-python",
   "name": "python",
   "nbconvert_exporter": "python",
   "pygments_lexer": "ipython3",
   "version": "3.10.10"
  },
  "orig_nbformat": 4
 },
 "nbformat": 4,
 "nbformat_minor": 2
}

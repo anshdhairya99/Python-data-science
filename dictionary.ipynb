{
 "cells": [
  {
   "cell_type": "markdown",
   "metadata": {},
   "source": [
    "- Dictionary :---"
   ]
  },
  {
   "cell_type": "code",
   "execution_count": 1,
   "metadata": {},
   "outputs": [
    {
     "name": "stdout",
     "output_type": "stream",
     "text": [
      "{'Hindi': 56, 'English': 23, 'Physics': 45, 'Chemistry': 70, 'Maths': 12}\n"
     ]
    }
   ],
   "source": [
    "\n",
    "raju = [56,23,45,70,12]\n",
    "\n",
    "raju_dict = {\n",
    "    'Hindi':56,\n",
    "    'English':23,\n",
    "    'Physics':45,\n",
    "    'Chemistry':70,\n",
    "    'Maths':12\n",
    "}\n",
    "print(raju_dict)"
   ]
  },
  {
   "cell_type": "code",
   "execution_count": 1,
   "metadata": {},
   "outputs": [],
   "source": [
    "company = {\n",
    "    'emp001':\n",
    "    {\n",
    "        'name':\"John\",\n",
    "        'destination':\"Lko\",\n",
    "        'salary':\"30000\"\n",
    "    },\n",
    "    'emp002':\n",
    "    {\n",
    "    'name':\"Daivik\",\n",
    "    'destination':\"Mumbai\",\n",
    "    'salary':\"23000\"\n",
    "},\n",
    "'toatl_emp': 2,\n",
    "'department':'Accounts',\n",
    "'vacany':['clerk','manager','assistant I']\n",
    "}\n",
    "\n"
   ]
  },
  {
   "cell_type": "code",
   "execution_count": 3,
   "metadata": {},
   "outputs": [
    {
     "name": "stdout",
     "output_type": "stream",
     "text": [
      "{'emp001': {'name': 'John', 'destination': 'Lko', 'salary': '30000'}, 'emp002': {'name': 'Daivik', 'destination': 'Mumbai', 'salary': '23000'}, 'toatl_emp': 2, 'department': 'Accounts', 'vacany': ['clerk', 'manager', 'assistant I'], 'name': 'Acme inc'}\n"
     ]
    }
   ],
   "source": [
    "company['name'] = 'Acme inc' # adding a key and value to dict\n",
    "print(company)"
   ]
  },
  {
   "cell_type": "code",
   "execution_count": 5,
   "metadata": {},
   "outputs": [],
   "source": [
    "company['total_emp'] = 3\n",
    "company['emp003'] = {\n",
    "    'name' : 'Ajay verma',\n",
    "    'designation': 'clerk',\n",
    "    'salary': 45000\n",
    "}"
   ]
  },
  {
   "cell_type": "code",
   "execution_count": 6,
   "metadata": {},
   "outputs": [],
   "source": [
    "# company['emp001']\n",
    "company.get('website') "
   ]
  },
  {
   "cell_type": "code",
   "execution_count": 7,
   "metadata": {},
   "outputs": [],
   "source": [
    "if 'name' in company:\n",
    "    print('name exists in dict')"
   ]
  },
  {
   "cell_type": "code",
   "execution_count": 7,
   "metadata": {},
   "outputs": [
    {
     "name": "stdout",
     "output_type": "stream",
     "text": [
      "dict_keys(['emp001', 'emp002', 'toatl_emp', 'department', 'vacany', 'name', 'total_emp', 'emp003'])\n",
      "dict_values([{'name': 'John', 'destination': 'Lko', 'salary': '30000'}, {'name': 'Daivik', 'destination': 'Mumbai', 'salary': '23000'}, 2, 'Accounts', ['clerk', 'manager', 'assistant I'], 'Acme inc', 3, {'name': 'Ajay verma', 'designation': 'clerk', 'salary': 45000}])\n"
     ]
    }
   ],
   "source": [
    "print(company.keys()) # find the key\n",
    "print(company.values()) # find the value"
   ]
  },
  {
   "cell_type": "code",
   "execution_count": 8,
   "metadata": {},
   "outputs": [
    {
     "name": "stdout",
     "output_type": "stream",
     "text": [
      "dict_items([('emp001', {'name': 'John', 'destination': 'Lko', 'salary': '30000'}), ('emp002', {'name': 'Daivik', 'destination': 'Mumbai', 'salary': '23000'}), ('toatl_emp', 2), ('department', 'Accounts'), ('vacany', ['clerk', 'manager', 'assistant I']), ('name', 'Acme inc'), ('total_emp', 3), ('emp003', {'name': 'Ajay verma', 'designation': 'clerk', 'salary': 45000})])\n"
     ]
    }
   ],
   "source": [
    "print(company.items()) # find the items key"
   ]
  },
  {
   "cell_type": "code",
   "execution_count": 9,
   "metadata": {},
   "outputs": [
    {
     "name": "stdout",
     "output_type": "stream",
     "text": [
      "{'name': 'John', 'destination': 'Lko', 'salary': '30000'}\n",
      "{'name': 'Daivik', 'destination': 'Mumbai', 'salary': '23000'}\n",
      "2\n",
      "Accounts\n",
      "['clerk', 'manager', 'assistant I']\n",
      "Acme inc\n",
      "3\n",
      "{'name': 'Ajay verma', 'designation': 'clerk', 'salary': 45000}\n"
     ]
    }
   ],
   "source": [
    "for i in company:\n",
    "    print(company[i])\n",
    "    "
   ]
  },
  {
   "cell_type": "code",
   "execution_count": 10,
   "metadata": {},
   "outputs": [
    {
     "name": "stdout",
     "output_type": "stream",
     "text": [
      "emp001 {'name': 'John', 'destination': 'Lko', 'salary': '30000'}\n",
      "emp002 {'name': 'Daivik', 'destination': 'Mumbai', 'salary': '23000'}\n",
      "toatl_emp 2\n",
      "department Accounts\n",
      "vacany ['clerk', 'manager', 'assistant I']\n",
      "name Acme inc\n",
      "total_emp 3\n",
      "emp003 {'name': 'Ajay verma', 'designation': 'clerk', 'salary': 45000}\n"
     ]
    }
   ],
   "source": [
    "for k, v in company.items(): # to find the key and value\n",
    "    print(k,v)"
   ]
  },
  {
   "cell_type": "code",
   "execution_count": 4,
   "metadata": {},
   "outputs": [
    {
     "name": "stdout",
     "output_type": "stream",
     "text": [
      "emp001\n",
      "---> name John\n",
      "---> destination Lko\n",
      "---> salary 30000\n",
      "emp002\n",
      "---> name Daivik\n",
      "---> destination Mumbai\n",
      "---> salary 23000\n",
      "toatl_emp 2\n",
      "department Accounts\n",
      "vacany ['clerk', 'manager', 'assistant I']\n",
      "total_emp 3\n",
      "emp003\n",
      "---> name Ajay verma\n",
      "---> designation clerk\n",
      "---> salary 45000\n"
     ]
    }
   ],
   "source": [
    "for k,v in company.items():\n",
    "    if isinstance(v,dict):\n",
    "        print(k)\n",
    "        for key, value in v.items():\n",
    "            print(\"--->\",key,value)\n",
    "    else:\n",
    "            print(k,v)"
   ]
  },
  {
   "cell_type": "code",
   "execution_count": 1,
   "metadata": {},
   "outputs": [
    {
     "name": "stdout",
     "output_type": "stream",
     "text": [
      "{'ginger': [1], 'chili': [2], 'brinjal': [3], 'mango': [4], 'apple': [5]}\n"
     ]
    }
   ],
   "source": [
    "# wap to create a dict which take user input and price a items. \n",
    "dict = input('enter the user input')\n",
    "grocery = {\n",
    "    'ginger':[1],\n",
    "    'chili':[2],\n",
    "    'brinjal':[3],\n",
    "    'mango':[4],\n",
    "    'apple':[5],\n",
    "}\n",
    "print(grocery)\n",
    "\n",
    "\n",
    "\n",
    "\n",
    "\n",
    "\n",
    "\n",
    "\n",
    "\n"
   ]
  },
  {
   "cell_type": "code",
   "execution_count": null,
   "metadata": {},
   "outputs": [],
   "source": []
  }
 ],
 "metadata": {
  "kernelspec": {
   "display_name": "base",
   "language": "python",
   "name": "python3"
  },
  "language_info": {
   "codemirror_mode": {
    "name": "ipython",
    "version": 3
   },
   "file_extension": ".py",
   "mimetype": "text/x-python",
   "name": "python",
   "nbconvert_exporter": "python",
   "pygments_lexer": "ipython3",
   "version": "3.10.10"
  },
  "orig_nbformat": 4
 },
 "nbformat": 4,
 "nbformat_minor": 2
}

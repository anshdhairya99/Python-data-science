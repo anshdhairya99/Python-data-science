{
 "cells": [
  {
   "cell_type": "markdown",
   "metadata": {},
   "source": [
    "#Condition \n",
    "-If\n",
    "-If Else\n",
    "-If Elif else\n",
    "-Match case # came in python version 10"
   ]
  },
  {
   "cell_type": "code",
   "execution_count": 1,
   "metadata": {},
   "outputs": [],
   "source": [
    "x = 10\n",
    "y = 3"
   ]
  },
  {
   "cell_type": "code",
   "execution_count": 5,
   "metadata": {},
   "outputs": [
    {
     "name": "stdout",
     "output_type": "stream",
     "text": [
      "x is greater than y\n",
      "that is true\n",
      "this is always printed\n"
     ]
    }
   ],
   "source": [
    "if x > y:\n",
    "    print(\"x is greater than y\")\n",
    "    print('that is true')\n",
    "print('this is always printed')    \n"
   ]
  },
  {
   "cell_type": "code",
   "execution_count": 6,
   "metadata": {},
   "outputs": [],
   "source": [
    "if x == y:\n",
    "    print(\"Wow\")\n"
   ]
  },
  {
   "cell_type": "code",
   "execution_count": 7,
   "metadata": {},
   "outputs": [
    {
     "name": "stdout",
     "output_type": "stream",
     "text": [
      "x is greater than y and x is greater than 8 \n"
     ]
    }
   ],
   "source": [
    "if x >y and x > 8:\n",
    "    print('x is greater than y and x is greater than 8 ')"
   ]
  },
  {
   "cell_type": "code",
   "execution_count": 8,
   "metadata": {},
   "outputs": [
    {
     "name": "stdout",
     "output_type": "stream",
     "text": [
      "Then print the Ansh\n"
     ]
    }
   ],
   "source": [
    "x = 100\n",
    "y = 50\n",
    "if x >y:\n",
    "    print(\"Then print the Ansh\")"
   ]
  },
  {
   "cell_type": "code",
   "execution_count": 9,
   "metadata": {},
   "outputs": [
    {
     "name": "stdout",
     "output_type": "stream",
     "text": [
      "Age 1 is also greater than age2\n"
     ]
    }
   ],
   "source": [
    "age1 = 20\n",
    "age2 = 18\n",
    "if age1>age2:\n",
    "    print(\"Age 1 is also greater than age2\")\n"
   ]
  },
  {
   "cell_type": "code",
   "execution_count": 10,
   "metadata": {},
   "outputs": [
    {
     "name": "stdout",
     "output_type": "stream",
     "text": [
      "Aman is equal to ansh then print the equality of the age\n"
     ]
    }
   ],
   "source": [
    "aman = 22\n",
    "ansh = 22\n",
    "if aman >= ansh:\n",
    "    print(\"Aman is equal to ansh then print the equality of the age\")"
   ]
  },
  {
   "cell_type": "code",
   "execution_count": 11,
   "metadata": {},
   "outputs": [
    {
     "name": "stdout",
     "output_type": "stream",
     "text": [
      "Then print the k and m are both are equally\n"
     ]
    }
   ],
   "source": [
    "k = 200\n",
    "m = 200\n",
    "if k == m:\n",
    "    print(\"Then print the k and m are both are equally\") "
   ]
  },
  {
   "cell_type": "markdown",
   "metadata": {},
   "source": [
    "True values\n",
    "- True\n",
    "-Non-zero numbers\n",
    "- non -emppty\n",
    "\n",
    "false values\n",
    "- False\n",
    "- 0\n",
    "-0.0\n",
    "-None\n",
    "- empty string"
   ]
  },
  {
   "cell_type": "code",
   "execution_count": 13,
   "metadata": {},
   "outputs": [
    {
     "name": "stdout",
     "output_type": "stream",
     "text": [
      " you entered 12\n"
     ]
    }
   ],
   "source": [
    "name = input('Enter the number')\n",
    "if name:\n",
    "    print(f' you entered {name}')\n",
    "else:\n",
    "    print('you did not entered a name')"
   ]
  },
  {
   "cell_type": "code",
   "execution_count": 21,
   "metadata": {},
   "outputs": [
    {
     "name": "stdout",
     "output_type": "stream",
     "text": [
      " you entered Ansh\n"
     ]
    }
   ],
   "source": [
    "name = input(\"Enter the name you want that\")\n",
    "if name:\n",
    "    print(f' you entered {name}')\n",
    "else:\n",
    "    print(\"you did not entered the name\")"
   ]
  },
  {
   "cell_type": "code",
   "execution_count": 22,
   "metadata": {},
   "outputs": [
    {
     "name": "stdout",
     "output_type": "stream",
     "text": [
      "even\n"
     ]
    }
   ],
   "source": [
    "# Question- Even, Odd, prime\n",
    "\n",
    "x = int(input('Enter a number'))\n",
    "if x%2 == 0:\n",
    "    print('even')\n",
    "else:\n",
    "    print('Odd')"
   ]
  },
  {
   "cell_type": "code",
   "execution_count": 24,
   "metadata": {},
   "outputs": [
    {
     "name": "stdout",
     "output_type": "stream",
     "text": [
      "Invalid username\n"
     ]
    }
   ],
   "source": [
    "username = input('Enter username')\n",
    "password = input('Enter password')\n",
    "if username == 'admin':\n",
    "    if password == '123admin':\n",
    "        print('Welcome admin')\n",
    "    else:\n",
    "        print('Invalid password')\n",
    "else:\n",
    "    print('Invalid username')\n",
    "\n",
    "\n"
   ]
  },
  {
   "cell_type": "code",
   "execution_count": 26,
   "metadata": {},
   "outputs": [
    {
     "name": "stdout",
     "output_type": "stream",
     "text": [
      "Holiday day\n"
     ]
    }
   ],
   "source": [
    "day = input('Enter day')\n",
    "if day == 'monday':\n",
    "    print('monday')\n",
    "elif day =='tuesday':\n",
    "    print('tuesday')\n",
    "elif day == 'wednesday':\n",
    "    print('wednesday')\n",
    "else:\n",
    "    print('Holiday day')\n",
    "\n"
   ]
  },
  {
   "cell_type": "code",
   "execution_count": 28,
   "metadata": {},
   "outputs": [],
   "source": [
    "day = input('Enter a day')\n",
    "match day:\n",
    "    case 'monday':\n",
    "        print('Time to work')\n",
    "    case 'tuesday':\n",
    "        print('Time to work')\n",
    "    case 'thursday':\n",
    "        print('Time to work')\n",
    "    case 'friday':\n",
    "        print('Time to work')\n",
    "    case 'Saturday':\n",
    "        print('Again time to work')\n",
    "    case 'sunday':\n",
    "        print('holidays')\n"
   ]
  },
  {
   "cell_type": "code",
   "execution_count": 31,
   "metadata": {},
   "outputs": [
    {
     "name": "stdout",
     "output_type": "stream",
     "text": [
      "you are birth in january\n"
     ]
    }
   ],
   "source": [
    "\n",
    "month = input('Enter the month')\n",
    "if month =='January':\n",
    "    print(\"you are birth in january\")\n",
    "\n",
    "\n",
    "\n"
   ]
  },
  {
   "cell_type": "code",
   "execution_count": null,
   "metadata": {},
   "outputs": [],
   "source": []
  }
 ],
 "metadata": {
  "kernelspec": {
   "display_name": "base",
   "language": "python",
   "name": "python3"
  },
  "language_info": {
   "codemirror_mode": {
    "name": "ipython",
    "version": 3
   },
   "file_extension": ".py",
   "mimetype": "text/x-python",
   "name": "python",
   "nbconvert_exporter": "python",
   "pygments_lexer": "ipython3",
   "version": "3.10.10"
  },
  "orig_nbformat": 4
 },
 "nbformat": 4,
 "nbformat_minor": 2
}
